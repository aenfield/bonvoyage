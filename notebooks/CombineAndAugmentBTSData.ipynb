{
 "cells": [
  {
   "cell_type": "code",
   "execution_count": 3,
   "metadata": {
    "ExecuteTime": {
     "end_time": "2018-08-02T16:28:31.049279Z",
     "start_time": "2018-08-02T16:28:29.769058Z"
    }
   },
   "outputs": [
    {
     "name": "stderr",
     "output_type": "stream",
     "text": [
      "/Users/andrewenfield/miniconda3/envs/anaconda/lib/python3.6/importlib/_bootstrap.py:219: RuntimeWarning: numpy.dtype size changed, may indicate binary incompatibility. Expected 96, got 88\n",
      "  return f(*args, **kwds)\n",
      "/Users/andrewenfield/miniconda3/envs/anaconda/lib/python3.6/importlib/_bootstrap.py:219: RuntimeWarning: numpy.dtype size changed, may indicate binary incompatibility. Expected 96, got 88\n",
      "  return f(*args, **kwds)\n"
     ]
    }
   ],
   "source": [
    "import pandas as pd\n",
    "import numpy as np\n",
    "import matplotlib.pyplot as plt\n",
    "import seaborn as sns\n",
    "\n",
    "%matplotlib inline\n",
    "\n",
    "# \"RuntimeWarning: numpy.dtype size changed, may indicate binary incompatibility\"\n",
    "# errors are ok, per https://stackoverflow.com/questions/40845304/runtimewarning-numpy-dtype-size-changed-may-indicate-binary-incompatibility"
   ]
  },
  {
   "cell_type": "code",
   "execution_count": 80,
   "metadata": {
    "ExecuteTime": {
     "end_time": "2018-08-02T16:59:51.238943Z",
     "start_time": "2018-08-02T16:59:51.235194Z"
    }
   },
   "outputs": [],
   "source": [
    "file_prefix = '../data/362070167_T_ONTIME-'\n",
    "#file_month_range = range(1,3)\n",
    "file_month_range = range(1,13)"
   ]
  },
  {
   "cell_type": "code",
   "execution_count": 81,
   "metadata": {
    "ExecuteTime": {
     "end_time": "2018-08-02T16:59:51.695467Z",
     "start_time": "2018-08-02T16:59:51.690450Z"
    }
   },
   "outputs": [],
   "source": [
    "dtypes = {\n",
    "    'CARRIER': 'category'\n",
    "    ,'TAIL_NUM': 'category'\n",
    "    ,'ORIGIN': 'category'\n",
    "    ,'ORIGIN_CITY_NAME': 'category'\n",
    "    ,'DEST': 'category'\n",
    "    ,'DEST_CITY_NAME': 'category'\n",
    "    ,'CANCELLATION_CODE': 'category'}"
   ]
  },
  {
   "cell_type": "code",
   "execution_count": 82,
   "metadata": {
    "ExecuteTime": {
     "end_time": "2018-08-02T17:00:25.040887Z",
     "start_time": "2018-08-02T16:59:52.149748Z"
    }
   },
   "outputs": [],
   "source": [
    "d_by_month = []\n",
    "for month_index in file_month_range:\n",
    "    d_by_month.append(pd.read_csv(f'{file_prefix}{month_index}.csv', dtype=dtypes))"
   ]
  },
  {
   "cell_type": "code",
   "execution_count": 83,
   "metadata": {
    "ExecuteTime": {
     "end_time": "2018-08-02T17:00:25.049538Z",
     "start_time": "2018-08-02T17:00:25.042851Z"
    }
   },
   "outputs": [
    {
     "name": "stdout",
     "output_type": "stream",
     "text": [
      "0 (450017, 34)\n",
      "1 (410517, 34)\n",
      "2 (488597, 34)\n",
      "3 (468329, 34)\n",
      "4 (486483, 34)\n",
      "5 (494266, 34)\n",
      "6 (509070, 34)\n",
      "7 (510451, 34)\n",
      "8 (458727, 34)\n",
      "9 (479797, 34)\n",
      "10 (454162, 34)\n",
      "11 (464205, 34)\n"
     ]
    }
   ],
   "source": [
    "for idx, d_month in enumerate(d_by_month):\n",
    "    print(idx, d_month.shape)"
   ]
  },
  {
   "cell_type": "code",
   "execution_count": 84,
   "metadata": {
    "ExecuteTime": {
     "end_time": "2018-08-02T17:00:30.775755Z",
     "start_time": "2018-08-02T17:00:25.052100Z"
    }
   },
   "outputs": [
    {
     "data": {
      "text/plain": [
       "(5674621, 34)"
      ]
     },
     "execution_count": 84,
     "metadata": {},
     "output_type": "execute_result"
    }
   ],
   "source": [
    "d = pd.concat(d_by_month, ignore_index=True)\n",
    "d.shape"
   ]
  },
  {
   "cell_type": "markdown",
   "metadata": {},
   "source": [
    "Even if we read the data individually as categories, we don't retain that type after the concat for every field (probably because the fields have different unique values). We can get back to the categorical type, and a smaller dataframe, by reapplying the type."
   ]
  },
  {
   "cell_type": "code",
   "execution_count": 85,
   "metadata": {
    "ExecuteTime": {
     "end_time": "2018-08-02T17:00:35.400305Z",
     "start_time": "2018-08-02T17:00:32.551437Z"
    }
   },
   "outputs": [],
   "source": [
    "for field in dtypes:\n",
    "    d[field] = d[field].astype(dtypes[field])"
   ]
  },
  {
   "cell_type": "markdown",
   "metadata": {},
   "source": [
    "And we'll get a datetime too."
   ]
  },
  {
   "cell_type": "code",
   "execution_count": 86,
   "metadata": {
    "ExecuteTime": {
     "end_time": "2018-08-02T17:00:36.581157Z",
     "start_time": "2018-08-02T17:00:35.403192Z"
    }
   },
   "outputs": [],
   "source": [
    "d['FL_DATE'] = pd.to_datetime(d['FL_DATE'])"
   ]
  },
  {
   "cell_type": "code",
   "execution_count": 87,
   "metadata": {
    "ExecuteTime": {
     "end_time": "2018-08-02T17:00:37.437901Z",
     "start_time": "2018-08-02T17:00:37.430921Z"
    }
   },
   "outputs": [],
   "source": [
    "def mem_usage(pandas_obj):\n",
    "    if isinstance(pandas_obj,pd.DataFrame):\n",
    "        usage_b = pandas_obj.memory_usage(deep=True).sum()\n",
    "    else: # we assume if not a df it's a series\n",
    "        usage_b = pandas_obj.memory_usage(deep=True)\n",
    "    usage_mb = usage_b / 1024 ** 2 # convert bytes to megabytes\n",
    "    return \"{:03.2f} MB\".format(usage_mb)"
   ]
  },
  {
   "cell_type": "code",
   "execution_count": 88,
   "metadata": {
    "ExecuteTime": {
     "end_time": "2018-08-02T17:00:37.754107Z",
     "start_time": "2018-08-02T17:00:37.740582Z"
    }
   },
   "outputs": [
    {
     "data": {
      "text/plain": [
       "'1234.44 MB'"
      ]
     },
     "execution_count": 88,
     "metadata": {},
     "output_type": "execute_result"
    }
   ],
   "source": [
    "mem_usage(d)"
   ]
  },
  {
   "cell_type": "code",
   "execution_count": 89,
   "metadata": {
    "ExecuteTime": {
     "end_time": "2018-08-02T17:00:40.505746Z",
     "start_time": "2018-08-02T17:00:40.496654Z"
    }
   },
   "outputs": [
    {
     "data": {
      "text/plain": [
       "FL_DATE                datetime64[ns]\n",
       "CARRIER                      category\n",
       "TAIL_NUM                     category\n",
       "FL_NUM                          int64\n",
       "ORIGIN                       category\n",
       "ORIGIN_CITY_NAME             category\n",
       "DEST                         category\n",
       "DEST_CITY_NAME               category\n",
       "CRS_DEP_TIME                    int64\n",
       "DEP_TIME                      float64\n",
       "DEP_DELAY                     float64\n",
       "DEP_DELAY_NEW                 float64\n",
       "TAXI_OUT                      float64\n",
       "WHEELS_OFF                    float64\n",
       "WHEELS_ON                     float64\n",
       "TAXI_IN                       float64\n",
       "CRS_ARR_TIME                    int64\n",
       "ARR_TIME                      float64\n",
       "ARR_DELAY                     float64\n",
       "ARR_DELAY_NEW                 float64\n",
       "CANCELLED                     float64\n",
       "CANCELLATION_CODE            category\n",
       "DIVERTED                      float64\n",
       "CRS_ELAPSED_TIME              float64\n",
       "ACTUAL_ELAPSED_TIME           float64\n",
       "AIR_TIME                      float64\n",
       "FLIGHTS                       float64\n",
       "DISTANCE                      float64\n",
       "CARRIER_DELAY                 float64\n",
       "WEATHER_DELAY                 float64\n",
       "NAS_DELAY                     float64\n",
       "SECURITY_DELAY                float64\n",
       "LATE_AIRCRAFT_DELAY           float64\n",
       "Unnamed: 33                   float64\n",
       "dtype: object"
      ]
     },
     "execution_count": 89,
     "metadata": {},
     "output_type": "execute_result"
    }
   ],
   "source": [
    "d.dtypes"
   ]
  },
  {
   "cell_type": "code",
   "execution_count": 90,
   "metadata": {
    "ExecuteTime": {
     "end_time": "2018-08-02T17:00:42.557075Z",
     "start_time": "2018-08-02T17:00:42.527565Z"
    }
   },
   "outputs": [
    {
     "data": {
      "text/html": [
       "<div>\n",
       "<style scoped>\n",
       "    .dataframe tbody tr th:only-of-type {\n",
       "        vertical-align: middle;\n",
       "    }\n",
       "\n",
       "    .dataframe tbody tr th {\n",
       "        vertical-align: top;\n",
       "    }\n",
       "\n",
       "    .dataframe thead th {\n",
       "        text-align: right;\n",
       "    }\n",
       "</style>\n",
       "<table border=\"1\" class=\"dataframe\">\n",
       "  <thead>\n",
       "    <tr style=\"text-align: right;\">\n",
       "      <th></th>\n",
       "      <th>FL_DATE</th>\n",
       "      <th>CARRIER</th>\n",
       "      <th>TAIL_NUM</th>\n",
       "      <th>FL_NUM</th>\n",
       "      <th>ORIGIN</th>\n",
       "      <th>ORIGIN_CITY_NAME</th>\n",
       "      <th>DEST</th>\n",
       "      <th>DEST_CITY_NAME</th>\n",
       "      <th>CRS_DEP_TIME</th>\n",
       "      <th>DEP_TIME</th>\n",
       "      <th>...</th>\n",
       "      <th>ACTUAL_ELAPSED_TIME</th>\n",
       "      <th>AIR_TIME</th>\n",
       "      <th>FLIGHTS</th>\n",
       "      <th>DISTANCE</th>\n",
       "      <th>CARRIER_DELAY</th>\n",
       "      <th>WEATHER_DELAY</th>\n",
       "      <th>NAS_DELAY</th>\n",
       "      <th>SECURITY_DELAY</th>\n",
       "      <th>LATE_AIRCRAFT_DELAY</th>\n",
       "      <th>Unnamed: 33</th>\n",
       "    </tr>\n",
       "  </thead>\n",
       "  <tbody>\n",
       "    <tr>\n",
       "      <th>0</th>\n",
       "      <td>2017-01-01</td>\n",
       "      <td>AA</td>\n",
       "      <td>N153AA</td>\n",
       "      <td>1766</td>\n",
       "      <td>ORD</td>\n",
       "      <td>Chicago, IL</td>\n",
       "      <td>DFW</td>\n",
       "      <td>Dallas/Fort Worth, TX</td>\n",
       "      <td>710</td>\n",
       "      <td>705.0</td>\n",
       "      <td>...</td>\n",
       "      <td>147.0</td>\n",
       "      <td>121.0</td>\n",
       "      <td>1.0</td>\n",
       "      <td>802.0</td>\n",
       "      <td>NaN</td>\n",
       "      <td>NaN</td>\n",
       "      <td>NaN</td>\n",
       "      <td>NaN</td>\n",
       "      <td>NaN</td>\n",
       "      <td>NaN</td>\n",
       "    </tr>\n",
       "  </tbody>\n",
       "</table>\n",
       "<p>1 rows × 34 columns</p>\n",
       "</div>"
      ],
      "text/plain": [
       "     FL_DATE CARRIER TAIL_NUM  FL_NUM ORIGIN ORIGIN_CITY_NAME DEST  \\\n",
       "0 2017-01-01      AA   N153AA    1766    ORD      Chicago, IL  DFW   \n",
       "\n",
       "          DEST_CITY_NAME  CRS_DEP_TIME  DEP_TIME     ...       \\\n",
       "0  Dallas/Fort Worth, TX           710     705.0     ...        \n",
       "\n",
       "   ACTUAL_ELAPSED_TIME  AIR_TIME  FLIGHTS  DISTANCE  CARRIER_DELAY  \\\n",
       "0                147.0     121.0      1.0     802.0            NaN   \n",
       "\n",
       "   WEATHER_DELAY  NAS_DELAY  SECURITY_DELAY  LATE_AIRCRAFT_DELAY  Unnamed: 33  \n",
       "0            NaN        NaN             NaN                  NaN          NaN  \n",
       "\n",
       "[1 rows x 34 columns]"
      ]
     },
     "execution_count": 90,
     "metadata": {},
     "output_type": "execute_result"
    }
   ],
   "source": [
    "d[:1]"
   ]
  },
  {
   "cell_type": "code",
   "execution_count": 91,
   "metadata": {
    "ExecuteTime": {
     "end_time": "2018-08-02T17:00:54.252771Z",
     "start_time": "2018-08-02T17:00:52.847554Z"
    }
   },
   "outputs": [
    {
     "data": {
      "text/plain": [
       "<matplotlib.axes._subplots.AxesSubplot at 0x11605e7b8>"
      ]
     },
     "execution_count": 91,
     "metadata": {},
     "output_type": "execute_result"
    },
    {
     "data": {
      "image/png": "[encoded data removed]",
      "text/plain": [
       "<matplotlib.figure.Figure at 0x11605e5f8>"
      ]
     },
     "metadata": {},
     "output_type": "display_data"
    }
   ],
   "source": [
    "d['FL_DATE'].hist()"
   ]
  },
  {
   "cell_type": "code",
   "execution_count": null,
   "metadata": {},
   "outputs": [],
   "source": []
  }
 ],
 "metadata": {
  "kernelspec": {
   "display_name": "Python 3",
   "language": "python",
   "name": "python3"
  },
  "language_info": {
   "codemirror_mode": {
    "name": "ipython",
    "version": 3
   },
   "file_extension": ".py",
   "mimetype": "text/x-python",
   "name": "python",
   "nbconvert_exporter": "python",
   "pygments_lexer": "ipython3",
   "version": "3.6.4"
  }
 },
 "nbformat": 4,
 "nbformat_minor": 2
}
