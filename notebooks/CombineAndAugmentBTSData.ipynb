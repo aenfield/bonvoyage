{
 "cells": [
  {
   "cell_type": "code",
   "execution_count": 1,
   "metadata": {
    "ExecuteTime": {
     "end_time": "2018-08-05T19:00:33.955335Z",
     "start_time": "2018-08-05T19:00:31.897599Z"
    }
   },
   "outputs": [],
   "source": [
    "import pandas as pd\n",
    "import numpy as np\n",
    "import matplotlib.pyplot as plt\n",
    "import seaborn as sns\n",
    "\n",
    "%matplotlib inline\n",
    "\n",
    "# \"RuntimeWarning: numpy.dtype size changed, may indicate binary incompatibility\"\n",
    "# errors are ok, per https://stackoverflow.com/questions/40845304/runtimewarning-numpy-dtype-size-changed-may-indicate-binary-incompatibility"
   ]
  },
  {
   "cell_type": "code",
   "execution_count": 2,
   "metadata": {
    "ExecuteTime": {
     "end_time": "2018-08-05T19:00:33.961746Z",
     "start_time": "2018-08-05T19:00:33.957890Z"
    }
   },
   "outputs": [],
   "source": [
    "pd.options.display.max_rows = 100"
   ]
  },
  {
   "cell_type": "code",
   "execution_count": 185,
   "metadata": {
    "ExecuteTime": {
     "end_time": "2018-08-09T16:55:31.377850Z",
     "start_time": "2018-08-09T16:55:31.369057Z"
    }
   },
   "outputs": [],
   "source": [
    "file_prefix = '../data/362070167_T_ONTIME-'\n",
    "#file_month_range = range(1,3)\n",
    "file_month_range = range(1,13)"
   ]
  },
  {
   "cell_type": "code",
   "execution_count": 186,
   "metadata": {
    "ExecuteTime": {
     "end_time": "2018-08-09T16:55:31.768159Z",
     "start_time": "2018-08-09T16:55:31.762029Z"
    }
   },
   "outputs": [],
   "source": [
    "dtypes_bts = {\n",
    "    'CARRIER': 'category'\n",
    "    ,'TAIL_NUM': 'category'\n",
    "    ,'ORIGIN': 'category'\n",
    "    ,'ORIGIN_CITY_NAME': 'category'\n",
    "    ,'DEST': 'category'\n",
    "    ,'DEST_CITY_NAME': 'category'\n",
    "    ,'CANCELLATION_CODE': 'category'}"
   ]
  },
  {
   "cell_type": "code",
   "execution_count": 187,
   "metadata": {
    "ExecuteTime": {
     "end_time": "2018-08-09T16:56:04.776832Z",
     "start_time": "2018-08-09T16:55:32.140047Z"
    }
   },
   "outputs": [],
   "source": [
    "d_bts_by_month = []\n",
    "for month_index in file_month_range:\n",
    "    d_bts_by_month.append(pd.read_csv(f'{file_prefix}{month_index}.csv', dtype=dtypes_bts))"
   ]
  },
  {
   "cell_type": "code",
   "execution_count": 188,
   "metadata": {
    "ExecuteTime": {
     "end_time": "2018-08-09T16:56:04.785925Z",
     "start_time": "2018-08-09T16:56:04.779155Z"
    }
   },
   "outputs": [
    {
     "name": "stdout",
     "output_type": "stream",
     "text": [
      "0 (450017, 34)\n",
      "1 (410517, 34)\n",
      "2 (488597, 34)\n",
      "3 (468329, 34)\n",
      "4 (486483, 34)\n",
      "5 (494266, 34)\n",
      "6 (509070, 34)\n",
      "7 (510451, 34)\n",
      "8 (458727, 34)\n",
      "9 (479797, 34)\n",
      "10 (454162, 34)\n",
      "11 (464205, 34)\n"
     ]
    }
   ],
   "source": [
    "for idx, d_month in enumerate(d_bts_by_month):\n",
    "    print(idx, d_month.shape)"
   ]
  },
  {
   "cell_type": "code",
   "execution_count": 189,
   "metadata": {
    "ExecuteTime": {
     "end_time": "2018-08-09T16:56:10.446907Z",
     "start_time": "2018-08-09T16:56:04.788149Z"
    }
   },
   "outputs": [
    {
     "data": {
      "text/plain": [
       "(5674621, 34)"
      ]
     },
     "execution_count": 189,
     "metadata": {},
     "output_type": "execute_result"
    }
   ],
   "source": [
    "d_bts = pd.concat(d_bts_by_month, ignore_index=True)\n",
    "d_bts.shape"
   ]
  },
  {
   "cell_type": "markdown",
   "metadata": {},
   "source": [
    "Even if we read the data individually as categories, we don't retain that type after the concat for every field (probably because the fields have different unique values). We can get back to the categorical type, and a smaller dataframe, by reapplying the type."
   ]
  },
  {
   "cell_type": "code",
   "execution_count": 190,
   "metadata": {
    "ExecuteTime": {
     "end_time": "2018-08-09T16:56:34.117278Z",
     "start_time": "2018-08-09T16:56:31.145921Z"
    }
   },
   "outputs": [],
   "source": [
    "for field in dtypes_bts:\n",
    "    d_bts[field] = d_bts[field].astype(dtypes_bts[field])"
   ]
  },
  {
   "cell_type": "markdown",
   "metadata": {},
   "source": [
    "And we'll get a datetime too."
   ]
  },
  {
   "cell_type": "code",
   "execution_count": 191,
   "metadata": {
    "ExecuteTime": {
     "end_time": "2018-08-09T16:56:35.252190Z",
     "start_time": "2018-08-09T16:56:34.119310Z"
    }
   },
   "outputs": [],
   "source": [
    "d_bts['FL_DATE'] = pd.to_datetime(d_bts['FL_DATE'])"
   ]
  },
  {
   "cell_type": "code",
   "execution_count": 192,
   "metadata": {
    "ExecuteTime": {
     "end_time": "2018-08-09T16:56:35.268940Z",
     "start_time": "2018-08-09T16:56:35.255319Z"
    }
   },
   "outputs": [],
   "source": [
    "def mem_usage(pandas_obj):\n",
    "    if isinstance(pandas_obj,pd.DataFrame):\n",
    "        usage_b = pandas_obj.memory_usage(deep=True).sum()\n",
    "    else: # we assume if not a df it's a series\n",
    "        usage_b = pandas_obj.memory_usage(deep=True)\n",
    "    usage_mb = usage_b / 1024 ** 2 # convert bytes to megabytes\n",
    "    return \"{:03.2f} MB\".format(usage_mb)"
   ]
  },
  {
   "cell_type": "code",
   "execution_count": 193,
   "metadata": {
    "ExecuteTime": {
     "end_time": "2018-08-09T16:56:36.166475Z",
     "start_time": "2018-08-09T16:56:36.152969Z"
    }
   },
   "outputs": [
    {
     "data": {
      "text/plain": [
       "'1234.44 MB'"
      ]
     },
     "execution_count": 193,
     "metadata": {},
     "output_type": "execute_result"
    }
   ],
   "source": [
    "mem_usage(d_bts)"
   ]
  },
  {
   "cell_type": "code",
   "execution_count": 194,
   "metadata": {
    "ExecuteTime": {
     "end_time": "2018-08-09T16:56:37.323340Z",
     "start_time": "2018-08-09T16:56:37.314041Z"
    }
   },
   "outputs": [
    {
     "data": {
      "text/plain": [
       "FL_DATE                datetime64[ns]\n",
       "CARRIER                      category\n",
       "TAIL_NUM                     category\n",
       "FL_NUM                          int64\n",
       "ORIGIN                       category\n",
       "ORIGIN_CITY_NAME             category\n",
       "DEST                         category\n",
       "DEST_CITY_NAME               category\n",
       "CRS_DEP_TIME                    int64\n",
       "DEP_TIME                      float64\n",
       "DEP_DELAY                     float64\n",
       "DEP_DELAY_NEW                 float64\n",
       "TAXI_OUT                      float64\n",
       "WHEELS_OFF                    float64\n",
       "WHEELS_ON                     float64\n",
       "TAXI_IN                       float64\n",
       "CRS_ARR_TIME                    int64\n",
       "ARR_TIME                      float64\n",
       "ARR_DELAY                     float64\n",
       "ARR_DELAY_NEW                 float64\n",
       "CANCELLED                     float64\n",
       "CANCELLATION_CODE            category\n",
       "DIVERTED                      float64\n",
       "CRS_ELAPSED_TIME              float64\n",
       "ACTUAL_ELAPSED_TIME           float64\n",
       "AIR_TIME                      float64\n",
       "FLIGHTS                       float64\n",
       "DISTANCE                      float64\n",
       "CARRIER_DELAY                 float64\n",
       "WEATHER_DELAY                 float64\n",
       "NAS_DELAY                     float64\n",
       "SECURITY_DELAY                float64\n",
       "LATE_AIRCRAFT_DELAY           float64\n",
       "Unnamed: 33                   float64\n",
       "dtype: object"
      ]
     },
     "execution_count": 194,
     "metadata": {},
     "output_type": "execute_result"
    }
   ],
   "source": [
    "d_bts.dtypes"
   ]
  },
  {
   "cell_type": "code",
   "execution_count": 195,
   "metadata": {
    "ExecuteTime": {
     "end_time": "2018-08-09T16:56:37.896497Z",
     "start_time": "2018-08-09T16:56:37.865380Z"
    }
   },
   "outputs": [
    {
     "data": {
      "text/html": [
       "<div>\n",
       "<style scoped>\n",
       "    .dataframe tbody tr th:only-of-type {\n",
       "        vertical-align: middle;\n",
       "    }\n",
       "\n",
       "    .dataframe tbody tr th {\n",
       "        vertical-align: top;\n",
       "    }\n",
       "\n",
       "    .dataframe thead th {\n",
       "        text-align: right;\n",
       "    }\n",
       "</style>\n",
       "<table border=\"1\" class=\"dataframe\">\n",
       "  <thead>\n",
       "    <tr style=\"text-align: right;\">\n",
       "      <th></th>\n",
       "      <th>FL_DATE</th>\n",
       "      <th>CARRIER</th>\n",
       "      <th>TAIL_NUM</th>\n",
       "      <th>FL_NUM</th>\n",
       "      <th>ORIGIN</th>\n",
       "      <th>ORIGIN_CITY_NAME</th>\n",
       "      <th>DEST</th>\n",
       "      <th>DEST_CITY_NAME</th>\n",
       "      <th>CRS_DEP_TIME</th>\n",
       "      <th>DEP_TIME</th>\n",
       "      <th>...</th>\n",
       "      <th>ACTUAL_ELAPSED_TIME</th>\n",
       "      <th>AIR_TIME</th>\n",
       "      <th>FLIGHTS</th>\n",
       "      <th>DISTANCE</th>\n",
       "      <th>CARRIER_DELAY</th>\n",
       "      <th>WEATHER_DELAY</th>\n",
       "      <th>NAS_DELAY</th>\n",
       "      <th>SECURITY_DELAY</th>\n",
       "      <th>LATE_AIRCRAFT_DELAY</th>\n",
       "      <th>Unnamed: 33</th>\n",
       "    </tr>\n",
       "  </thead>\n",
       "  <tbody>\n",
       "    <tr>\n",
       "      <th>0</th>\n",
       "      <td>2017-01-01</td>\n",
       "      <td>AA</td>\n",
       "      <td>N153AA</td>\n",
       "      <td>1766</td>\n",
       "      <td>ORD</td>\n",
       "      <td>Chicago, IL</td>\n",
       "      <td>DFW</td>\n",
       "      <td>Dallas/Fort Worth, TX</td>\n",
       "      <td>710</td>\n",
       "      <td>705.0</td>\n",
       "      <td>...</td>\n",
       "      <td>147.0</td>\n",
       "      <td>121.0</td>\n",
       "      <td>1.0</td>\n",
       "      <td>802.0</td>\n",
       "      <td>NaN</td>\n",
       "      <td>NaN</td>\n",
       "      <td>NaN</td>\n",
       "      <td>NaN</td>\n",
       "      <td>NaN</td>\n",
       "      <td>NaN</td>\n",
       "    </tr>\n",
       "  </tbody>\n",
       "</table>\n",
       "<p>1 rows × 34 columns</p>\n",
       "</div>"
      ],
      "text/plain": [
       "     FL_DATE CARRIER TAIL_NUM  FL_NUM ORIGIN ORIGIN_CITY_NAME DEST  \\\n",
       "0 2017-01-01      AA   N153AA    1766    ORD      Chicago, IL  DFW   \n",
       "\n",
       "          DEST_CITY_NAME  CRS_DEP_TIME  DEP_TIME     ...       \\\n",
       "0  Dallas/Fort Worth, TX           710     705.0     ...        \n",
       "\n",
       "   ACTUAL_ELAPSED_TIME  AIR_TIME  FLIGHTS  DISTANCE  CARRIER_DELAY  \\\n",
       "0                147.0     121.0      1.0     802.0            NaN   \n",
       "\n",
       "   WEATHER_DELAY  NAS_DELAY  SECURITY_DELAY  LATE_AIRCRAFT_DELAY  Unnamed: 33  \n",
       "0            NaN        NaN             NaN                  NaN          NaN  \n",
       "\n",
       "[1 rows x 34 columns]"
      ]
     },
     "execution_count": 195,
     "metadata": {},
     "output_type": "execute_result"
    }
   ],
   "source": [
    "d_bts[:1]"
   ]
  },
  {
   "cell_type": "code",
   "execution_count": 196,
   "metadata": {
    "ExecuteTime": {
     "end_time": "2018-08-09T16:56:39.282495Z",
     "start_time": "2018-08-09T16:56:38.689547Z"
    }
   },
   "outputs": [
    {
     "data": {
      "text/plain": [
       "<matplotlib.axes._subplots.AxesSubplot at 0x1ad038d588>"
      ]
     },
     "execution_count": 196,
     "metadata": {},
     "output_type": "execute_result"
    },
    {
     "data": {
      "image/png": "[encoded data removed]",
      "text/plain": [
       "<matplotlib.figure.Figure at 0x1acdba8240>"
      ]
     },
     "metadata": {},
     "output_type": "display_data"
    }
   ],
   "source": [
    "d_bts['FL_DATE'].hist()"
   ]
  },
  {
   "cell_type": "markdown",
   "metadata": {},
   "source": [
    "# Airports - additional data"
   ]
  },
  {
   "cell_type": "code",
   "execution_count": 197,
   "metadata": {
    "ExecuteTime": {
     "end_time": "2018-08-09T16:56:40.402027Z",
     "start_time": "2018-08-09T16:56:40.392781Z"
    }
   },
   "outputs": [],
   "source": [
    "dtypes_airports = {\n",
    "    'Name': 'category'\n",
    "    ,'City': 'category'\n",
    "    ,'Country': 'category'\n",
    "    ,'IATA': 'category'\n",
    "    ,'ICAO': 'category'\n",
    "    ,'Timezone': 'category'\n",
    "    ,'DST': 'category'\n",
    "    ,'TzTimezone': 'category'\n",
    "    ,'Type': 'category'\n",
    "    ,'Source': 'category'}"
   ]
  },
  {
   "cell_type": "code",
   "execution_count": 198,
   "metadata": {
    "ExecuteTime": {
     "end_time": "2018-08-09T16:56:41.162723Z",
     "start_time": "2018-08-09T16:56:41.031432Z"
    }
   },
   "outputs": [
    {
     "data": {
      "text/plain": [
       "(7184, 14)"
      ]
     },
     "execution_count": 198,
     "metadata": {},
     "output_type": "execute_result"
    }
   ],
   "source": [
    "d_airports = pd.read_csv('../data/airports.csv', dtype=dtypes_airports)\n",
    "d_airports.shape"
   ]
  },
  {
   "cell_type": "code",
   "execution_count": 199,
   "metadata": {
    "ExecuteTime": {
     "end_time": "2018-08-09T16:56:41.624720Z",
     "start_time": "2018-08-09T16:56:41.611541Z"
    }
   },
   "outputs": [
    {
     "data": {
      "text/plain": [
       "[FL_DATE                datetime64[ns]\n",
       " CARRIER                      category\n",
       " TAIL_NUM                     category\n",
       " FL_NUM                          int64\n",
       " ORIGIN                       category\n",
       " ORIGIN_CITY_NAME             category\n",
       " DEST                         category\n",
       " DEST_CITY_NAME               category\n",
       " CRS_DEP_TIME                    int64\n",
       " DEP_TIME                      float64\n",
       " DEP_DELAY                     float64\n",
       " DEP_DELAY_NEW                 float64\n",
       " TAXI_OUT                      float64\n",
       " WHEELS_OFF                    float64\n",
       " WHEELS_ON                     float64\n",
       " TAXI_IN                       float64\n",
       " CRS_ARR_TIME                    int64\n",
       " ARR_TIME                      float64\n",
       " ARR_DELAY                     float64\n",
       " ARR_DELAY_NEW                 float64\n",
       " CANCELLED                     float64\n",
       " CANCELLATION_CODE            category\n",
       " DIVERTED                      float64\n",
       " CRS_ELAPSED_TIME              float64\n",
       " ACTUAL_ELAPSED_TIME           float64\n",
       " AIR_TIME                      float64\n",
       " FLIGHTS                       float64\n",
       " DISTANCE                      float64\n",
       " CARRIER_DELAY                 float64\n",
       " WEATHER_DELAY                 float64\n",
       " NAS_DELAY                     float64\n",
       " SECURITY_DELAY                float64\n",
       " LATE_AIRCRAFT_DELAY           float64\n",
       " Unnamed: 33                   float64\n",
       " dtype: object, AirportID        int64\n",
       " Name          category\n",
       " City          category\n",
       " Country       category\n",
       " IATA          category\n",
       " ICAO          category\n",
       " Latitude       float64\n",
       " Longitude      float64\n",
       " Altitude         int64\n",
       " Timezone      category\n",
       " DST           category\n",
       " TzTimezone    category\n",
       " Type          category\n",
       " Source        category\n",
       " dtype: object]"
      ]
     },
     "execution_count": 199,
     "metadata": {},
     "output_type": "execute_result"
    }
   ],
   "source": [
    "[d_bts.dtypes, d_airports.dtypes]"
   ]
  },
  {
   "cell_type": "code",
   "execution_count": 200,
   "metadata": {
    "ExecuteTime": {
     "end_time": "2018-08-09T16:57:01.143907Z",
     "start_time": "2018-08-09T16:56:42.419279Z"
    }
   },
   "outputs": [
    {
     "data": {
      "text/html": [
       "<div>\n",
       "<style scoped>\n",
       "    .dataframe tbody tr th:only-of-type {\n",
       "        vertical-align: middle;\n",
       "    }\n",
       "\n",
       "    .dataframe tbody tr th {\n",
       "        vertical-align: top;\n",
       "    }\n",
       "\n",
       "    .dataframe thead th {\n",
       "        text-align: right;\n",
       "    }\n",
       "</style>\n",
       "<table border=\"1\" class=\"dataframe\">\n",
       "  <thead>\n",
       "    <tr style=\"text-align: right;\">\n",
       "      <th></th>\n",
       "      <th>FL_DATE</th>\n",
       "      <th>CARRIER</th>\n",
       "      <th>TAIL_NUM</th>\n",
       "      <th>FL_NUM</th>\n",
       "      <th>ORIGIN</th>\n",
       "      <th>ORIGIN_CITY_NAME</th>\n",
       "      <th>DEST</th>\n",
       "      <th>DEST_CITY_NAME</th>\n",
       "      <th>CRS_DEP_TIME</th>\n",
       "      <th>DEP_TIME</th>\n",
       "      <th>...</th>\n",
       "      <th>IATA</th>\n",
       "      <th>ICAO</th>\n",
       "      <th>Latitude</th>\n",
       "      <th>Longitude</th>\n",
       "      <th>Altitude</th>\n",
       "      <th>Timezone</th>\n",
       "      <th>DST</th>\n",
       "      <th>TzTimezone</th>\n",
       "      <th>Type</th>\n",
       "      <th>Source</th>\n",
       "    </tr>\n",
       "  </thead>\n",
       "  <tbody>\n",
       "    <tr>\n",
       "      <th>0</th>\n",
       "      <td>2017-01-01</td>\n",
       "      <td>AA</td>\n",
       "      <td>N153AA</td>\n",
       "      <td>1766</td>\n",
       "      <td>ORD</td>\n",
       "      <td>Chicago, IL</td>\n",
       "      <td>DFW</td>\n",
       "      <td>Dallas/Fort Worth, TX</td>\n",
       "      <td>710</td>\n",
       "      <td>705.0</td>\n",
       "      <td>...</td>\n",
       "      <td>ORD</td>\n",
       "      <td>KORD</td>\n",
       "      <td>41.978600</td>\n",
       "      <td>-87.904800</td>\n",
       "      <td>672.0</td>\n",
       "      <td>-6</td>\n",
       "      <td>A</td>\n",
       "      <td>America/Chicago</td>\n",
       "      <td>airport</td>\n",
       "      <td>OurAirports</td>\n",
       "    </tr>\n",
       "    <tr>\n",
       "      <th>1</th>\n",
       "      <td>2017-01-01</td>\n",
       "      <td>AA</td>\n",
       "      <td>N192AA</td>\n",
       "      <td>1767</td>\n",
       "      <td>LAS</td>\n",
       "      <td>Las Vegas, NV</td>\n",
       "      <td>DFW</td>\n",
       "      <td>Dallas/Fort Worth, TX</td>\n",
       "      <td>1235</td>\n",
       "      <td>1235.0</td>\n",
       "      <td>...</td>\n",
       "      <td>LAS</td>\n",
       "      <td>KLAS</td>\n",
       "      <td>36.080101</td>\n",
       "      <td>-115.152000</td>\n",
       "      <td>2181.0</td>\n",
       "      <td>-8</td>\n",
       "      <td>A</td>\n",
       "      <td>America/Los_Angeles</td>\n",
       "      <td>airport</td>\n",
       "      <td>OurAirports</td>\n",
       "    </tr>\n",
       "    <tr>\n",
       "      <th>2</th>\n",
       "      <td>2017-01-01</td>\n",
       "      <td>AA</td>\n",
       "      <td>N829AA</td>\n",
       "      <td>1768</td>\n",
       "      <td>DCA</td>\n",
       "      <td>Washington, DC</td>\n",
       "      <td>MIA</td>\n",
       "      <td>Miami, FL</td>\n",
       "      <td>1020</td>\n",
       "      <td>1015.0</td>\n",
       "      <td>...</td>\n",
       "      <td>DCA</td>\n",
       "      <td>KDCA</td>\n",
       "      <td>38.852100</td>\n",
       "      <td>-77.037697</td>\n",
       "      <td>15.0</td>\n",
       "      <td>-5</td>\n",
       "      <td>A</td>\n",
       "      <td>America/New_York</td>\n",
       "      <td>airport</td>\n",
       "      <td>OurAirports</td>\n",
       "    </tr>\n",
       "  </tbody>\n",
       "</table>\n",
       "<p>3 rows × 48 columns</p>\n",
       "</div>"
      ],
      "text/plain": [
       "     FL_DATE CARRIER TAIL_NUM  FL_NUM ORIGIN ORIGIN_CITY_NAME DEST  \\\n",
       "0 2017-01-01      AA   N153AA    1766    ORD      Chicago, IL  DFW   \n",
       "1 2017-01-01      AA   N192AA    1767    LAS    Las Vegas, NV  DFW   \n",
       "2 2017-01-01      AA   N829AA    1768    DCA   Washington, DC  MIA   \n",
       "\n",
       "          DEST_CITY_NAME  CRS_DEP_TIME  DEP_TIME     ...       IATA  ICAO  \\\n",
       "0  Dallas/Fort Worth, TX           710     705.0     ...        ORD  KORD   \n",
       "1  Dallas/Fort Worth, TX          1235    1235.0     ...        LAS  KLAS   \n",
       "2              Miami, FL          1020    1015.0     ...        DCA  KDCA   \n",
       "\n",
       "    Latitude   Longitude  Altitude  Timezone  DST           TzTimezone  \\\n",
       "0  41.978600  -87.904800     672.0        -6    A      America/Chicago   \n",
       "1  36.080101 -115.152000    2181.0        -8    A  America/Los_Angeles   \n",
       "2  38.852100  -77.037697      15.0        -5    A     America/New_York   \n",
       "\n",
       "      Type       Source  \n",
       "0  airport  OurAirports  \n",
       "1  airport  OurAirports  \n",
       "2  airport  OurAirports  \n",
       "\n",
       "[3 rows x 48 columns]"
      ]
     },
     "execution_count": 200,
     "metadata": {},
     "output_type": "execute_result"
    }
   ],
   "source": [
    "d = pd.merge(left=d_bts, right=d_airports, how='left', left_on='ORIGIN', right_on='IATA')\n",
    "d[:3]"
   ]
  },
  {
   "cell_type": "code",
   "execution_count": 201,
   "metadata": {
    "ExecuteTime": {
     "end_time": "2018-08-09T16:57:01.193530Z",
     "start_time": "2018-08-09T16:57:01.148316Z"
    }
   },
   "outputs": [
    {
     "data": {
      "text/plain": [
       "FL_DATE                                 2017-01-01 00:00:00\n",
       "CARRIER                                                  AA\n",
       "TAIL_NUM                                             N153AA\n",
       "FL_NUM                                                 1766\n",
       "ORIGIN                                                  ORD\n",
       "ORIGIN_CITY_NAME                                Chicago, IL\n",
       "DEST                                                    DFW\n",
       "DEST_CITY_NAME                        Dallas/Fort Worth, TX\n",
       "CRS_DEP_TIME                                            710\n",
       "DEP_TIME                                                705\n",
       "DEP_DELAY                                                -5\n",
       "DEP_DELAY_NEW                                             0\n",
       "TAXI_OUT                                                 12\n",
       "WHEELS_OFF                                              717\n",
       "WHEELS_ON                                               918\n",
       "TAXI_IN                                                  14\n",
       "CRS_ARR_TIME                                            948\n",
       "ARR_TIME                                                932\n",
       "ARR_DELAY                                               -16\n",
       "ARR_DELAY_NEW                                             0\n",
       "CANCELLED                                                 0\n",
       "CANCELLATION_CODE                                       NaN\n",
       "DIVERTED                                                  0\n",
       "CRS_ELAPSED_TIME                                        158\n",
       "ACTUAL_ELAPSED_TIME                                     147\n",
       "AIR_TIME                                                121\n",
       "FLIGHTS                                                   1\n",
       "DISTANCE                                                802\n",
       "CARRIER_DELAY                                           NaN\n",
       "WEATHER_DELAY                                           NaN\n",
       "NAS_DELAY                                               NaN\n",
       "SECURITY_DELAY                                          NaN\n",
       "LATE_AIRCRAFT_DELAY                                     NaN\n",
       "Unnamed: 33                                             NaN\n",
       "AirportID                                              3830\n",
       "Name                   Chicago O'Hare International Airport\n",
       "City                                                Chicago\n",
       "Country                                       United States\n",
       "IATA                                                    ORD\n",
       "ICAO                                                   KORD\n",
       "Latitude                                            41.9786\n",
       "Longitude                                          -87.9048\n",
       "Altitude                                                672\n",
       "Timezone                                                 -6\n",
       "DST                                                       A\n",
       "TzTimezone                                  America/Chicago\n",
       "Type                                                airport\n",
       "Source                                          OurAirports\n",
       "Name: 0, dtype: object"
      ]
     },
     "execution_count": 201,
     "metadata": {},
     "output_type": "execute_result"
    }
   ],
   "source": [
    "d.iloc[0]"
   ]
  },
  {
   "cell_type": "code",
   "execution_count": 202,
   "metadata": {
    "ExecuteTime": {
     "end_time": "2018-08-09T16:57:21.077369Z",
     "start_time": "2018-08-09T16:57:01.196241Z"
    }
   },
   "outputs": [
    {
     "data": {
      "text/html": [
       "<div>\n",
       "<style scoped>\n",
       "    .dataframe tbody tr th:only-of-type {\n",
       "        vertical-align: middle;\n",
       "    }\n",
       "\n",
       "    .dataframe tbody tr th {\n",
       "        vertical-align: top;\n",
       "    }\n",
       "\n",
       "    .dataframe thead th {\n",
       "        text-align: right;\n",
       "    }\n",
       "</style>\n",
       "<table border=\"1\" class=\"dataframe\">\n",
       "  <thead>\n",
       "    <tr style=\"text-align: right;\">\n",
       "      <th></th>\n",
       "      <th>FL_DATE</th>\n",
       "      <th>CARRIER</th>\n",
       "      <th>TAIL_NUM</th>\n",
       "      <th>FL_NUM</th>\n",
       "      <th>ORIGIN</th>\n",
       "      <th>ORIGIN_CITY_NAME</th>\n",
       "      <th>DEST</th>\n",
       "      <th>DEST_CITY_NAME</th>\n",
       "      <th>CRS_DEP_TIME</th>\n",
       "      <th>DEP_TIME</th>\n",
       "      <th>...</th>\n",
       "      <th>IATA_dest</th>\n",
       "      <th>ICAO_dest</th>\n",
       "      <th>Latitude_dest</th>\n",
       "      <th>Longitude_dest</th>\n",
       "      <th>Altitude_dest</th>\n",
       "      <th>Timezone_dest</th>\n",
       "      <th>DST_dest</th>\n",
       "      <th>TzTimezone_dest</th>\n",
       "      <th>Type_dest</th>\n",
       "      <th>Source_dest</th>\n",
       "    </tr>\n",
       "  </thead>\n",
       "  <tbody>\n",
       "    <tr>\n",
       "      <th>0</th>\n",
       "      <td>2017-01-01</td>\n",
       "      <td>AA</td>\n",
       "      <td>N153AA</td>\n",
       "      <td>1766</td>\n",
       "      <td>ORD</td>\n",
       "      <td>Chicago, IL</td>\n",
       "      <td>DFW</td>\n",
       "      <td>Dallas/Fort Worth, TX</td>\n",
       "      <td>710</td>\n",
       "      <td>705.0</td>\n",
       "      <td>...</td>\n",
       "      <td>DFW</td>\n",
       "      <td>KDFW</td>\n",
       "      <td>32.896801</td>\n",
       "      <td>-97.038002</td>\n",
       "      <td>607.0</td>\n",
       "      <td>-6</td>\n",
       "      <td>A</td>\n",
       "      <td>America/Chicago</td>\n",
       "      <td>airport</td>\n",
       "      <td>OurAirports</td>\n",
       "    </tr>\n",
       "    <tr>\n",
       "      <th>1</th>\n",
       "      <td>2017-01-01</td>\n",
       "      <td>AA</td>\n",
       "      <td>N192AA</td>\n",
       "      <td>1767</td>\n",
       "      <td>LAS</td>\n",
       "      <td>Las Vegas, NV</td>\n",
       "      <td>DFW</td>\n",
       "      <td>Dallas/Fort Worth, TX</td>\n",
       "      <td>1235</td>\n",
       "      <td>1235.0</td>\n",
       "      <td>...</td>\n",
       "      <td>DFW</td>\n",
       "      <td>KDFW</td>\n",
       "      <td>32.896801</td>\n",
       "      <td>-97.038002</td>\n",
       "      <td>607.0</td>\n",
       "      <td>-6</td>\n",
       "      <td>A</td>\n",
       "      <td>America/Chicago</td>\n",
       "      <td>airport</td>\n",
       "      <td>OurAirports</td>\n",
       "    </tr>\n",
       "    <tr>\n",
       "      <th>2</th>\n",
       "      <td>2017-01-01</td>\n",
       "      <td>AA</td>\n",
       "      <td>N829AA</td>\n",
       "      <td>1768</td>\n",
       "      <td>DCA</td>\n",
       "      <td>Washington, DC</td>\n",
       "      <td>MIA</td>\n",
       "      <td>Miami, FL</td>\n",
       "      <td>1020</td>\n",
       "      <td>1015.0</td>\n",
       "      <td>...</td>\n",
       "      <td>MIA</td>\n",
       "      <td>KMIA</td>\n",
       "      <td>25.793200</td>\n",
       "      <td>-80.290604</td>\n",
       "      <td>8.0</td>\n",
       "      <td>-5</td>\n",
       "      <td>A</td>\n",
       "      <td>America/New_York</td>\n",
       "      <td>airport</td>\n",
       "      <td>OurAirports</td>\n",
       "    </tr>\n",
       "  </tbody>\n",
       "</table>\n",
       "<p>3 rows × 62 columns</p>\n",
       "</div>"
      ],
      "text/plain": [
       "     FL_DATE CARRIER TAIL_NUM  FL_NUM ORIGIN ORIGIN_CITY_NAME DEST  \\\n",
       "0 2017-01-01      AA   N153AA    1766    ORD      Chicago, IL  DFW   \n",
       "1 2017-01-01      AA   N192AA    1767    LAS    Las Vegas, NV  DFW   \n",
       "2 2017-01-01      AA   N829AA    1768    DCA   Washington, DC  MIA   \n",
       "\n",
       "          DEST_CITY_NAME  CRS_DEP_TIME  DEP_TIME     ...       IATA_dest  \\\n",
       "0  Dallas/Fort Worth, TX           710     705.0     ...             DFW   \n",
       "1  Dallas/Fort Worth, TX          1235    1235.0     ...             DFW   \n",
       "2              Miami, FL          1020    1015.0     ...             MIA   \n",
       "\n",
       "   ICAO_dest  Latitude_dest  Longitude_dest  Altitude_dest  Timezone_dest  \\\n",
       "0       KDFW      32.896801      -97.038002          607.0             -6   \n",
       "1       KDFW      32.896801      -97.038002          607.0             -6   \n",
       "2       KMIA      25.793200      -80.290604            8.0             -5   \n",
       "\n",
       "   DST_dest   TzTimezone_dest  Type_dest  Source_dest  \n",
       "0         A   America/Chicago    airport  OurAirports  \n",
       "1         A   America/Chicago    airport  OurAirports  \n",
       "2         A  America/New_York    airport  OurAirports  \n",
       "\n",
       "[3 rows x 62 columns]"
      ]
     },
     "execution_count": 202,
     "metadata": {},
     "output_type": "execute_result"
    }
   ],
   "source": [
    "d = pd.merge(left=d, right=d_airports, how='left', left_on='DEST', right_on='IATA', suffixes=['_orig','_dest'])\n",
    "d[:3]"
   ]
  },
  {
   "cell_type": "code",
   "execution_count": 203,
   "metadata": {
    "ExecuteTime": {
     "end_time": "2018-08-09T16:57:21.097499Z",
     "start_time": "2018-08-09T16:57:21.081725Z"
    }
   },
   "outputs": [
    {
     "data": {
      "text/plain": [
       "FL_DATE                                    2017-01-01 00:00:00\n",
       "CARRIER                                                     AA\n",
       "TAIL_NUM                                                N153AA\n",
       "FL_NUM                                                    1766\n",
       "ORIGIN                                                     ORD\n",
       "ORIGIN_CITY_NAME                                   Chicago, IL\n",
       "DEST                                                       DFW\n",
       "DEST_CITY_NAME                           Dallas/Fort Worth, TX\n",
       "CRS_DEP_TIME                                               710\n",
       "DEP_TIME                                                   705\n",
       "DEP_DELAY                                                   -5\n",
       "DEP_DELAY_NEW                                                0\n",
       "TAXI_OUT                                                    12\n",
       "WHEELS_OFF                                                 717\n",
       "WHEELS_ON                                                  918\n",
       "TAXI_IN                                                     14\n",
       "CRS_ARR_TIME                                               948\n",
       "ARR_TIME                                                   932\n",
       "ARR_DELAY                                                  -16\n",
       "ARR_DELAY_NEW                                                0\n",
       "CANCELLED                                                    0\n",
       "CANCELLATION_CODE                                          NaN\n",
       "DIVERTED                                                     0\n",
       "CRS_ELAPSED_TIME                                           158\n",
       "ACTUAL_ELAPSED_TIME                                        147\n",
       "AIR_TIME                                                   121\n",
       "FLIGHTS                                                      1\n",
       "DISTANCE                                                   802\n",
       "CARRIER_DELAY                                              NaN\n",
       "WEATHER_DELAY                                              NaN\n",
       "NAS_DELAY                                                  NaN\n",
       "SECURITY_DELAY                                             NaN\n",
       "LATE_AIRCRAFT_DELAY                                        NaN\n",
       "Unnamed: 33                                                NaN\n",
       "AirportID_orig                                            3830\n",
       "Name_orig                 Chicago O'Hare International Airport\n",
       "City_orig                                              Chicago\n",
       "Country_orig                                     United States\n",
       "IATA_orig                                                  ORD\n",
       "ICAO_orig                                                 KORD\n",
       "Latitude_orig                                          41.9786\n",
       "Longitude_orig                                        -87.9048\n",
       "Altitude_orig                                              672\n",
       "Timezone_orig                                               -6\n",
       "DST_orig                                                     A\n",
       "TzTimezone_orig                                America/Chicago\n",
       "Type_orig                                              airport\n",
       "Source_orig                                        OurAirports\n",
       "AirportID_dest                                            3670\n",
       "Name_dest              Dallas Fort Worth International Airport\n",
       "City_dest                                    Dallas-Fort Worth\n",
       "Country_dest                                     United States\n",
       "IATA_dest                                                  DFW\n",
       "ICAO_dest                                                 KDFW\n",
       "Latitude_dest                                          32.8968\n",
       "Longitude_dest                                         -97.038\n",
       "Altitude_dest                                              607\n",
       "Timezone_dest                                               -6\n",
       "DST_dest                                                     A\n",
       "TzTimezone_dest                                America/Chicago\n",
       "Type_dest                                              airport\n",
       "Source_dest                                        OurAirports\n",
       "Name: 0, dtype: object"
      ]
     },
     "execution_count": 203,
     "metadata": {},
     "output_type": "execute_result"
    }
   ],
   "source": [
    "d.iloc[0]"
   ]
  },
  {
   "cell_type": "code",
   "execution_count": 204,
   "metadata": {
    "ExecuteTime": {
     "end_time": "2018-08-09T16:57:21.116363Z",
     "start_time": "2018-08-09T16:57:21.102360Z"
    }
   },
   "outputs": [
    {
     "data": {
      "text/plain": [
       "[FL_DATE                datetime64[ns]\n",
       " CARRIER                      category\n",
       " TAIL_NUM                     category\n",
       " FL_NUM                          int64\n",
       " ORIGIN                       category\n",
       " ORIGIN_CITY_NAME             category\n",
       " DEST                         category\n",
       " DEST_CITY_NAME               category\n",
       " CRS_DEP_TIME                    int64\n",
       " DEP_TIME                      float64\n",
       " DEP_DELAY                     float64\n",
       " DEP_DELAY_NEW                 float64\n",
       " TAXI_OUT                      float64\n",
       " WHEELS_OFF                    float64\n",
       " WHEELS_ON                     float64\n",
       " TAXI_IN                       float64\n",
       " CRS_ARR_TIME                    int64\n",
       " ARR_TIME                      float64\n",
       " ARR_DELAY                     float64\n",
       " ARR_DELAY_NEW                 float64\n",
       " CANCELLED                     float64\n",
       " CANCELLATION_CODE            category\n",
       " DIVERTED                      float64\n",
       " CRS_ELAPSED_TIME              float64\n",
       " ACTUAL_ELAPSED_TIME           float64\n",
       " AIR_TIME                      float64\n",
       " FLIGHTS                       float64\n",
       " DISTANCE                      float64\n",
       " CARRIER_DELAY                 float64\n",
       " WEATHER_DELAY                 float64\n",
       " NAS_DELAY                     float64\n",
       " SECURITY_DELAY                float64\n",
       " LATE_AIRCRAFT_DELAY           float64\n",
       " Unnamed: 33                   float64\n",
       " dtype: object, AirportID        int64\n",
       " Name          category\n",
       " City          category\n",
       " Country       category\n",
       " IATA          category\n",
       " ICAO          category\n",
       " Latitude       float64\n",
       " Longitude      float64\n",
       " Altitude         int64\n",
       " Timezone      category\n",
       " DST           category\n",
       " TzTimezone    category\n",
       " Type          category\n",
       " Source        category\n",
       " dtype: object]"
      ]
     },
     "execution_count": 204,
     "metadata": {},
     "output_type": "execute_result"
    }
   ],
   "source": [
    "[d_bts.dtypes, d_airports.dtypes]"
   ]
  },
  {
   "cell_type": "code",
   "execution_count": 205,
   "metadata": {
    "ExecuteTime": {
     "end_time": "2018-08-09T16:57:22.163244Z",
     "start_time": "2018-08-09T16:57:21.119494Z"
    }
   },
   "outputs": [
    {
     "data": {
      "text/plain": [
       "'2430.69 MB'"
      ]
     },
     "execution_count": 205,
     "metadata": {},
     "output_type": "execute_result"
    }
   ],
   "source": [
    "mem_usage(d)"
   ]
  },
  {
   "cell_type": "code",
   "execution_count": 206,
   "metadata": {
    "ExecuteTime": {
     "end_time": "2018-08-09T16:57:25.869311Z",
     "start_time": "2018-08-09T16:57:25.860148Z"
    }
   },
   "outputs": [
    {
     "data": {
      "text/plain": [
       "FL_DATE                datetime64[ns]\n",
       "CARRIER                      category\n",
       "TAIL_NUM                     category\n",
       "FL_NUM                          int64\n",
       "ORIGIN                         object\n",
       "ORIGIN_CITY_NAME             category\n",
       "DEST                           object\n",
       "DEST_CITY_NAME               category\n",
       "CRS_DEP_TIME                    int64\n",
       "DEP_TIME                      float64\n",
       "DEP_DELAY                     float64\n",
       "DEP_DELAY_NEW                 float64\n",
       "TAXI_OUT                      float64\n",
       "WHEELS_OFF                    float64\n",
       "WHEELS_ON                     float64\n",
       "TAXI_IN                       float64\n",
       "CRS_ARR_TIME                    int64\n",
       "ARR_TIME                      float64\n",
       "ARR_DELAY                     float64\n",
       "ARR_DELAY_NEW                 float64\n",
       "CANCELLED                     float64\n",
       "CANCELLATION_CODE            category\n",
       "DIVERTED                      float64\n",
       "CRS_ELAPSED_TIME              float64\n",
       "ACTUAL_ELAPSED_TIME           float64\n",
       "AIR_TIME                      float64\n",
       "FLIGHTS                       float64\n",
       "DISTANCE                      float64\n",
       "CARRIER_DELAY                 float64\n",
       "WEATHER_DELAY                 float64\n",
       "NAS_DELAY                     float64\n",
       "SECURITY_DELAY                float64\n",
       "LATE_AIRCRAFT_DELAY           float64\n",
       "Unnamed: 33                   float64\n",
       "AirportID_orig                float64\n",
       "Name_orig                    category\n",
       "City_orig                    category\n",
       "Country_orig                 category\n",
       "IATA_orig                    category\n",
       "ICAO_orig                    category\n",
       "Latitude_orig                 float64\n",
       "Longitude_orig                float64\n",
       "Altitude_orig                 float64\n",
       "Timezone_orig                category\n",
       "DST_orig                     category\n",
       "TzTimezone_orig              category\n",
       "Type_orig                    category\n",
       "Source_orig                  category\n",
       "AirportID_dest                float64\n",
       "Name_dest                    category\n",
       "City_dest                    category\n",
       "Country_dest                 category\n",
       "IATA_dest                    category\n",
       "ICAO_dest                    category\n",
       "Latitude_dest                 float64\n",
       "Longitude_dest                float64\n",
       "Altitude_dest                 float64\n",
       "Timezone_dest                category\n",
       "DST_dest                     category\n",
       "TzTimezone_dest              category\n",
       "Type_dest                    category\n",
       "Source_dest                  category\n",
       "dtype: object"
      ]
     },
     "execution_count": 206,
     "metadata": {},
     "output_type": "execute_result"
    }
   ],
   "source": [
    "d.dtypes"
   ]
  },
  {
   "cell_type": "markdown",
   "metadata": {},
   "source": [
    "# Carriers - additional data"
   ]
  },
  {
   "cell_type": "code",
   "execution_count": 207,
   "metadata": {
    "ExecuteTime": {
     "end_time": "2018-08-09T16:57:26.649598Z",
     "start_time": "2018-08-09T16:57:26.645139Z"
    }
   },
   "outputs": [],
   "source": [
    "# d_carriers = pd.read_csv('../data/CarrierLookup.csv')\n",
    "# d_carriers.shape"
   ]
  },
  {
   "cell_type": "code",
   "execution_count": 208,
   "metadata": {
    "ExecuteTime": {
     "end_time": "2018-08-09T16:57:27.013378Z",
     "start_time": "2018-08-09T16:57:27.010557Z"
    }
   },
   "outputs": [],
   "source": [
    "# d = pd.merge(left=d, right=d_carriers, left_on='CARRIER', right_on='Code')\n",
    "# d[:3]"
   ]
  },
  {
   "cell_type": "code",
   "execution_count": 209,
   "metadata": {
    "ExecuteTime": {
     "end_time": "2018-08-09T16:57:27.162959Z",
     "start_time": "2018-08-09T16:57:27.160376Z"
    }
   },
   "outputs": [],
   "source": [
    "# d.iloc[0]"
   ]
  },
  {
   "cell_type": "code",
   "execution_count": 210,
   "metadata": {
    "ExecuteTime": {
     "end_time": "2018-08-09T16:57:27.326358Z",
     "start_time": "2018-08-09T16:57:27.316921Z"
    }
   },
   "outputs": [],
   "source": [
    "dtypes_carriers = {\n",
    "    'Code': 'category'\n",
    "    ,'Description': 'category'}"
   ]
  },
  {
   "cell_type": "code",
   "execution_count": 211,
   "metadata": {
    "ExecuteTime": {
     "end_time": "2018-08-09T16:57:27.646731Z",
     "start_time": "2018-08-09T16:57:27.590266Z"
    }
   },
   "outputs": [
    {
     "data": {
      "text/plain": [
       "(1645, 2)"
      ]
     },
     "execution_count": 211,
     "metadata": {},
     "output_type": "execute_result"
    }
   ],
   "source": [
    "d_carriers_unique = pd.read_csv('../data/UniqueCarrierLookup.csv', dtype=dtypes_carriers)\n",
    "d_carriers_unique.shape"
   ]
  },
  {
   "cell_type": "code",
   "execution_count": 212,
   "metadata": {
    "ExecuteTime": {
     "end_time": "2018-08-09T16:58:01.393747Z",
     "start_time": "2018-08-09T16:57:27.846975Z"
    }
   },
   "outputs": [
    {
     "data": {
      "text/html": [
       "<div>\n",
       "<style scoped>\n",
       "    .dataframe tbody tr th:only-of-type {\n",
       "        vertical-align: middle;\n",
       "    }\n",
       "\n",
       "    .dataframe tbody tr th {\n",
       "        vertical-align: top;\n",
       "    }\n",
       "\n",
       "    .dataframe thead th {\n",
       "        text-align: right;\n",
       "    }\n",
       "</style>\n",
       "<table border=\"1\" class=\"dataframe\">\n",
       "  <thead>\n",
       "    <tr style=\"text-align: right;\">\n",
       "      <th></th>\n",
       "      <th>FL_DATE</th>\n",
       "      <th>CARRIER</th>\n",
       "      <th>TAIL_NUM</th>\n",
       "      <th>FL_NUM</th>\n",
       "      <th>ORIGIN</th>\n",
       "      <th>ORIGIN_CITY_NAME</th>\n",
       "      <th>DEST</th>\n",
       "      <th>DEST_CITY_NAME</th>\n",
       "      <th>CRS_DEP_TIME</th>\n",
       "      <th>DEP_TIME</th>\n",
       "      <th>...</th>\n",
       "      <th>Latitude_dest</th>\n",
       "      <th>Longitude_dest</th>\n",
       "      <th>Altitude_dest</th>\n",
       "      <th>Timezone_dest</th>\n",
       "      <th>DST_dest</th>\n",
       "      <th>TzTimezone_dest</th>\n",
       "      <th>Type_dest</th>\n",
       "      <th>Source_dest</th>\n",
       "      <th>Code</th>\n",
       "      <th>Description</th>\n",
       "    </tr>\n",
       "  </thead>\n",
       "  <tbody>\n",
       "    <tr>\n",
       "      <th>0</th>\n",
       "      <td>2017-01-01</td>\n",
       "      <td>AA</td>\n",
       "      <td>N153AA</td>\n",
       "      <td>1766</td>\n",
       "      <td>ORD</td>\n",
       "      <td>Chicago, IL</td>\n",
       "      <td>DFW</td>\n",
       "      <td>Dallas/Fort Worth, TX</td>\n",
       "      <td>710</td>\n",
       "      <td>705.0</td>\n",
       "      <td>...</td>\n",
       "      <td>32.896801</td>\n",
       "      <td>-97.038002</td>\n",
       "      <td>607.0</td>\n",
       "      <td>-6</td>\n",
       "      <td>A</td>\n",
       "      <td>America/Chicago</td>\n",
       "      <td>airport</td>\n",
       "      <td>OurAirports</td>\n",
       "      <td>AA</td>\n",
       "      <td>American Airlines Inc.</td>\n",
       "    </tr>\n",
       "    <tr>\n",
       "      <th>1</th>\n",
       "      <td>2017-01-01</td>\n",
       "      <td>AA</td>\n",
       "      <td>N192AA</td>\n",
       "      <td>1767</td>\n",
       "      <td>LAS</td>\n",
       "      <td>Las Vegas, NV</td>\n",
       "      <td>DFW</td>\n",
       "      <td>Dallas/Fort Worth, TX</td>\n",
       "      <td>1235</td>\n",
       "      <td>1235.0</td>\n",
       "      <td>...</td>\n",
       "      <td>32.896801</td>\n",
       "      <td>-97.038002</td>\n",
       "      <td>607.0</td>\n",
       "      <td>-6</td>\n",
       "      <td>A</td>\n",
       "      <td>America/Chicago</td>\n",
       "      <td>airport</td>\n",
       "      <td>OurAirports</td>\n",
       "      <td>AA</td>\n",
       "      <td>American Airlines Inc.</td>\n",
       "    </tr>\n",
       "    <tr>\n",
       "      <th>2</th>\n",
       "      <td>2017-01-01</td>\n",
       "      <td>AA</td>\n",
       "      <td>N829AA</td>\n",
       "      <td>1768</td>\n",
       "      <td>DCA</td>\n",
       "      <td>Washington, DC</td>\n",
       "      <td>MIA</td>\n",
       "      <td>Miami, FL</td>\n",
       "      <td>1020</td>\n",
       "      <td>1015.0</td>\n",
       "      <td>...</td>\n",
       "      <td>25.793200</td>\n",
       "      <td>-80.290604</td>\n",
       "      <td>8.0</td>\n",
       "      <td>-5</td>\n",
       "      <td>A</td>\n",
       "      <td>America/New_York</td>\n",
       "      <td>airport</td>\n",
       "      <td>OurAirports</td>\n",
       "      <td>AA</td>\n",
       "      <td>American Airlines Inc.</td>\n",
       "    </tr>\n",
       "  </tbody>\n",
       "</table>\n",
       "<p>3 rows × 64 columns</p>\n",
       "</div>"
      ],
      "text/plain": [
       "     FL_DATE CARRIER TAIL_NUM  FL_NUM ORIGIN ORIGIN_CITY_NAME DEST  \\\n",
       "0 2017-01-01      AA   N153AA    1766    ORD      Chicago, IL  DFW   \n",
       "1 2017-01-01      AA   N192AA    1767    LAS    Las Vegas, NV  DFW   \n",
       "2 2017-01-01      AA   N829AA    1768    DCA   Washington, DC  MIA   \n",
       "\n",
       "          DEST_CITY_NAME  CRS_DEP_TIME  DEP_TIME           ...            \\\n",
       "0  Dallas/Fort Worth, TX           710     705.0           ...             \n",
       "1  Dallas/Fort Worth, TX          1235    1235.0           ...             \n",
       "2              Miami, FL          1020    1015.0           ...             \n",
       "\n",
       "   Latitude_dest  Longitude_dest  Altitude_dest  Timezone_dest  DST_dest  \\\n",
       "0      32.896801      -97.038002          607.0             -6         A   \n",
       "1      32.896801      -97.038002          607.0             -6         A   \n",
       "2      25.793200      -80.290604            8.0             -5         A   \n",
       "\n",
       "    TzTimezone_dest  Type_dest  Source_dest  Code             Description  \n",
       "0   America/Chicago    airport  OurAirports    AA  American Airlines Inc.  \n",
       "1   America/Chicago    airport  OurAirports    AA  American Airlines Inc.  \n",
       "2  America/New_York    airport  OurAirports    AA  American Airlines Inc.  \n",
       "\n",
       "[3 rows x 64 columns]"
      ]
     },
     "execution_count": 212,
     "metadata": {},
     "output_type": "execute_result"
    }
   ],
   "source": [
    "d = pd.merge(left=d, right=d_carriers_unique, left_on='CARRIER', right_on='Code')\n",
    "d[:3]"
   ]
  },
  {
   "cell_type": "code",
   "execution_count": 213,
   "metadata": {
    "ExecuteTime": {
     "end_time": "2018-08-09T16:58:01.411418Z",
     "start_time": "2018-08-09T16:58:01.399127Z"
    }
   },
   "outputs": [
    {
     "data": {
      "text/plain": [
       "FL_DATE                                    2017-01-01 00:00:00\n",
       "CARRIER                                                     AA\n",
       "TAIL_NUM                                                N153AA\n",
       "FL_NUM                                                    1766\n",
       "ORIGIN                                                     ORD\n",
       "ORIGIN_CITY_NAME                                   Chicago, IL\n",
       "DEST                                                       DFW\n",
       "DEST_CITY_NAME                           Dallas/Fort Worth, TX\n",
       "CRS_DEP_TIME                                               710\n",
       "DEP_TIME                                                   705\n",
       "DEP_DELAY                                                   -5\n",
       "DEP_DELAY_NEW                                                0\n",
       "TAXI_OUT                                                    12\n",
       "WHEELS_OFF                                                 717\n",
       "WHEELS_ON                                                  918\n",
       "TAXI_IN                                                     14\n",
       "CRS_ARR_TIME                                               948\n",
       "ARR_TIME                                                   932\n",
       "ARR_DELAY                                                  -16\n",
       "ARR_DELAY_NEW                                                0\n",
       "CANCELLED                                                    0\n",
       "CANCELLATION_CODE                                          NaN\n",
       "DIVERTED                                                     0\n",
       "CRS_ELAPSED_TIME                                           158\n",
       "ACTUAL_ELAPSED_TIME                                        147\n",
       "AIR_TIME                                                   121\n",
       "FLIGHTS                                                      1\n",
       "DISTANCE                                                   802\n",
       "CARRIER_DELAY                                              NaN\n",
       "WEATHER_DELAY                                              NaN\n",
       "NAS_DELAY                                                  NaN\n",
       "SECURITY_DELAY                                             NaN\n",
       "LATE_AIRCRAFT_DELAY                                        NaN\n",
       "Unnamed: 33                                                NaN\n",
       "AirportID_orig                                            3830\n",
       "Name_orig                 Chicago O'Hare International Airport\n",
       "City_orig                                              Chicago\n",
       "Country_orig                                     United States\n",
       "IATA_orig                                                  ORD\n",
       "ICAO_orig                                                 KORD\n",
       "Latitude_orig                                          41.9786\n",
       "Longitude_orig                                        -87.9048\n",
       "Altitude_orig                                              672\n",
       "Timezone_orig                                               -6\n",
       "DST_orig                                                     A\n",
       "TzTimezone_orig                                America/Chicago\n",
       "Type_orig                                              airport\n",
       "Source_orig                                        OurAirports\n",
       "AirportID_dest                                            3670\n",
       "Name_dest              Dallas Fort Worth International Airport\n",
       "City_dest                                    Dallas-Fort Worth\n",
       "Country_dest                                     United States\n",
       "IATA_dest                                                  DFW\n",
       "ICAO_dest                                                 KDFW\n",
       "Latitude_dest                                          32.8968\n",
       "Longitude_dest                                         -97.038\n",
       "Altitude_dest                                              607\n",
       "Timezone_dest                                               -6\n",
       "DST_dest                                                     A\n",
       "TzTimezone_dest                                America/Chicago\n",
       "Type_dest                                              airport\n",
       "Source_dest                                        OurAirports\n",
       "Code                                                        AA\n",
       "Description                             American Airlines Inc.\n",
       "Name: 0, dtype: object"
      ]
     },
     "execution_count": 213,
     "metadata": {},
     "output_type": "execute_result"
    }
   ],
   "source": [
    "d.iloc[0]"
   ]
  },
  {
   "cell_type": "code",
   "execution_count": 214,
   "metadata": {
    "ExecuteTime": {
     "end_time": "2018-08-09T16:58:02.222387Z",
     "start_time": "2018-08-09T16:58:01.414471Z"
    }
   },
   "outputs": [
    {
     "data": {
      "text/plain": [
       "WN    1222518\n",
       "DL     923560\n",
       "AA     896348\n",
       "OO     695899\n",
       "UA     535187\n",
       "EV     339541\n",
       "B6     298654\n",
       "NK     208638\n",
       "AS     185068\n",
       "VX     180988\n",
       "F9     101075\n",
       "HA      87145\n",
       "Name: CARRIER, dtype: int64"
      ]
     },
     "execution_count": 214,
     "metadata": {},
     "output_type": "execute_result"
    }
   ],
   "source": [
    "d['CARRIER'].value_counts(dropna=False)"
   ]
  },
  {
   "cell_type": "code",
   "execution_count": 215,
   "metadata": {
    "ExecuteTime": {
     "end_time": "2018-08-09T16:58:03.994287Z",
     "start_time": "2018-08-09T16:58:02.226123Z"
    }
   },
   "outputs": [
    {
     "data": {
      "text/plain": [
       "'2766.51 MB'"
      ]
     },
     "execution_count": 215,
     "metadata": {},
     "output_type": "execute_result"
    }
   ],
   "source": [
    "mem_usage(d)"
   ]
  },
  {
   "cell_type": "code",
   "execution_count": 216,
   "metadata": {
    "ExecuteTime": {
     "end_time": "2018-08-09T16:58:05.280894Z",
     "start_time": "2018-08-09T16:58:05.272048Z"
    }
   },
   "outputs": [
    {
     "data": {
      "text/plain": [
       "FL_DATE                datetime64[ns]\n",
       "CARRIER                        object\n",
       "TAIL_NUM                     category\n",
       "FL_NUM                          int64\n",
       "ORIGIN                         object\n",
       "ORIGIN_CITY_NAME             category\n",
       "DEST                           object\n",
       "DEST_CITY_NAME               category\n",
       "CRS_DEP_TIME                    int64\n",
       "DEP_TIME                      float64\n",
       "DEP_DELAY                     float64\n",
       "DEP_DELAY_NEW                 float64\n",
       "TAXI_OUT                      float64\n",
       "WHEELS_OFF                    float64\n",
       "WHEELS_ON                     float64\n",
       "TAXI_IN                       float64\n",
       "CRS_ARR_TIME                    int64\n",
       "ARR_TIME                      float64\n",
       "ARR_DELAY                     float64\n",
       "ARR_DELAY_NEW                 float64\n",
       "CANCELLED                     float64\n",
       "CANCELLATION_CODE            category\n",
       "DIVERTED                      float64\n",
       "CRS_ELAPSED_TIME              float64\n",
       "ACTUAL_ELAPSED_TIME           float64\n",
       "AIR_TIME                      float64\n",
       "FLIGHTS                       float64\n",
       "DISTANCE                      float64\n",
       "CARRIER_DELAY                 float64\n",
       "WEATHER_DELAY                 float64\n",
       "NAS_DELAY                     float64\n",
       "SECURITY_DELAY                float64\n",
       "LATE_AIRCRAFT_DELAY           float64\n",
       "Unnamed: 33                   float64\n",
       "AirportID_orig                float64\n",
       "Name_orig                    category\n",
       "City_orig                    category\n",
       "Country_orig                 category\n",
       "IATA_orig                    category\n",
       "ICAO_orig                    category\n",
       "Latitude_orig                 float64\n",
       "Longitude_orig                float64\n",
       "Altitude_orig                 float64\n",
       "Timezone_orig                category\n",
       "DST_orig                     category\n",
       "TzTimezone_orig              category\n",
       "Type_orig                    category\n",
       "Source_orig                  category\n",
       "AirportID_dest                float64\n",
       "Name_dest                    category\n",
       "City_dest                    category\n",
       "Country_dest                 category\n",
       "IATA_dest                    category\n",
       "ICAO_dest                    category\n",
       "Latitude_dest                 float64\n",
       "Longitude_dest                float64\n",
       "Altitude_dest                 float64\n",
       "Timezone_dest                category\n",
       "DST_dest                     category\n",
       "TzTimezone_dest              category\n",
       "Type_dest                    category\n",
       "Source_dest                  category\n",
       "Code                         category\n",
       "Description                  category\n",
       "dtype: object"
      ]
     },
     "execution_count": 216,
     "metadata": {},
     "output_type": "execute_result"
    }
   ],
   "source": [
    "d.dtypes"
   ]
  },
  {
   "cell_type": "markdown",
   "metadata": {},
   "source": [
    "For some reason (that I could figure out, but I'm not going to spend the time on - something about the join, since the ORIG and DEST fields that we use on the join above are similarly changed) the last join clobbers the categorical dtype on a few of the BTS fields. I'll reapply it here."
   ]
  },
  {
   "cell_type": "code",
   "execution_count": 217,
   "metadata": {
    "ExecuteTime": {
     "end_time": "2018-08-09T16:58:07.531997Z",
     "start_time": "2018-08-09T16:58:06.553757Z"
    }
   },
   "outputs": [],
   "source": [
    "for field in dtypes_bts:\n",
    "    d[field] = d[field].astype(dtypes_bts[field])"
   ]
  },
  {
   "cell_type": "code",
   "execution_count": 218,
   "metadata": {
    "ExecuteTime": {
     "end_time": "2018-08-09T16:58:07.545963Z",
     "start_time": "2018-08-09T16:58:07.534263Z"
    }
   },
   "outputs": [
    {
     "data": {
      "text/plain": [
       "FL_DATE                datetime64[ns]\n",
       "CARRIER                      category\n",
       "TAIL_NUM                     category\n",
       "FL_NUM                          int64\n",
       "ORIGIN                       category\n",
       "ORIGIN_CITY_NAME             category\n",
       "DEST                         category\n",
       "DEST_CITY_NAME               category\n",
       "CRS_DEP_TIME                    int64\n",
       "DEP_TIME                      float64\n",
       "DEP_DELAY                     float64\n",
       "DEP_DELAY_NEW                 float64\n",
       "TAXI_OUT                      float64\n",
       "WHEELS_OFF                    float64\n",
       "WHEELS_ON                     float64\n",
       "TAXI_IN                       float64\n",
       "CRS_ARR_TIME                    int64\n",
       "ARR_TIME                      float64\n",
       "ARR_DELAY                     float64\n",
       "ARR_DELAY_NEW                 float64\n",
       "CANCELLED                     float64\n",
       "CANCELLATION_CODE            category\n",
       "DIVERTED                      float64\n",
       "CRS_ELAPSED_TIME              float64\n",
       "ACTUAL_ELAPSED_TIME           float64\n",
       "AIR_TIME                      float64\n",
       "FLIGHTS                       float64\n",
       "DISTANCE                      float64\n",
       "CARRIER_DELAY                 float64\n",
       "WEATHER_DELAY                 float64\n",
       "NAS_DELAY                     float64\n",
       "SECURITY_DELAY                float64\n",
       "LATE_AIRCRAFT_DELAY           float64\n",
       "Unnamed: 33                   float64\n",
       "AirportID_orig                float64\n",
       "Name_orig                    category\n",
       "City_orig                    category\n",
       "Country_orig                 category\n",
       "IATA_orig                    category\n",
       "ICAO_orig                    category\n",
       "Latitude_orig                 float64\n",
       "Longitude_orig                float64\n",
       "Altitude_orig                 float64\n",
       "Timezone_orig                category\n",
       "DST_orig                     category\n",
       "TzTimezone_orig              category\n",
       "Type_orig                    category\n",
       "Source_orig                  category\n",
       "AirportID_dest                float64\n",
       "Name_dest                    category\n",
       "City_dest                    category\n",
       "Country_dest                 category\n",
       "IATA_dest                    category\n",
       "ICAO_dest                    category\n",
       "Latitude_dest                 float64\n",
       "Longitude_dest                float64\n",
       "Altitude_dest                 float64\n",
       "Timezone_dest                category\n",
       "DST_dest                     category\n",
       "TzTimezone_dest              category\n",
       "Type_dest                    category\n",
       "Source_dest                  category\n",
       "Code                         category\n",
       "Description                  category\n",
       "dtype: object"
      ]
     },
     "execution_count": 218,
     "metadata": {},
     "output_type": "execute_result"
    }
   ],
   "source": [
    "d.dtypes"
   ]
  },
  {
   "cell_type": "code",
   "execution_count": 219,
   "metadata": {
    "ExecuteTime": {
     "end_time": "2018-08-09T16:58:08.138438Z",
     "start_time": "2018-08-09T16:58:08.115982Z"
    }
   },
   "outputs": [
    {
     "data": {
      "text/plain": [
       "'1824.92 MB'"
      ]
     },
     "execution_count": 219,
     "metadata": {},
     "output_type": "execute_result"
    }
   ],
   "source": [
    "mem_usage(d)"
   ]
  },
  {
   "cell_type": "code",
   "execution_count": 264,
   "metadata": {
    "ExecuteTime": {
     "end_time": "2018-08-09T21:04:54.813129Z",
     "start_time": "2018-08-09T21:04:54.302114Z"
    }
   },
   "outputs": [
    {
     "data": {
      "text/plain": [
       "FL_DATE                                    2017-01-01 00:00:00\n",
       "CARRIER                                                     AA\n",
       "TAIL_NUM                                                N153AA\n",
       "FL_NUM                                                    1766\n",
       "ORIGIN                                                     ORD\n",
       "ORIGIN_CITY_NAME                                   Chicago, IL\n",
       "DEST                                                       DFW\n",
       "DEST_CITY_NAME                           Dallas/Fort Worth, TX\n",
       "CRS_DEP_TIME                                               710\n",
       "DEP_TIME                                                   705\n",
       "DEP_DELAY                                                   -5\n",
       "DEP_DELAY_NEW                                                0\n",
       "TAXI_OUT                                                    12\n",
       "WHEELS_OFF                                                 717\n",
       "WHEELS_ON                                                  918\n",
       "TAXI_IN                                                     14\n",
       "CRS_ARR_TIME                                               948\n",
       "ARR_TIME                                                   932\n",
       "ARR_DELAY                                                  -16\n",
       "ARR_DELAY_NEW                                                0\n",
       "CANCELLED                                                    0\n",
       "CANCELLATION_CODE                                          NaN\n",
       "DIVERTED                                                     0\n",
       "CRS_ELAPSED_TIME                                           158\n",
       "ACTUAL_ELAPSED_TIME                                        147\n",
       "AIR_TIME                                                   121\n",
       "FLIGHTS                                                      1\n",
       "DISTANCE                                                   802\n",
       "CARRIER_DELAY                                              NaN\n",
       "WEATHER_DELAY                                              NaN\n",
       "NAS_DELAY                                                  NaN\n",
       "SECURITY_DELAY                                             NaN\n",
       "LATE_AIRCRAFT_DELAY                                        NaN\n",
       "Unnamed: 33                                                NaN\n",
       "AirportID_orig                                            3830\n",
       "Name_orig                 Chicago O'Hare International Airport\n",
       "City_orig                                              Chicago\n",
       "Country_orig                                     United States\n",
       "IATA_orig                                                  ORD\n",
       "ICAO_orig                                                 KORD\n",
       "Latitude_orig                                          41.9786\n",
       "Longitude_orig                                        -87.9048\n",
       "Altitude_orig                                              672\n",
       "Timezone_orig                                               -6\n",
       "DST_orig                                                     A\n",
       "TzTimezone_orig                                America/Chicago\n",
       "Type_orig                                              airport\n",
       "Source_orig                                        OurAirports\n",
       "AirportID_dest                                            3670\n",
       "Name_dest              Dallas Fort Worth International Airport\n",
       "City_dest                                    Dallas-Fort Worth\n",
       "Country_dest                                     United States\n",
       "IATA_dest                                                  DFW\n",
       "ICAO_dest                                                 KDFW\n",
       "Latitude_dest                                          32.8968\n",
       "Longitude_dest                                         -97.038\n",
       "Altitude_dest                                              607\n",
       "Timezone_dest                                               -6\n",
       "DST_dest                                                     A\n",
       "TzTimezone_dest                                America/Chicago\n",
       "Type_dest                                              airport\n",
       "Source_dest                                        OurAirports\n",
       "Code                                                        AA\n",
       "Description                             American Airlines Inc.\n",
       "Name: 0, dtype: object"
      ]
     },
     "execution_count": 264,
     "metadata": {},
     "output_type": "execute_result"
    }
   ],
   "source": [
    "d.iloc[0]"
   ]
  },
  {
   "cell_type": "markdown",
   "metadata": {},
   "source": [
    "# Filter down joined data to only fields we need, rename to be consistent"
   ]
  },
  {
   "cell_type": "code",
   "execution_count": 248,
   "metadata": {
    "ExecuteTime": {
     "end_time": "2018-08-09T20:06:21.114377Z",
     "start_time": "2018-08-09T20:06:15.198355Z"
    }
   },
   "outputs": [
    {
     "data": {
      "text/html": [
       "<div>\n",
       "<style scoped>\n",
       "    .dataframe tbody tr th:only-of-type {\n",
       "        vertical-align: middle;\n",
       "    }\n",
       "\n",
       "    .dataframe tbody tr th {\n",
       "        vertical-align: top;\n",
       "    }\n",
       "\n",
       "    .dataframe thead th {\n",
       "        text-align: right;\n",
       "    }\n",
       "</style>\n",
       "<table border=\"1\" class=\"dataframe\">\n",
       "  <thead>\n",
       "    <tr style=\"text-align: right;\">\n",
       "      <th></th>\n",
       "      <th>FL_DATE</th>\n",
       "      <th>ORIGIN</th>\n",
       "      <th>ORIGIN_CITY_NAME</th>\n",
       "      <th>DEST</th>\n",
       "      <th>DEST_CITY_NAME</th>\n",
       "      <th>CRS_DEP_TIME</th>\n",
       "      <th>DEP_TIME</th>\n",
       "      <th>DEP_DELAY</th>\n",
       "      <th>DEP_DELAY_NEW</th>\n",
       "      <th>CRS_ARR_TIME</th>\n",
       "      <th>...</th>\n",
       "      <th>DIVERTED</th>\n",
       "      <th>CRS_ELAPSED_TIME</th>\n",
       "      <th>ACTUAL_ELAPSED_TIME</th>\n",
       "      <th>Name_orig</th>\n",
       "      <th>Latitude_orig</th>\n",
       "      <th>Longitude_orig</th>\n",
       "      <th>Name_dest</th>\n",
       "      <th>Latitude_dest</th>\n",
       "      <th>Longitude_dest</th>\n",
       "      <th>Description</th>\n",
       "    </tr>\n",
       "  </thead>\n",
       "  <tbody>\n",
       "    <tr>\n",
       "      <th>0</th>\n",
       "      <td>2017-01-01</td>\n",
       "      <td>ORD</td>\n",
       "      <td>Chicago, IL</td>\n",
       "      <td>DFW</td>\n",
       "      <td>Dallas/Fort Worth, TX</td>\n",
       "      <td>710</td>\n",
       "      <td>705.0</td>\n",
       "      <td>-5.0</td>\n",
       "      <td>0.0</td>\n",
       "      <td>948</td>\n",
       "      <td>...</td>\n",
       "      <td>0.0</td>\n",
       "      <td>158.0</td>\n",
       "      <td>147.0</td>\n",
       "      <td>Chicago O'Hare International Airport</td>\n",
       "      <td>41.978600</td>\n",
       "      <td>-87.9048</td>\n",
       "      <td>Dallas Fort Worth International Airport</td>\n",
       "      <td>32.896801</td>\n",
       "      <td>-97.038002</td>\n",
       "      <td>American Airlines Inc.</td>\n",
       "    </tr>\n",
       "    <tr>\n",
       "      <th>1</th>\n",
       "      <td>2017-01-01</td>\n",
       "      <td>LAS</td>\n",
       "      <td>Las Vegas, NV</td>\n",
       "      <td>DFW</td>\n",
       "      <td>Dallas/Fort Worth, TX</td>\n",
       "      <td>1235</td>\n",
       "      <td>1235.0</td>\n",
       "      <td>0.0</td>\n",
       "      <td>0.0</td>\n",
       "      <td>1718</td>\n",
       "      <td>...</td>\n",
       "      <td>0.0</td>\n",
       "      <td>163.0</td>\n",
       "      <td>162.0</td>\n",
       "      <td>McCarran International Airport</td>\n",
       "      <td>36.080101</td>\n",
       "      <td>-115.1520</td>\n",
       "      <td>Dallas Fort Worth International Airport</td>\n",
       "      <td>32.896801</td>\n",
       "      <td>-97.038002</td>\n",
       "      <td>American Airlines Inc.</td>\n",
       "    </tr>\n",
       "  </tbody>\n",
       "</table>\n",
       "<p>2 rows × 24 columns</p>\n",
       "</div>"
      ],
      "text/plain": [
       "     FL_DATE ORIGIN ORIGIN_CITY_NAME DEST         DEST_CITY_NAME  \\\n",
       "0 2017-01-01    ORD      Chicago, IL  DFW  Dallas/Fort Worth, TX   \n",
       "1 2017-01-01    LAS    Las Vegas, NV  DFW  Dallas/Fort Worth, TX   \n",
       "\n",
       "   CRS_DEP_TIME  DEP_TIME  DEP_DELAY  DEP_DELAY_NEW  CRS_ARR_TIME  \\\n",
       "0           710     705.0       -5.0            0.0           948   \n",
       "1          1235    1235.0        0.0            0.0          1718   \n",
       "\n",
       "            ...            DIVERTED  CRS_ELAPSED_TIME  ACTUAL_ELAPSED_TIME  \\\n",
       "0           ...                 0.0             158.0                147.0   \n",
       "1           ...                 0.0             163.0                162.0   \n",
       "\n",
       "                              Name_orig  Latitude_orig  Longitude_orig  \\\n",
       "0  Chicago O'Hare International Airport      41.978600        -87.9048   \n",
       "1        McCarran International Airport      36.080101       -115.1520   \n",
       "\n",
       "                                 Name_dest Latitude_dest  Longitude_dest  \\\n",
       "0  Dallas Fort Worth International Airport     32.896801      -97.038002   \n",
       "1  Dallas Fort Worth International Airport     32.896801      -97.038002   \n",
       "\n",
       "              Description  \n",
       "0  American Airlines Inc.  \n",
       "1  American Airlines Inc.  \n",
       "\n",
       "[2 rows x 24 columns]"
      ]
     },
     "execution_count": 248,
     "metadata": {},
     "output_type": "execute_result"
    }
   ],
   "source": [
    "d_filtered = d[['FL_DATE','ORIGIN','ORIGIN_CITY_NAME','DEST','DEST_CITY_NAME',\n",
    "                'CRS_DEP_TIME','DEP_TIME','DEP_DELAY','DEP_DELAY_NEW',\n",
    "                'CRS_ARR_TIME','ARR_TIME','ARR_DELAY','ARR_DELAY_NEW',\n",
    "                'CANCELLED','DIVERTED','CRS_ELAPSED_TIME','ACTUAL_ELAPSED_TIME',\n",
    "                'Name_orig','Latitude_orig','Longitude_orig',\n",
    "                'Name_dest','Latitude_dest','Longitude_dest','Description']].copy()\n",
    "d_filtered[:2]"
   ]
  },
  {
   "cell_type": "code",
   "execution_count": 249,
   "metadata": {
    "ExecuteTime": {
     "end_time": "2018-08-09T20:06:21.871716Z",
     "start_time": "2018-08-09T20:06:21.116917Z"
    }
   },
   "outputs": [
    {
     "data": {
      "text/plain": [
       "FlightDate                                    2017-01-01 00:00:00\n",
       "OriginCode                                                    ORD\n",
       "OriginCity                                            Chicago, IL\n",
       "DestinationCode                                               DFW\n",
       "DestinationCity                             Dallas/Fort Worth, TX\n",
       "DepartureTimeScheduled                                        710\n",
       "DepartureTimeActual                                           705\n",
       "DepartureDelay                                                 -5\n",
       "DepartureDelayCapped                                            0\n",
       "ArrivalTimeScheduled                                          948\n",
       "ArrivalTimeActual                                             932\n",
       "ArrivalDelay                                                  -16\n",
       "ArrivalDelayCapped                                              0\n",
       "Cancelled                                                       0\n",
       "Diverted                                                        0\n",
       "TotalTimeScheduled                                            158\n",
       "TotalTimeActual                                               147\n",
       "OriginAirport                Chicago O'Hare International Airport\n",
       "OriginLatitude                                            41.9786\n",
       "OriginLongitude                                          -87.9048\n",
       "DestinationAirport        Dallas Fort Worth International Airport\n",
       "DestinationLatitude                                       32.8968\n",
       "DestinationLongitude                                      -97.038\n",
       "Carrier                                    American Airlines Inc.\n",
       "Name: 0, dtype: object"
      ]
     },
     "execution_count": 249,
     "metadata": {},
     "output_type": "execute_result"
    }
   ],
   "source": [
    "d_filtered.rename(columns={'FL_DATE':'FlightDate','ORIGIN':'OriginCode','ORIGIN_CITY_NAME':'OriginCity',\n",
    "                           'DEST':'DestinationCode','DEST_CITY_NAME':'DestinationCity',\n",
    "                           'CRS_DEP_TIME':'DepartureTimeScheduled',\n",
    "                           'DEP_TIME':'DepartureTimeActual','DEP_DELAY':'DepartureDelay',\n",
    "                           'DEP_DELAY_NEW':'DepartureDelayCapped',\n",
    "                           'CRS_ARR_TIME':'ArrivalTimeScheduled','ARR_TIME':'ArrivalTimeActual',\n",
    "                           'ARR_DELAY':'ArrivalDelay',\n",
    "                           'ARR_DELAY_NEW':'ArrivalDelayCapped','CANCELLED':'Cancelled','DIVERTED':'Diverted',\n",
    "                           'CRS_ELAPSED_TIME':'TotalTimeScheduled','ACTUAL_ELAPSED_TIME':'TotalTimeActual',\n",
    "                           'Name_orig':'OriginAirport','Latitude_orig':'OriginLatitude',\n",
    "                           'Longitude_orig':'OriginLongitude','Name_dest':'DestinationAirport',\n",
    "                           'Latitude_dest':'DestinationLatitude','Longitude_dest':'DestinationLongitude',\n",
    "                           'Description':'Carrier'}, inplace=True)\n",
    "d_filtered.iloc[0]"
   ]
  },
  {
   "cell_type": "code",
   "execution_count": 250,
   "metadata": {
    "ExecuteTime": {
     "end_time": "2018-08-09T20:06:21.906010Z",
     "start_time": "2018-08-09T20:06:21.875087Z"
    }
   },
   "outputs": [
    {
     "data": {
      "text/plain": [
       "'857.11 MB'"
      ]
     },
     "execution_count": 250,
     "metadata": {},
     "output_type": "execute_result"
    }
   ],
   "source": [
    "mem_usage(d_filtered)"
   ]
  },
  {
   "cell_type": "markdown",
   "metadata": {},
   "source": [
    "# And do a bit more cleanup, for particular fields"
   ]
  },
  {
   "cell_type": "markdown",
   "metadata": {},
   "source": [
    "Don't need/want carriers to end with 'Inc.' or 'Airlines Inc.', etc."
   ]
  },
  {
   "cell_type": "code",
   "execution_count": 251,
   "metadata": {
    "ExecuteTime": {
     "end_time": "2018-08-09T20:06:25.206371Z",
     "start_time": "2018-08-09T20:06:25.098510Z"
    }
   },
   "outputs": [
    {
     "data": {
      "text/plain": [
       "Southwest Airlines Co.        1222518\n",
       "Delta Air Lines Inc.           923560\n",
       "American Airlines Inc.         896348\n",
       "SkyWest Airlines Inc.          695899\n",
       "United Air Lines Inc.          535187\n",
       "ExpressJet Airlines Inc.       339541\n",
       "JetBlue Airways                298654\n",
       "Spirit Air Lines               208638\n",
       "Alaska Airlines Inc.           185068\n",
       "Virgin America                 180988\n",
       "Frontier Airlines Inc.         101075\n",
       "Hawaiian Airlines Inc.          87145\n",
       "Continental Air Lines Inc.          0\n",
       "Corporatejets, XXI                  0\n",
       "Name: Carrier, dtype: int64"
      ]
     },
     "execution_count": 251,
     "metadata": {},
     "output_type": "execute_result"
    }
   ],
   "source": [
    "d_filtered['Carrier'].value_counts(dropna=False)[:14]"
   ]
  },
  {
   "cell_type": "code",
   "execution_count": 252,
   "metadata": {
    "ExecuteTime": {
     "end_time": "2018-08-09T20:06:42.247552Z",
     "start_time": "2018-08-09T20:06:25.802849Z"
    }
   },
   "outputs": [],
   "source": [
    "suffixes_to_remove = [' Airlines Co.',' Airlines Inc.',' Airways',' Air Lines',' Inc.']\n",
    "\n",
    "for suffix in suffixes_to_remove:\n",
    "    d_filtered['Carrier'] = d_filtered['Carrier'].str.replace(suffix, '')"
   ]
  },
  {
   "cell_type": "code",
   "execution_count": 253,
   "metadata": {
    "ExecuteTime": {
     "end_time": "2018-08-09T20:06:43.084154Z",
     "start_time": "2018-08-09T20:06:42.249774Z"
    }
   },
   "outputs": [
    {
     "data": {
      "text/plain": [
       "Southwest         1222518\n",
       "Delta              923560\n",
       "American           896348\n",
       "SkyWest            695899\n",
       "United             535187\n",
       "ExpressJet         339541\n",
       "JetBlue            298654\n",
       "Spirit             208638\n",
       "Alaska             185068\n",
       "Virgin America     180988\n",
       "Frontier           101075\n",
       "Hawaiian            87145\n",
       "Name: Carrier, dtype: int64"
      ]
     },
     "execution_count": 253,
     "metadata": {},
     "output_type": "execute_result"
    }
   ],
   "source": [
    "d_filtered['Carrier'].value_counts(dropna=False)[:15]"
   ]
  },
  {
   "cell_type": "markdown",
   "metadata": {},
   "source": [
    "There are a few rows w/ null airport names, which can make filters in Tableau have 'Null' or the like."
   ]
  },
  {
   "cell_type": "code",
   "execution_count": 254,
   "metadata": {
    "ExecuteTime": {
     "end_time": "2018-08-09T20:06:43.416257Z",
     "start_time": "2018-08-09T20:06:43.091613Z"
    }
   },
   "outputs": [
    {
     "data": {
      "text/plain": [
       "(320, 320, 5674621)"
      ]
     },
     "execution_count": 254,
     "metadata": {},
     "output_type": "execute_result"
    }
   ],
   "source": [
    "sum(d_filtered['OriginAirport'].isnull()), sum(d_filtered['DestinationAirport'].isnull()), len(d_filtered)"
   ]
  },
  {
   "cell_type": "code",
   "execution_count": 255,
   "metadata": {
    "ExecuteTime": {
     "end_time": "2018-08-09T20:06:46.480175Z",
     "start_time": "2018-08-09T20:06:43.421385Z"
    }
   },
   "outputs": [
    {
     "data": {
      "text/plain": [
       "(0, 0, 5673981)"
      ]
     },
     "execution_count": 255,
     "metadata": {},
     "output_type": "execute_result"
    }
   ],
   "source": [
    "d_filtered.dropna(subset=['OriginAirport', 'DestinationAirport'], inplace=True)\n",
    "sum(d_filtered['OriginAirport'].isnull()), sum(d_filtered['DestinationAirport'].isnull()), len(d_filtered)"
   ]
  },
  {
   "cell_type": "markdown",
   "metadata": {},
   "source": [
    "We have some rows w/ Dallas and some w/ Dallas/Fort Worth as the city. Is this because we have different airports? Or is it something else? If the former, we probably want to leave it as is (we'll help w/ the addition of the airport code)."
   ]
  },
  {
   "cell_type": "code",
   "execution_count": 256,
   "metadata": {
    "ExecuteTime": {
     "end_time": "2018-08-09T20:06:46.703867Z",
     "start_time": "2018-08-09T20:06:46.483516Z"
    }
   },
   "outputs": [
    {
     "data": {
      "text/plain": [
       "1380273    Dallas Love Field\n",
       "Name: OriginAirport, dtype: category\n",
       "Categories (7142, object): [A 511 Airport, A Coruña Airport, Aachen-Merzbrück Airport, Aalborg Airport, ..., Şanlıurfa GAP Airport, Şırnak Şerafettin Elçi Airport, Šiauliai International Airport, Žilina Airport]"
      ]
     },
     "execution_count": 256,
     "metadata": {},
     "output_type": "execute_result"
    }
   ],
   "source": [
    "d_filtered[d_filtered['OriginCity'] == 'Dallas, TX']['OriginAirport'][:1]"
   ]
  },
  {
   "cell_type": "code",
   "execution_count": 257,
   "metadata": {
    "ExecuteTime": {
     "end_time": "2018-08-09T20:06:47.138016Z",
     "start_time": "2018-08-09T20:06:46.707188Z"
    }
   },
   "outputs": [
    {
     "data": {
      "text/plain": [
       "26    Dallas Fort Worth International Airport\n",
       "Name: OriginAirport, dtype: category\n",
       "Categories (7142, object): [A 511 Airport, A Coruña Airport, Aachen-Merzbrück Airport, Aalborg Airport, ..., Şanlıurfa GAP Airport, Şırnak Şerafettin Elçi Airport, Šiauliai International Airport, Žilina Airport]"
      ]
     },
     "execution_count": 257,
     "metadata": {},
     "output_type": "execute_result"
    }
   ],
   "source": [
    "d_filtered[d_filtered['OriginCity'] == 'Dallas/Fort Worth, TX']['OriginAirport'][:1]"
   ]
  },
  {
   "cell_type": "code",
   "execution_count": 258,
   "metadata": {
    "ExecuteTime": {
     "end_time": "2018-08-09T20:06:47.659411Z",
     "start_time": "2018-08-09T20:06:47.141790Z"
    }
   },
   "outputs": [
    {
     "data": {
      "text/plain": [
       "(95210, 80343)"
      ]
     },
     "execution_count": 258,
     "metadata": {},
     "output_type": "execute_result"
    }
   ],
   "source": [
    "sum(d_filtered['ArrivalDelay'].isnull()), sum(d_filtered['DepartureDelay'].isnull())"
   ]
  },
  {
   "cell_type": "markdown",
   "metadata": {},
   "source": [
    "We don't want cancelled and diverted flights, as they don't have good delay data always."
   ]
  },
  {
   "cell_type": "code",
   "execution_count": 259,
   "metadata": {
    "ExecuteTime": {
     "end_time": "2018-08-09T20:06:47.672067Z",
     "start_time": "2018-08-09T20:06:47.663515Z"
    }
   },
   "outputs": [
    {
     "data": {
      "text/plain": [
       "5673981"
      ]
     },
     "execution_count": 259,
     "metadata": {},
     "output_type": "execute_result"
    }
   ],
   "source": [
    "len(d_filtered)"
   ]
  },
  {
   "cell_type": "code",
   "execution_count": 260,
   "metadata": {
    "ExecuteTime": {
     "end_time": "2018-08-09T20:06:49.507062Z",
     "start_time": "2018-08-09T20:06:48.302740Z"
    }
   },
   "outputs": [
    {
     "data": {
      "text/plain": [
       "5578772"
      ]
     },
     "execution_count": 260,
     "metadata": {},
     "output_type": "execute_result"
    }
   ],
   "source": [
    "d_filtered = d_filtered[(d_filtered['Cancelled'] == 0) & (d_filtered['Diverted'] == 0)]\n",
    "len(d_filtered)"
   ]
  },
  {
   "cell_type": "markdown",
   "metadata": {},
   "source": [
    "And we'll also get rid of any where we don't have data - looks like there's just one."
   ]
  },
  {
   "cell_type": "code",
   "execution_count": 261,
   "metadata": {
    "ExecuteTime": {
     "end_time": "2018-08-09T20:06:51.319503Z",
     "start_time": "2018-08-09T20:06:51.011349Z"
    }
   },
   "outputs": [
    {
     "data": {
      "text/plain": [
       "(0, 1)"
      ]
     },
     "execution_count": 261,
     "metadata": {},
     "output_type": "execute_result"
    }
   ],
   "source": [
    "sum(d_filtered['DepartureDelay'].isnull()), sum(d_filtered['ArrivalDelay'].isnull())"
   ]
  },
  {
   "cell_type": "code",
   "execution_count": 262,
   "metadata": {
    "ExecuteTime": {
     "end_time": "2018-08-09T20:07:07.294721Z",
     "start_time": "2018-08-09T20:06:51.971665Z"
    }
   },
   "outputs": [
    {
     "data": {
      "text/plain": [
       "(0, 0, 5578771)"
      ]
     },
     "execution_count": 262,
     "metadata": {},
     "output_type": "execute_result"
    }
   ],
   "source": [
    "d_filtered.dropna(subset=['DepartureDelay', 'ArrivalDelay'], inplace=True)\n",
    "sum(d_filtered['DepartureDelay'].isnull()), sum(d_filtered['ArrivalDelay'].isnull()), len(d_filtered)"
   ]
  },
  {
   "cell_type": "markdown",
   "metadata": {},
   "source": [
    "# And, finally, dump to a single file"
   ]
  },
  {
   "cell_type": "code",
   "execution_count": 263,
   "metadata": {
    "ExecuteTime": {
     "end_time": "2018-08-09T20:09:44.406541Z",
     "start_time": "2018-08-09T20:07:07.298888Z"
    }
   },
   "outputs": [],
   "source": [
    "d_filtered.to_csv('../data/flights.csv', index=False)"
   ]
  },
  {
   "cell_type": "markdown",
   "metadata": {},
   "source": [
    "# Separate aggregated data for airport selection"
   ]
  },
  {
   "cell_type": "code",
   "execution_count": 265,
   "metadata": {
    "ExecuteTime": {
     "end_time": "2018-08-09T21:05:54.131428Z",
     "start_time": "2018-08-09T21:05:54.110832Z"
    }
   },
   "outputs": [
    {
     "data": {
      "text/plain": [
       "FlightDate                                    2017-01-01 00:00:00\n",
       "OriginCode                                                    ORD\n",
       "OriginCity                                            Chicago, IL\n",
       "DestinationCode                                               DFW\n",
       "DestinationCity                             Dallas/Fort Worth, TX\n",
       "DepartureTimeScheduled                                        710\n",
       "DepartureTimeActual                                           705\n",
       "DepartureDelay                                                 -5\n",
       "DepartureDelayCapped                                            0\n",
       "ArrivalTimeScheduled                                          948\n",
       "ArrivalTimeActual                                             932\n",
       "ArrivalDelay                                                  -16\n",
       "ArrivalDelayCapped                                              0\n",
       "Cancelled                                                       0\n",
       "Diverted                                                        0\n",
       "TotalTimeScheduled                                            158\n",
       "TotalTimeActual                                               147\n",
       "OriginAirport                Chicago O'Hare International Airport\n",
       "OriginLatitude                                            41.9786\n",
       "OriginLongitude                                          -87.9048\n",
       "DestinationAirport        Dallas Fort Worth International Airport\n",
       "DestinationLatitude                                       32.8968\n",
       "DestinationLongitude                                      -97.038\n",
       "Carrier                                                  American\n",
       "Name: 0, dtype: object"
      ]
     },
     "execution_count": 265,
     "metadata": {},
     "output_type": "execute_result"
    }
   ],
   "source": [
    "d_filtered.iloc[0]"
   ]
  },
  {
   "cell_type": "markdown",
   "metadata": {},
   "source": [
    "First, we'll add the fields we don't have and that we'll need in order to group. We've prev done this in Tableau, for the optimal flight stuff, using calculated fields. Now that we need them to aggregate here, we need the fields here.\n",
    "\n",
    "Why do it here? Tableau's map stuff is really slow when we have ~5 million records."
   ]
  },
  {
   "cell_type": "code",
   "execution_count": 266,
   "metadata": {
    "ExecuteTime": {
     "end_time": "2018-08-09T21:08:59.833229Z",
     "start_time": "2018-08-09T21:08:57.273747Z"
    }
   },
   "outputs": [
    {
     "data": {
      "text/plain": [
       "Friday       832394\n",
       "Thursday     828387\n",
       "Monday       822903\n",
       "Wednesday    818366\n",
       "Tuesday      804876\n",
       "Sunday       793660\n",
       "Saturday     678185\n",
       "Name: FlightDateDay, dtype: int64"
      ]
     },
     "execution_count": 266,
     "metadata": {},
     "output_type": "execute_result"
    }
   ],
   "source": [
    "d_filtered['FlightDateDay'] = d_filtered['FlightDate'].dt.weekday_name\n",
    "d_filtered['FlightDateDay'].value_counts(dropna=False)"
   ]
  },
  {
   "cell_type": "code",
   "execution_count": 304,
   "metadata": {
    "ExecuteTime": {
     "end_time": "2018-08-09T21:35:17.776723Z",
     "start_time": "2018-08-09T21:35:17.297931Z"
    }
   },
   "outputs": [],
   "source": [
    "d_filtered['DepartureTimeActualHour'] = np.floor(d_filtered['DepartureTimeActual'] / 100)\n",
    "d_filtered['ArrivalTimeActualHour'] = np.floor(d_filtered['ArrivalTimeActual'] / 100)"
   ]
  },
  {
   "cell_type": "code",
   "execution_count": 277,
   "metadata": {
    "ExecuteTime": {
     "end_time": "2018-08-09T21:14:36.336606Z",
     "start_time": "2018-08-09T21:14:36.253338Z"
    }
   },
   "outputs": [
    {
     "data": {
      "text/html": [
       "<div>\n",
       "<style scoped>\n",
       "    .dataframe tbody tr th:only-of-type {\n",
       "        vertical-align: middle;\n",
       "    }\n",
       "\n",
       "    .dataframe tbody tr th {\n",
       "        vertical-align: top;\n",
       "    }\n",
       "\n",
       "    .dataframe thead th {\n",
       "        text-align: right;\n",
       "    }\n",
       "</style>\n",
       "<table border=\"1\" class=\"dataframe\">\n",
       "  <thead>\n",
       "    <tr style=\"text-align: right;\">\n",
       "      <th></th>\n",
       "      <th>DepartureTimeActual</th>\n",
       "      <th>DepartureTimeActualHour</th>\n",
       "    </tr>\n",
       "  </thead>\n",
       "  <tbody>\n",
       "    <tr>\n",
       "      <th>0</th>\n",
       "      <td>705.0</td>\n",
       "      <td>7.0</td>\n",
       "    </tr>\n",
       "    <tr>\n",
       "      <th>1</th>\n",
       "      <td>1235.0</td>\n",
       "      <td>12.0</td>\n",
       "    </tr>\n",
       "    <tr>\n",
       "      <th>2</th>\n",
       "      <td>1015.0</td>\n",
       "      <td>10.0</td>\n",
       "    </tr>\n",
       "    <tr>\n",
       "      <th>3</th>\n",
       "      <td>719.0</td>\n",
       "      <td>7.0</td>\n",
       "    </tr>\n",
       "    <tr>\n",
       "      <th>4</th>\n",
       "      <td>1011.0</td>\n",
       "      <td>10.0</td>\n",
       "    </tr>\n",
       "  </tbody>\n",
       "</table>\n",
       "</div>"
      ],
      "text/plain": [
       "   DepartureTimeActual  DepartureTimeActualHour\n",
       "0                705.0                      7.0\n",
       "1               1235.0                     12.0\n",
       "2               1015.0                     10.0\n",
       "3                719.0                      7.0\n",
       "4               1011.0                     10.0"
      ]
     },
     "execution_count": 277,
     "metadata": {},
     "output_type": "execute_result"
    }
   ],
   "source": [
    "d_filtered[['DepartureTimeActual','DepartureTimeActualHour']][:5]"
   ]
  },
  {
   "cell_type": "code",
   "execution_count": 276,
   "metadata": {
    "ExecuteTime": {
     "end_time": "2018-08-09T21:13:57.303402Z",
     "start_time": "2018-08-09T21:13:57.167497Z"
    }
   },
   "outputs": [
    {
     "data": {
      "text/plain": [
       "6.0     362649\n",
       "8.0     360317\n",
       "17.0    353537\n",
       "7.0     339736\n",
       "10.0    339107\n",
       "15.0    336445\n",
       "12.0    334448\n",
       "11.0    332883\n",
       "13.0    325420\n",
       "9.0     322026\n",
       "16.0    316412\n",
       "18.0    309455\n",
       "14.0    306476\n",
       "19.0    305585\n",
       "20.0    271764\n",
       "5.0     204100\n",
       "21.0    190072\n",
       "22.0    151803\n",
       "23.0     61996\n",
       "0.0      27901\n",
       "4.0      11468\n",
       "1.0      10143\n",
       "2.0       3056\n",
       "3.0       1507\n",
       "24.0       465\n",
       "Name: DepartureTimeActualHour, dtype: int64"
      ]
     },
     "execution_count": 276,
     "metadata": {},
     "output_type": "execute_result"
    }
   ],
   "source": [
    "d_filtered['DepartureTimeActualHour'].value_counts(dropna=False)"
   ]
  },
  {
   "cell_type": "code",
   "execution_count": 305,
   "metadata": {
    "ExecuteTime": {
     "end_time": "2018-08-09T21:35:22.604549Z",
     "start_time": "2018-08-09T21:35:22.589979Z"
    }
   },
   "outputs": [
    {
     "data": {
      "text/plain": [
       "FlightDate                                     2017-01-01 00:00:00\n",
       "OriginCode                                                     ORD\n",
       "OriginCity                                             Chicago, IL\n",
       "DestinationCode                                                DFW\n",
       "DestinationCity                              Dallas/Fort Worth, TX\n",
       "DepartureTimeScheduled                                         710\n",
       "DepartureTimeActual                                            705\n",
       "DepartureDelay                                                  -5\n",
       "DepartureDelayCapped                                             0\n",
       "ArrivalTimeScheduled                                           948\n",
       "ArrivalTimeActual                                              932\n",
       "ArrivalDelay                                                   -16\n",
       "ArrivalDelayCapped                                               0\n",
       "Cancelled                                                        0\n",
       "Diverted                                                         0\n",
       "TotalTimeScheduled                                             158\n",
       "TotalTimeActual                                                147\n",
       "OriginAirport                 Chicago O'Hare International Airport\n",
       "OriginLatitude                                             41.9786\n",
       "OriginLongitude                                           -87.9048\n",
       "DestinationAirport         Dallas Fort Worth International Airport\n",
       "DestinationLatitude                                        32.8968\n",
       "DestinationLongitude                                       -97.038\n",
       "Carrier                                                   American\n",
       "FlightDateDay                                               Sunday\n",
       "DepartureTimeActualHour                                          7\n",
       "ArrivalTimeActualHour                                            9\n",
       "Name: 0, dtype: object"
      ]
     },
     "execution_count": 305,
     "metadata": {},
     "output_type": "execute_result"
    }
   ],
   "source": [
    "d_filtered.iloc[0]"
   ]
  },
  {
   "cell_type": "markdown",
   "metadata": {},
   "source": [
    "Now, we can group."
   ]
  },
  {
   "cell_type": "code",
   "execution_count": 299,
   "metadata": {
    "ExecuteTime": {
     "end_time": "2018-08-09T21:32:59.179986Z",
     "start_time": "2018-08-09T21:32:57.578053Z"
    }
   },
   "outputs": [
    {
     "data": {
      "text/html": [
       "<div>\n",
       "<style scoped>\n",
       "    .dataframe tbody tr th:only-of-type {\n",
       "        vertical-align: middle;\n",
       "    }\n",
       "\n",
       "    .dataframe tbody tr th {\n",
       "        vertical-align: top;\n",
       "    }\n",
       "\n",
       "    .dataframe thead th {\n",
       "        text-align: right;\n",
       "    }\n",
       "</style>\n",
       "<table border=\"1\" class=\"dataframe\">\n",
       "  <thead>\n",
       "    <tr style=\"text-align: right;\">\n",
       "      <th></th>\n",
       "      <th>OriginAirport</th>\n",
       "      <th>OriginCode</th>\n",
       "      <th>OriginCity</th>\n",
       "      <th>OriginLatitude</th>\n",
       "      <th>OriginLongitude</th>\n",
       "      <th>Carrier</th>\n",
       "      <th>FlightDateDay</th>\n",
       "      <th>DepartureTimeActualHour</th>\n",
       "      <th>DepartureDelay</th>\n",
       "    </tr>\n",
       "  </thead>\n",
       "  <tbody>\n",
       "    <tr>\n",
       "      <th>0</th>\n",
       "      <td>Aberdeen Regional Airport</td>\n",
       "      <td>ABR</td>\n",
       "      <td>Aberdeen, SD</td>\n",
       "      <td>45.4491</td>\n",
       "      <td>-98.421799</td>\n",
       "      <td>SkyWest</td>\n",
       "      <td>Friday</td>\n",
       "      <td>4.0</td>\n",
       "      <td>-6.000000</td>\n",
       "    </tr>\n",
       "    <tr>\n",
       "      <th>1</th>\n",
       "      <td>Aberdeen Regional Airport</td>\n",
       "      <td>ABR</td>\n",
       "      <td>Aberdeen, SD</td>\n",
       "      <td>45.4491</td>\n",
       "      <td>-98.421799</td>\n",
       "      <td>SkyWest</td>\n",
       "      <td>Friday</td>\n",
       "      <td>5.0</td>\n",
       "      <td>1.151515</td>\n",
       "    </tr>\n",
       "    <tr>\n",
       "      <th>2</th>\n",
       "      <td>Aberdeen Regional Airport</td>\n",
       "      <td>ABR</td>\n",
       "      <td>Aberdeen, SD</td>\n",
       "      <td>45.4491</td>\n",
       "      <td>-98.421799</td>\n",
       "      <td>SkyWest</td>\n",
       "      <td>Friday</td>\n",
       "      <td>6.0</td>\n",
       "      <td>18.333333</td>\n",
       "    </tr>\n",
       "  </tbody>\n",
       "</table>\n",
       "</div>"
      ],
      "text/plain": [
       "               OriginAirport OriginCode    OriginCity  OriginLatitude  \\\n",
       "0  Aberdeen Regional Airport        ABR  Aberdeen, SD         45.4491   \n",
       "1  Aberdeen Regional Airport        ABR  Aberdeen, SD         45.4491   \n",
       "2  Aberdeen Regional Airport        ABR  Aberdeen, SD         45.4491   \n",
       "\n",
       "   OriginLongitude  Carrier FlightDateDay  DepartureTimeActualHour  \\\n",
       "0       -98.421799  SkyWest        Friday                      4.0   \n",
       "1       -98.421799  SkyWest        Friday                      5.0   \n",
       "2       -98.421799  SkyWest        Friday                      6.0   \n",
       "\n",
       "   DepartureDelay  \n",
       "0       -6.000000  \n",
       "1        1.151515  \n",
       "2       18.333333  "
      ]
     },
     "execution_count": 299,
     "metadata": {},
     "output_type": "execute_result"
    }
   ],
   "source": [
    "d_agg_origin = d_filtered.groupby(['OriginAirport','OriginCode','OriginCity',\n",
    "                            'OriginLatitude','OriginLongitude','Carrier',\n",
    "                            'FlightDateDay','DepartureTimeActualHour']).agg({'DepartureDelay':np.mean}).reset_index()\n",
    "d_agg_origin[:3]"
   ]
  },
  {
   "cell_type": "code",
   "execution_count": 307,
   "metadata": {
    "ExecuteTime": {
     "end_time": "2018-08-09T21:36:03.391334Z",
     "start_time": "2018-08-09T21:36:03.327115Z"
    }
   },
   "outputs": [
    {
     "name": "stdout",
     "output_type": "stream",
     "text": [
      "OriginAirport: 0\n",
      "OriginCode: 0\n",
      "OriginCity: 0\n",
      "OriginLatitude: 0\n",
      "OriginLongitude: 0\n",
      "Carrier: 0\n",
      "FlightDateDay: 0\n",
      "DepartureTimeActualHour: 0\n",
      "DepartureDelay: 0\n"
     ]
    }
   ],
   "source": [
    "for col in d_agg_origin.columns:\n",
    "    print(f\"{col}: {sum(d_agg_origin[col].isnull())}\")"
   ]
  },
  {
   "cell_type": "code",
   "execution_count": 306,
   "metadata": {
    "ExecuteTime": {
     "end_time": "2018-08-09T21:35:56.650274Z",
     "start_time": "2018-08-09T21:35:49.796959Z"
    }
   },
   "outputs": [
    {
     "data": {
      "text/html": [
       "<div>\n",
       "<style scoped>\n",
       "    .dataframe tbody tr th:only-of-type {\n",
       "        vertical-align: middle;\n",
       "    }\n",
       "\n",
       "    .dataframe tbody tr th {\n",
       "        vertical-align: top;\n",
       "    }\n",
       "\n",
       "    .dataframe thead th {\n",
       "        text-align: right;\n",
       "    }\n",
       "</style>\n",
       "<table border=\"1\" class=\"dataframe\">\n",
       "  <thead>\n",
       "    <tr style=\"text-align: right;\">\n",
       "      <th></th>\n",
       "      <th>DestinationAirport</th>\n",
       "      <th>DestinationCode</th>\n",
       "      <th>DestinationCity</th>\n",
       "      <th>DestinationLatitude</th>\n",
       "      <th>DestinationLongitude</th>\n",
       "      <th>Carrier</th>\n",
       "      <th>FlightDateDay</th>\n",
       "      <th>ArrivalTimeActualHour</th>\n",
       "      <th>ArrivalDelay</th>\n",
       "    </tr>\n",
       "  </thead>\n",
       "  <tbody>\n",
       "    <tr>\n",
       "      <th>0</th>\n",
       "      <td>Aberdeen Regional Airport</td>\n",
       "      <td>ABR</td>\n",
       "      <td>Aberdeen, SD</td>\n",
       "      <td>45.4491</td>\n",
       "      <td>-98.421799</td>\n",
       "      <td>SkyWest</td>\n",
       "      <td>Friday</td>\n",
       "      <td>0.0</td>\n",
       "      <td>53.0</td>\n",
       "    </tr>\n",
       "    <tr>\n",
       "      <th>1</th>\n",
       "      <td>Aberdeen Regional Airport</td>\n",
       "      <td>ABR</td>\n",
       "      <td>Aberdeen, SD</td>\n",
       "      <td>45.4491</td>\n",
       "      <td>-98.421799</td>\n",
       "      <td>SkyWest</td>\n",
       "      <td>Friday</td>\n",
       "      <td>2.0</td>\n",
       "      <td>173.5</td>\n",
       "    </tr>\n",
       "    <tr>\n",
       "      <th>2</th>\n",
       "      <td>Aberdeen Regional Airport</td>\n",
       "      <td>ABR</td>\n",
       "      <td>Aberdeen, SD</td>\n",
       "      <td>45.4491</td>\n",
       "      <td>-98.421799</td>\n",
       "      <td>SkyWest</td>\n",
       "      <td>Friday</td>\n",
       "      <td>12.0</td>\n",
       "      <td>-13.4</td>\n",
       "    </tr>\n",
       "  </tbody>\n",
       "</table>\n",
       "</div>"
      ],
      "text/plain": [
       "          DestinationAirport DestinationCode DestinationCity  \\\n",
       "0  Aberdeen Regional Airport             ABR    Aberdeen, SD   \n",
       "1  Aberdeen Regional Airport             ABR    Aberdeen, SD   \n",
       "2  Aberdeen Regional Airport             ABR    Aberdeen, SD   \n",
       "\n",
       "   DestinationLatitude  DestinationLongitude  Carrier FlightDateDay  \\\n",
       "0              45.4491            -98.421799  SkyWest        Friday   \n",
       "1              45.4491            -98.421799  SkyWest        Friday   \n",
       "2              45.4491            -98.421799  SkyWest        Friday   \n",
       "\n",
       "   ArrivalTimeActualHour  ArrivalDelay  \n",
       "0                    0.0          53.0  \n",
       "1                    2.0         173.5  \n",
       "2                   12.0         -13.4  "
      ]
     },
     "execution_count": 306,
     "metadata": {},
     "output_type": "execute_result"
    }
   ],
   "source": [
    "d_agg_destination = d_filtered.groupby(['DestinationAirport','DestinationCode','DestinationCity',\n",
    "                            'DestinationLatitude','DestinationLongitude','Carrier',\n",
    "                            'FlightDateDay','ArrivalTimeActualHour']).agg({'ArrivalDelay':np.mean}).reset_index()\n",
    "d_agg_destination[:3]"
   ]
  },
  {
   "cell_type": "code",
   "execution_count": 309,
   "metadata": {
    "ExecuteTime": {
     "end_time": "2018-08-09T21:36:21.296668Z",
     "start_time": "2018-08-09T21:36:21.228449Z"
    }
   },
   "outputs": [
    {
     "name": "stdout",
     "output_type": "stream",
     "text": [
      "DestinationAirport: 0\n",
      "DestinationCode: 0\n",
      "DestinationCity: 0\n",
      "DestinationLatitude: 0\n",
      "DestinationLongitude: 0\n",
      "Carrier: 0\n",
      "FlightDateDay: 0\n",
      "ArrivalTimeActualHour: 0\n",
      "ArrivalDelay: 0\n"
     ]
    }
   ],
   "source": [
    "for col in d_agg_destination.columns:\n",
    "    print(f\"{col}: {sum(d_agg_destination[col].isnull())}\")"
   ]
  },
  {
   "cell_type": "markdown",
   "metadata": {},
   "source": [
    "Now rename cols to be the same, and produce a row per location, etc. w/ separate fields for departure and arrival delays."
   ]
  },
  {
   "cell_type": "code",
   "execution_count": 310,
   "metadata": {
    "ExecuteTime": {
     "end_time": "2018-08-09T21:44:50.445151Z",
     "start_time": "2018-08-09T21:44:50.334607Z"
    }
   },
   "outputs": [],
   "source": [
    "origin_renames = {'OriginAirport':'Airport','OriginCode':'Code','OriginCity':'City',\n",
    "                  'OriginLatitude':'Latitude','OriginLongitude':'Longitude',\n",
    "                  'DepartureTimeActualHour':'Hour'}\n",
    "dest_renames = {'DestinationAirport':'Airport','DestinationCode':'Code','DestinationCity':'City',\n",
    "                'DestinationLatitude':'Latitude','DestinationLongitude':'Longitude',\n",
    "                'ArrivalTimeActualHour':'Hour'}\n",
    "d_agg_origin.rename(columns=origin_renames, inplace=True)\n",
    "d_agg_destination.rename(columns=dest_renames, inplace=True)"
   ]
  },
  {
   "cell_type": "code",
   "execution_count": 311,
   "metadata": {
    "ExecuteTime": {
     "end_time": "2018-08-09T21:45:02.619553Z",
     "start_time": "2018-08-09T21:45:02.578293Z"
    }
   },
   "outputs": [
    {
     "data": {
      "text/html": [
       "<div>\n",
       "<style scoped>\n",
       "    .dataframe tbody tr th:only-of-type {\n",
       "        vertical-align: middle;\n",
       "    }\n",
       "\n",
       "    .dataframe tbody tr th {\n",
       "        vertical-align: top;\n",
       "    }\n",
       "\n",
       "    .dataframe thead th {\n",
       "        text-align: right;\n",
       "    }\n",
       "</style>\n",
       "<table border=\"1\" class=\"dataframe\">\n",
       "  <thead>\n",
       "    <tr style=\"text-align: right;\">\n",
       "      <th></th>\n",
       "      <th>Airport</th>\n",
       "      <th>Code</th>\n",
       "      <th>City</th>\n",
       "      <th>Latitude</th>\n",
       "      <th>Longitude</th>\n",
       "      <th>Carrier</th>\n",
       "      <th>FlightDateDay</th>\n",
       "      <th>Hour</th>\n",
       "      <th>DepartureDelay</th>\n",
       "    </tr>\n",
       "  </thead>\n",
       "  <tbody>\n",
       "    <tr>\n",
       "      <th>0</th>\n",
       "      <td>Aberdeen Regional Airport</td>\n",
       "      <td>ABR</td>\n",
       "      <td>Aberdeen, SD</td>\n",
       "      <td>45.4491</td>\n",
       "      <td>-98.421799</td>\n",
       "      <td>SkyWest</td>\n",
       "      <td>Friday</td>\n",
       "      <td>4.0</td>\n",
       "      <td>-6.000000</td>\n",
       "    </tr>\n",
       "    <tr>\n",
       "      <th>1</th>\n",
       "      <td>Aberdeen Regional Airport</td>\n",
       "      <td>ABR</td>\n",
       "      <td>Aberdeen, SD</td>\n",
       "      <td>45.4491</td>\n",
       "      <td>-98.421799</td>\n",
       "      <td>SkyWest</td>\n",
       "      <td>Friday</td>\n",
       "      <td>5.0</td>\n",
       "      <td>1.151515</td>\n",
       "    </tr>\n",
       "    <tr>\n",
       "      <th>2</th>\n",
       "      <td>Aberdeen Regional Airport</td>\n",
       "      <td>ABR</td>\n",
       "      <td>Aberdeen, SD</td>\n",
       "      <td>45.4491</td>\n",
       "      <td>-98.421799</td>\n",
       "      <td>SkyWest</td>\n",
       "      <td>Friday</td>\n",
       "      <td>6.0</td>\n",
       "      <td>18.333333</td>\n",
       "    </tr>\n",
       "  </tbody>\n",
       "</table>\n",
       "</div>"
      ],
      "text/plain": [
       "                     Airport Code          City  Latitude  Longitude  Carrier  \\\n",
       "0  Aberdeen Regional Airport  ABR  Aberdeen, SD   45.4491 -98.421799  SkyWest   \n",
       "1  Aberdeen Regional Airport  ABR  Aberdeen, SD   45.4491 -98.421799  SkyWest   \n",
       "2  Aberdeen Regional Airport  ABR  Aberdeen, SD   45.4491 -98.421799  SkyWest   \n",
       "\n",
       "  FlightDateDay  Hour  DepartureDelay  \n",
       "0        Friday   4.0       -6.000000  \n",
       "1        Friday   5.0        1.151515  \n",
       "2        Friday   6.0       18.333333  "
      ]
     },
     "execution_count": 311,
     "metadata": {},
     "output_type": "execute_result"
    }
   ],
   "source": [
    "d_agg_origin[:3]"
   ]
  },
  {
   "cell_type": "code",
   "execution_count": 312,
   "metadata": {
    "ExecuteTime": {
     "end_time": "2018-08-09T21:45:08.081385Z",
     "start_time": "2018-08-09T21:45:08.042258Z"
    }
   },
   "outputs": [
    {
     "data": {
      "text/html": [
       "<div>\n",
       "<style scoped>\n",
       "    .dataframe tbody tr th:only-of-type {\n",
       "        vertical-align: middle;\n",
       "    }\n",
       "\n",
       "    .dataframe tbody tr th {\n",
       "        vertical-align: top;\n",
       "    }\n",
       "\n",
       "    .dataframe thead th {\n",
       "        text-align: right;\n",
       "    }\n",
       "</style>\n",
       "<table border=\"1\" class=\"dataframe\">\n",
       "  <thead>\n",
       "    <tr style=\"text-align: right;\">\n",
       "      <th></th>\n",
       "      <th>Airport</th>\n",
       "      <th>Code</th>\n",
       "      <th>City</th>\n",
       "      <th>Latitude</th>\n",
       "      <th>Longitude</th>\n",
       "      <th>Carrier</th>\n",
       "      <th>FlightDateDay</th>\n",
       "      <th>Hour</th>\n",
       "      <th>ArrivalDelay</th>\n",
       "    </tr>\n",
       "  </thead>\n",
       "  <tbody>\n",
       "    <tr>\n",
       "      <th>0</th>\n",
       "      <td>Aberdeen Regional Airport</td>\n",
       "      <td>ABR</td>\n",
       "      <td>Aberdeen, SD</td>\n",
       "      <td>45.4491</td>\n",
       "      <td>-98.421799</td>\n",
       "      <td>SkyWest</td>\n",
       "      <td>Friday</td>\n",
       "      <td>0.0</td>\n",
       "      <td>53.0</td>\n",
       "    </tr>\n",
       "    <tr>\n",
       "      <th>1</th>\n",
       "      <td>Aberdeen Regional Airport</td>\n",
       "      <td>ABR</td>\n",
       "      <td>Aberdeen, SD</td>\n",
       "      <td>45.4491</td>\n",
       "      <td>-98.421799</td>\n",
       "      <td>SkyWest</td>\n",
       "      <td>Friday</td>\n",
       "      <td>2.0</td>\n",
       "      <td>173.5</td>\n",
       "    </tr>\n",
       "    <tr>\n",
       "      <th>2</th>\n",
       "      <td>Aberdeen Regional Airport</td>\n",
       "      <td>ABR</td>\n",
       "      <td>Aberdeen, SD</td>\n",
       "      <td>45.4491</td>\n",
       "      <td>-98.421799</td>\n",
       "      <td>SkyWest</td>\n",
       "      <td>Friday</td>\n",
       "      <td>12.0</td>\n",
       "      <td>-13.4</td>\n",
       "    </tr>\n",
       "  </tbody>\n",
       "</table>\n",
       "</div>"
      ],
      "text/plain": [
       "                     Airport Code          City  Latitude  Longitude  Carrier  \\\n",
       "0  Aberdeen Regional Airport  ABR  Aberdeen, SD   45.4491 -98.421799  SkyWest   \n",
       "1  Aberdeen Regional Airport  ABR  Aberdeen, SD   45.4491 -98.421799  SkyWest   \n",
       "2  Aberdeen Regional Airport  ABR  Aberdeen, SD   45.4491 -98.421799  SkyWest   \n",
       "\n",
       "  FlightDateDay  Hour  ArrivalDelay  \n",
       "0        Friday   0.0          53.0  \n",
       "1        Friday   2.0         173.5  \n",
       "2        Friday  12.0         -13.4  "
      ]
     },
     "execution_count": 312,
     "metadata": {},
     "output_type": "execute_result"
    }
   ],
   "source": [
    "d_agg_destination[:3]"
   ]
  },
  {
   "cell_type": "code",
   "execution_count": 320,
   "metadata": {
    "ExecuteTime": {
     "end_time": "2018-08-09T21:49:07.308610Z",
     "start_time": "2018-08-09T21:49:06.940422Z"
    }
   },
   "outputs": [
    {
     "data": {
      "text/html": [
       "<div>\n",
       "<style scoped>\n",
       "    .dataframe tbody tr th:only-of-type {\n",
       "        vertical-align: middle;\n",
       "    }\n",
       "\n",
       "    .dataframe tbody tr th {\n",
       "        vertical-align: top;\n",
       "    }\n",
       "\n",
       "    .dataframe thead th {\n",
       "        text-align: right;\n",
       "    }\n",
       "</style>\n",
       "<table border=\"1\" class=\"dataframe\">\n",
       "  <thead>\n",
       "    <tr style=\"text-align: right;\">\n",
       "      <th></th>\n",
       "      <th>Airport</th>\n",
       "      <th>Code</th>\n",
       "      <th>City</th>\n",
       "      <th>Latitude</th>\n",
       "      <th>Longitude</th>\n",
       "      <th>Carrier</th>\n",
       "      <th>FlightDateDay</th>\n",
       "      <th>Hour</th>\n",
       "      <th>DepartureDelay</th>\n",
       "      <th>ArrivalDelay</th>\n",
       "    </tr>\n",
       "  </thead>\n",
       "  <tbody>\n",
       "    <tr>\n",
       "      <th>0</th>\n",
       "      <td>Aberdeen Regional Airport</td>\n",
       "      <td>ABR</td>\n",
       "      <td>Aberdeen, SD</td>\n",
       "      <td>45.4491</td>\n",
       "      <td>-98.421799</td>\n",
       "      <td>SkyWest</td>\n",
       "      <td>Friday</td>\n",
       "      <td>4.0</td>\n",
       "      <td>-6.000000</td>\n",
       "      <td>NaN</td>\n",
       "    </tr>\n",
       "    <tr>\n",
       "      <th>1</th>\n",
       "      <td>Aberdeen Regional Airport</td>\n",
       "      <td>ABR</td>\n",
       "      <td>Aberdeen, SD</td>\n",
       "      <td>45.4491</td>\n",
       "      <td>-98.421799</td>\n",
       "      <td>SkyWest</td>\n",
       "      <td>Friday</td>\n",
       "      <td>5.0</td>\n",
       "      <td>1.151515</td>\n",
       "      <td>NaN</td>\n",
       "    </tr>\n",
       "    <tr>\n",
       "      <th>2</th>\n",
       "      <td>Aberdeen Regional Airport</td>\n",
       "      <td>ABR</td>\n",
       "      <td>Aberdeen, SD</td>\n",
       "      <td>45.4491</td>\n",
       "      <td>-98.421799</td>\n",
       "      <td>SkyWest</td>\n",
       "      <td>Friday</td>\n",
       "      <td>6.0</td>\n",
       "      <td>18.333333</td>\n",
       "      <td>NaN</td>\n",
       "    </tr>\n",
       "    <tr>\n",
       "      <th>3</th>\n",
       "      <td>Aberdeen Regional Airport</td>\n",
       "      <td>ABR</td>\n",
       "      <td>Aberdeen, SD</td>\n",
       "      <td>45.4491</td>\n",
       "      <td>-98.421799</td>\n",
       "      <td>SkyWest</td>\n",
       "      <td>Friday</td>\n",
       "      <td>7.0</td>\n",
       "      <td>136.000000</td>\n",
       "      <td>NaN</td>\n",
       "    </tr>\n",
       "    <tr>\n",
       "      <th>4</th>\n",
       "      <td>Aberdeen Regional Airport</td>\n",
       "      <td>ABR</td>\n",
       "      <td>Aberdeen, SD</td>\n",
       "      <td>45.4491</td>\n",
       "      <td>-98.421799</td>\n",
       "      <td>SkyWest</td>\n",
       "      <td>Friday</td>\n",
       "      <td>8.0</td>\n",
       "      <td>63.000000</td>\n",
       "      <td>NaN</td>\n",
       "    </tr>\n",
       "    <tr>\n",
       "      <th>5</th>\n",
       "      <td>Aberdeen Regional Airport</td>\n",
       "      <td>ABR</td>\n",
       "      <td>Aberdeen, SD</td>\n",
       "      <td>45.4491</td>\n",
       "      <td>-98.421799</td>\n",
       "      <td>SkyWest</td>\n",
       "      <td>Friday</td>\n",
       "      <td>9.0</td>\n",
       "      <td>274.000000</td>\n",
       "      <td>NaN</td>\n",
       "    </tr>\n",
       "    <tr>\n",
       "      <th>6</th>\n",
       "      <td>Aberdeen Regional Airport</td>\n",
       "      <td>ABR</td>\n",
       "      <td>Aberdeen, SD</td>\n",
       "      <td>45.4491</td>\n",
       "      <td>-98.421799</td>\n",
       "      <td>SkyWest</td>\n",
       "      <td>Friday</td>\n",
       "      <td>12.0</td>\n",
       "      <td>-11.333333</td>\n",
       "      <td>-13.400000</td>\n",
       "    </tr>\n",
       "    <tr>\n",
       "      <th>7</th>\n",
       "      <td>Aberdeen Regional Airport</td>\n",
       "      <td>ABR</td>\n",
       "      <td>Aberdeen, SD</td>\n",
       "      <td>45.4491</td>\n",
       "      <td>-98.421799</td>\n",
       "      <td>SkyWest</td>\n",
       "      <td>Friday</td>\n",
       "      <td>13.0</td>\n",
       "      <td>0.609756</td>\n",
       "      <td>35.333333</td>\n",
       "    </tr>\n",
       "    <tr>\n",
       "      <th>8</th>\n",
       "      <td>Aberdeen Regional Airport</td>\n",
       "      <td>ABR</td>\n",
       "      <td>Aberdeen, SD</td>\n",
       "      <td>45.4491</td>\n",
       "      <td>-98.421799</td>\n",
       "      <td>SkyWest</td>\n",
       "      <td>Friday</td>\n",
       "      <td>14.0</td>\n",
       "      <td>243.333333</td>\n",
       "      <td>84.000000</td>\n",
       "    </tr>\n",
       "    <tr>\n",
       "      <th>9</th>\n",
       "      <td>Aberdeen Regional Airport</td>\n",
       "      <td>ABR</td>\n",
       "      <td>Aberdeen, SD</td>\n",
       "      <td>45.4491</td>\n",
       "      <td>-98.421799</td>\n",
       "      <td>SkyWest</td>\n",
       "      <td>Friday</td>\n",
       "      <td>16.0</td>\n",
       "      <td>342.000000</td>\n",
       "      <td>NaN</td>\n",
       "    </tr>\n",
       "  </tbody>\n",
       "</table>\n",
       "</div>"
      ],
      "text/plain": [
       "                     Airport Code          City  Latitude  Longitude  Carrier  \\\n",
       "0  Aberdeen Regional Airport  ABR  Aberdeen, SD   45.4491 -98.421799  SkyWest   \n",
       "1  Aberdeen Regional Airport  ABR  Aberdeen, SD   45.4491 -98.421799  SkyWest   \n",
       "2  Aberdeen Regional Airport  ABR  Aberdeen, SD   45.4491 -98.421799  SkyWest   \n",
       "3  Aberdeen Regional Airport  ABR  Aberdeen, SD   45.4491 -98.421799  SkyWest   \n",
       "4  Aberdeen Regional Airport  ABR  Aberdeen, SD   45.4491 -98.421799  SkyWest   \n",
       "5  Aberdeen Regional Airport  ABR  Aberdeen, SD   45.4491 -98.421799  SkyWest   \n",
       "6  Aberdeen Regional Airport  ABR  Aberdeen, SD   45.4491 -98.421799  SkyWest   \n",
       "7  Aberdeen Regional Airport  ABR  Aberdeen, SD   45.4491 -98.421799  SkyWest   \n",
       "8  Aberdeen Regional Airport  ABR  Aberdeen, SD   45.4491 -98.421799  SkyWest   \n",
       "9  Aberdeen Regional Airport  ABR  Aberdeen, SD   45.4491 -98.421799  SkyWest   \n",
       "\n",
       "  FlightDateDay  Hour  DepartureDelay  ArrivalDelay  \n",
       "0        Friday   4.0       -6.000000           NaN  \n",
       "1        Friday   5.0        1.151515           NaN  \n",
       "2        Friday   6.0       18.333333           NaN  \n",
       "3        Friday   7.0      136.000000           NaN  \n",
       "4        Friday   8.0       63.000000           NaN  \n",
       "5        Friday   9.0      274.000000           NaN  \n",
       "6        Friday  12.0      -11.333333    -13.400000  \n",
       "7        Friday  13.0        0.609756     35.333333  \n",
       "8        Friday  14.0      243.333333     84.000000  \n",
       "9        Friday  16.0      342.000000           NaN  "
      ]
     },
     "execution_count": 320,
     "metadata": {},
     "output_type": "execute_result"
    }
   ],
   "source": [
    "d_agg = pd.merge(left=d_agg_origin, right=d_agg_destination, how='outer')\n",
    "d_agg[:10]"
   ]
  },
  {
   "cell_type": "code",
   "execution_count": 318,
   "metadata": {
    "ExecuteTime": {
     "end_time": "2018-08-09T21:48:46.800032Z",
     "start_time": "2018-08-09T21:48:46.747694Z"
    }
   },
   "outputs": [
    {
     "data": {
      "text/html": [
       "<div>\n",
       "<style scoped>\n",
       "    .dataframe tbody tr th:only-of-type {\n",
       "        vertical-align: middle;\n",
       "    }\n",
       "\n",
       "    .dataframe tbody tr th {\n",
       "        vertical-align: top;\n",
       "    }\n",
       "\n",
       "    .dataframe thead th {\n",
       "        text-align: right;\n",
       "    }\n",
       "</style>\n",
       "<table border=\"1\" class=\"dataframe\">\n",
       "  <thead>\n",
       "    <tr style=\"text-align: right;\">\n",
       "      <th></th>\n",
       "      <th>Airport</th>\n",
       "      <th>Code</th>\n",
       "      <th>City</th>\n",
       "      <th>Latitude</th>\n",
       "      <th>Longitude</th>\n",
       "      <th>Carrier</th>\n",
       "      <th>FlightDateDay</th>\n",
       "      <th>Hour</th>\n",
       "      <th>DepartureDelay</th>\n",
       "      <th>ArrivalDelay</th>\n",
       "    </tr>\n",
       "  </thead>\n",
       "  <tbody>\n",
       "    <tr>\n",
       "      <th>127695</th>\n",
       "      <td>Aberdeen Regional Airport</td>\n",
       "      <td>ABR</td>\n",
       "      <td>Aberdeen, SD</td>\n",
       "      <td>45.4491</td>\n",
       "      <td>-98.421799</td>\n",
       "      <td>SkyWest</td>\n",
       "      <td>Friday</td>\n",
       "      <td>2.0</td>\n",
       "      <td>NaN</td>\n",
       "      <td>173.5</td>\n",
       "    </tr>\n",
       "  </tbody>\n",
       "</table>\n",
       "</div>"
      ],
      "text/plain": [
       "                          Airport Code          City  Latitude  Longitude  \\\n",
       "127695  Aberdeen Regional Airport  ABR  Aberdeen, SD   45.4491 -98.421799   \n",
       "\n",
       "        Carrier FlightDateDay  Hour  DepartureDelay  ArrivalDelay  \n",
       "127695  SkyWest        Friday   2.0             NaN         173.5  "
      ]
     },
     "execution_count": 318,
     "metadata": {},
     "output_type": "execute_result"
    }
   ],
   "source": [
    "d_agg[(d_agg['Code'] == 'ABR') & (d_agg['Carrier'] == 'SkyWest') & (d_agg['Hour'] == 2)]"
   ]
  },
  {
   "cell_type": "code",
   "execution_count": 321,
   "metadata": {
    "ExecuteTime": {
     "end_time": "2018-08-09T21:49:49.553361Z",
     "start_time": "2018-08-09T21:49:47.861529Z"
    }
   },
   "outputs": [],
   "source": [
    "d_agg.to_csv('../data/airport_delays.csv', index=False)"
   ]
  },
  {
   "cell_type": "code",
   "execution_count": null,
   "metadata": {},
   "outputs": [],
   "source": []
  },
  {
   "cell_type": "markdown",
   "metadata": {},
   "source": [
    "# First cut, paths for maps linking airports"
   ]
  },
  {
   "cell_type": "code",
   "execution_count": 68,
   "metadata": {
    "ExecuteTime": {
     "end_time": "2018-08-05T19:25:55.915256Z",
     "start_time": "2018-08-05T19:25:55.525073Z"
    }
   },
   "outputs": [
    {
     "data": {
      "text/html": [
       "<div>\n",
       "<style scoped>\n",
       "    .dataframe tbody tr th:only-of-type {\n",
       "        vertical-align: middle;\n",
       "    }\n",
       "\n",
       "    .dataframe tbody tr th {\n",
       "        vertical-align: top;\n",
       "    }\n",
       "\n",
       "    .dataframe thead th {\n",
       "        text-align: right;\n",
       "    }\n",
       "</style>\n",
       "<table border=\"1\" class=\"dataframe\">\n",
       "  <thead>\n",
       "    <tr style=\"text-align: right;\">\n",
       "      <th></th>\n",
       "      <th>ORIGIN</th>\n",
       "      <th>DEST</th>\n",
       "      <th>ORIGIN_CITY_NAME</th>\n",
       "      <th>DEST_CITY_NAME</th>\n",
       "      <th>Name_orig</th>\n",
       "      <th>Name_dest</th>\n",
       "      <th>Latitude_orig</th>\n",
       "      <th>Longitude_orig</th>\n",
       "      <th>Latitude_dest</th>\n",
       "      <th>Longitude_dest</th>\n",
       "      <th>CountOfFlights</th>\n",
       "    </tr>\n",
       "  </thead>\n",
       "  <tbody>\n",
       "    <tr>\n",
       "      <th>0</th>\n",
       "      <td>ABE</td>\n",
       "      <td>ATL</td>\n",
       "      <td>Allentown/Bethlehem/Easton, PA</td>\n",
       "      <td>Atlanta, GA</td>\n",
       "      <td>Lehigh Valley International Airport</td>\n",
       "      <td>Hartsfield Jackson Atlanta International Airport</td>\n",
       "      <td>40.652100</td>\n",
       "      <td>-75.440804</td>\n",
       "      <td>33.636700</td>\n",
       "      <td>-84.428101</td>\n",
       "      <td>128</td>\n",
       "    </tr>\n",
       "    <tr>\n",
       "      <th>1</th>\n",
       "      <td>ABE</td>\n",
       "      <td>DTW</td>\n",
       "      <td>Allentown/Bethlehem/Easton, PA</td>\n",
       "      <td>Detroit, MI</td>\n",
       "      <td>Lehigh Valley International Airport</td>\n",
       "      <td>Detroit Metropolitan Wayne County Airport</td>\n",
       "      <td>40.652100</td>\n",
       "      <td>-75.440804</td>\n",
       "      <td>42.212399</td>\n",
       "      <td>-83.353401</td>\n",
       "      <td>113</td>\n",
       "    </tr>\n",
       "    <tr>\n",
       "      <th>2</th>\n",
       "      <td>ABE</td>\n",
       "      <td>ORD</td>\n",
       "      <td>Allentown/Bethlehem/Easton, PA</td>\n",
       "      <td>Chicago, IL</td>\n",
       "      <td>Lehigh Valley International Airport</td>\n",
       "      <td>Chicago O'Hare International Airport</td>\n",
       "      <td>40.652100</td>\n",
       "      <td>-75.440804</td>\n",
       "      <td>41.978600</td>\n",
       "      <td>-87.904800</td>\n",
       "      <td>78</td>\n",
       "    </tr>\n",
       "    <tr>\n",
       "      <th>3</th>\n",
       "      <td>ABI</td>\n",
       "      <td>DFW</td>\n",
       "      <td>Abilene, TX</td>\n",
       "      <td>Dallas/Fort Worth, TX</td>\n",
       "      <td>Abilene Regional Airport</td>\n",
       "      <td>Dallas Fort Worth International Airport</td>\n",
       "      <td>32.411301</td>\n",
       "      <td>-99.681900</td>\n",
       "      <td>32.896801</td>\n",
       "      <td>-97.038002</td>\n",
       "      <td>41</td>\n",
       "    </tr>\n",
       "    <tr>\n",
       "      <th>4</th>\n",
       "      <td>ABQ</td>\n",
       "      <td>ATL</td>\n",
       "      <td>Albuquerque, NM</td>\n",
       "      <td>Atlanta, GA</td>\n",
       "      <td>Albuquerque International Sunport Airport</td>\n",
       "      <td>Hartsfield Jackson Atlanta International Airport</td>\n",
       "      <td>35.040199</td>\n",
       "      <td>-106.609001</td>\n",
       "      <td>33.636700</td>\n",
       "      <td>-84.428101</td>\n",
       "      <td>94</td>\n",
       "    </tr>\n",
       "  </tbody>\n",
       "</table>\n",
       "</div>"
      ],
      "text/plain": [
       "  ORIGIN DEST                ORIGIN_CITY_NAME         DEST_CITY_NAME  \\\n",
       "0    ABE  ATL  Allentown/Bethlehem/Easton, PA            Atlanta, GA   \n",
       "1    ABE  DTW  Allentown/Bethlehem/Easton, PA            Detroit, MI   \n",
       "2    ABE  ORD  Allentown/Bethlehem/Easton, PA            Chicago, IL   \n",
       "3    ABI  DFW                     Abilene, TX  Dallas/Fort Worth, TX   \n",
       "4    ABQ  ATL                 Albuquerque, NM            Atlanta, GA   \n",
       "\n",
       "                                   Name_orig  \\\n",
       "0        Lehigh Valley International Airport   \n",
       "1        Lehigh Valley International Airport   \n",
       "2        Lehigh Valley International Airport   \n",
       "3                   Abilene Regional Airport   \n",
       "4  Albuquerque International Sunport Airport   \n",
       "\n",
       "                                          Name_dest  Latitude_orig  \\\n",
       "0  Hartsfield Jackson Atlanta International Airport      40.652100   \n",
       "1         Detroit Metropolitan Wayne County Airport      40.652100   \n",
       "2              Chicago O'Hare International Airport      40.652100   \n",
       "3           Dallas Fort Worth International Airport      32.411301   \n",
       "4  Hartsfield Jackson Atlanta International Airport      35.040199   \n",
       "\n",
       "   Longitude_orig  Latitude_dest  Longitude_dest  CountOfFlights  \n",
       "0      -75.440804      33.636700      -84.428101             128  \n",
       "1      -75.440804      42.212399      -83.353401             113  \n",
       "2      -75.440804      41.978600      -87.904800              78  \n",
       "3      -99.681900      32.896801      -97.038002              41  \n",
       "4     -106.609001      33.636700      -84.428101              94  "
      ]
     },
     "execution_count": 68,
     "metadata": {},
     "output_type": "execute_result"
    }
   ],
   "source": [
    "d_paths_data = d.groupby(['ORIGIN','DEST','ORIGIN_CITY_NAME','DEST_CITY_NAME',\n",
    "           'Name_orig','Name_dest',\n",
    "           'Latitude_orig','Longitude_orig',\n",
    "           'Latitude_dest','Longitude_dest'], as_index=True).size().reset_index()\n",
    "d_paths_data.rename(columns={0:'CountOfFlights'}, inplace=True)\n",
    "d_paths_data[:5]"
   ]
  },
  {
   "cell_type": "code",
   "execution_count": 86,
   "metadata": {
    "ExecuteTime": {
     "end_time": "2018-08-05T19:33:46.406224Z",
     "start_time": "2018-08-05T19:33:46.361527Z"
    }
   },
   "outputs": [
    {
     "data": {
      "text/plain": [
       "[Pandas(ORIGIN='ABE', DEST='ATL', ORIGIN_CITY_NAME='Allentown/Bethlehem/Easton, PA', DEST_CITY_NAME='Atlanta, GA', Name_orig='Lehigh Valley International Airport', Name_dest='Hartsfield Jackson Atlanta International Airport', Latitude_orig=40.652099609375, Longitude_orig=-75.44080352783203, Latitude_dest=33.63669967651367, Longitude_dest=-84.4281005859375, CountOfFlights=128)]"
      ]
     },
     "execution_count": 86,
     "metadata": {},
     "output_type": "execute_result"
    }
   ],
   "source": [
    "foo = list(d_paths_data[:1].itertuples(index=False))\n",
    "foo"
   ]
  },
  {
   "cell_type": "code",
   "execution_count": 92,
   "metadata": {
    "ExecuteTime": {
     "end_time": "2018-08-05T19:34:43.376606Z",
     "start_time": "2018-08-05T19:34:43.368332Z"
    }
   },
   "outputs": [
    {
     "data": {
      "text/plain": [
       "'ABE'"
      ]
     },
     "execution_count": 92,
     "metadata": {},
     "output_type": "execute_result"
    }
   ],
   "source": [
    "foo[0].ORIGIN"
   ]
  },
  {
   "cell_type": "code",
   "execution_count": 127,
   "metadata": {
    "ExecuteTime": {
     "end_time": "2018-08-05T21:35:48.645946Z",
     "start_time": "2018-08-05T21:35:48.573256Z"
    }
   },
   "outputs": [],
   "source": [
    "d_path_rows = []\n",
    "for index, flight in enumerate(d_paths_data.itertuples(index=False)):\n",
    "    path_id = f'{flight.ORIGIN}-{flight.DEST}'\n",
    "    origin = {'PathId':path_id, 'IATA':flight.ORIGIN, 'City':flight.ORIGIN_CITY_NAME, \n",
    "              'Airport':flight.Name_orig, 'Latitude':flight.Latitude_orig, \n",
    "              'Longitude':flight.Longitude_orig, 'CountOfFlights':flight.CountOfFlights,\n",
    "              'PointOrder':0}\n",
    "    dest = {'PathId':path_id, 'IATA':flight.DEST, 'City':flight.DEST_CITY_NAME, \n",
    "            'Airport':flight.Name_dest, 'Latitude':flight.Latitude_dest, \n",
    "            'Longitude':flight.Longitude_dest, 'CountOfFlights':0,\n",
    "            'PointOrder':1}\n",
    "    d_path_rows.append(origin)\n",
    "    d_path_rows.append(dest)\n",
    "    \n",
    "d_paths = pd.DataFrame(d_path_rows)"
   ]
  },
  {
   "cell_type": "code",
   "execution_count": 128,
   "metadata": {
    "ExecuteTime": {
     "end_time": "2018-08-05T21:35:48.834616Z",
     "start_time": "2018-08-05T21:35:48.815468Z"
    }
   },
   "outputs": [
    {
     "data": {
      "text/html": [
       "<div>\n",
       "<style scoped>\n",
       "    .dataframe tbody tr th:only-of-type {\n",
       "        vertical-align: middle;\n",
       "    }\n",
       "\n",
       "    .dataframe tbody tr th {\n",
       "        vertical-align: top;\n",
       "    }\n",
       "\n",
       "    .dataframe thead th {\n",
       "        text-align: right;\n",
       "    }\n",
       "</style>\n",
       "<table border=\"1\" class=\"dataframe\">\n",
       "  <thead>\n",
       "    <tr style=\"text-align: right;\">\n",
       "      <th></th>\n",
       "      <th>Airport</th>\n",
       "      <th>City</th>\n",
       "      <th>CountOfFlights</th>\n",
       "      <th>IATA</th>\n",
       "      <th>Latitude</th>\n",
       "      <th>Longitude</th>\n",
       "      <th>PathId</th>\n",
       "      <th>PointOrder</th>\n",
       "    </tr>\n",
       "  </thead>\n",
       "  <tbody>\n",
       "    <tr>\n",
       "      <th>0</th>\n",
       "      <td>Lehigh Valley International Airport</td>\n",
       "      <td>Allentown/Bethlehem/Easton, PA</td>\n",
       "      <td>128</td>\n",
       "      <td>ABE</td>\n",
       "      <td>40.652100</td>\n",
       "      <td>-75.440804</td>\n",
       "      <td>ABE-ATL</td>\n",
       "      <td>0</td>\n",
       "    </tr>\n",
       "    <tr>\n",
       "      <th>1</th>\n",
       "      <td>Hartsfield Jackson Atlanta International Airport</td>\n",
       "      <td>Atlanta, GA</td>\n",
       "      <td>0</td>\n",
       "      <td>ATL</td>\n",
       "      <td>33.636700</td>\n",
       "      <td>-84.428101</td>\n",
       "      <td>ABE-ATL</td>\n",
       "      <td>1</td>\n",
       "    </tr>\n",
       "    <tr>\n",
       "      <th>2</th>\n",
       "      <td>Lehigh Valley International Airport</td>\n",
       "      <td>Allentown/Bethlehem/Easton, PA</td>\n",
       "      <td>113</td>\n",
       "      <td>ABE</td>\n",
       "      <td>40.652100</td>\n",
       "      <td>-75.440804</td>\n",
       "      <td>ABE-DTW</td>\n",
       "      <td>0</td>\n",
       "    </tr>\n",
       "    <tr>\n",
       "      <th>3</th>\n",
       "      <td>Detroit Metropolitan Wayne County Airport</td>\n",
       "      <td>Detroit, MI</td>\n",
       "      <td>0</td>\n",
       "      <td>DTW</td>\n",
       "      <td>42.212399</td>\n",
       "      <td>-83.353401</td>\n",
       "      <td>ABE-DTW</td>\n",
       "      <td>1</td>\n",
       "    </tr>\n",
       "  </tbody>\n",
       "</table>\n",
       "</div>"
      ],
      "text/plain": [
       "                                            Airport  \\\n",
       "0               Lehigh Valley International Airport   \n",
       "1  Hartsfield Jackson Atlanta International Airport   \n",
       "2               Lehigh Valley International Airport   \n",
       "3         Detroit Metropolitan Wayne County Airport   \n",
       "\n",
       "                             City  CountOfFlights IATA   Latitude  Longitude  \\\n",
       "0  Allentown/Bethlehem/Easton, PA             128  ABE  40.652100 -75.440804   \n",
       "1                     Atlanta, GA               0  ATL  33.636700 -84.428101   \n",
       "2  Allentown/Bethlehem/Easton, PA             113  ABE  40.652100 -75.440804   \n",
       "3                     Detroit, MI               0  DTW  42.212399 -83.353401   \n",
       "\n",
       "    PathId  PointOrder  \n",
       "0  ABE-ATL           0  \n",
       "1  ABE-ATL           1  \n",
       "2  ABE-DTW           0  \n",
       "3  ABE-DTW           1  "
      ]
     },
     "execution_count": 128,
     "metadata": {},
     "output_type": "execute_result"
    }
   ],
   "source": [
    "d_paths[:4]"
   ]
  },
  {
   "cell_type": "code",
   "execution_count": 129,
   "metadata": {
    "ExecuteTime": {
     "end_time": "2018-08-05T21:35:51.244040Z",
     "start_time": "2018-08-05T21:35:51.056382Z"
    }
   },
   "outputs": [],
   "source": [
    "d_paths.to_csv('../data/flight_paths.csv', index=False)"
   ]
  },
  {
   "cell_type": "code",
   "execution_count": null,
   "metadata": {},
   "outputs": [],
   "source": []
  }
 ],
 "metadata": {
  "kernelspec": {
   "display_name": "Python 3",
   "language": "python",
   "name": "python3"
  },
  "language_info": {
   "codemirror_mode": {
    "name": "ipython",
    "version": 3
   },
   "file_extension": ".py",
   "mimetype": "text/x-python",
   "name": "python",
   "nbconvert_exporter": "python",
   "pygments_lexer": "ipython3",
   "version": "3.6.4"
  }
 },
 "nbformat": 4,
 "nbformat_minor": 2
}
