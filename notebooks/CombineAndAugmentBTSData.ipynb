{
 "cells": [
  {
   "cell_type": "code",
   "execution_count": 3,
   "metadata": {
    "ExecuteTime": {
     "end_time": "2018-08-02T16:28:31.049279Z",
     "start_time": "2018-08-02T16:28:29.769058Z"
    }
   },
   "outputs": [
    {
     "name": "stderr",
     "output_type": "stream",
     "text": [
      "/Users/andrewenfield/miniconda3/envs/anaconda/lib/python3.6/importlib/_bootstrap.py:219: RuntimeWarning: numpy.dtype size changed, may indicate binary incompatibility. Expected 96, got 88\n",
      "  return f(*args, **kwds)\n",
      "/Users/andrewenfield/miniconda3/envs/anaconda/lib/python3.6/importlib/_bootstrap.py:219: RuntimeWarning: numpy.dtype size changed, may indicate binary incompatibility. Expected 96, got 88\n",
      "  return f(*args, **kwds)\n"
     ]
    }
   ],
   "source": [
    "import pandas as pd\n",
    "import numpy as np\n",
    "import matplotlib.pyplot as plt\n",
    "import seaborn as sns\n",
    "\n",
    "%matplotlib inline\n",
    "\n",
    "# \"RuntimeWarning: numpy.dtype size changed, may indicate binary incompatibility\"\n",
    "# errors are ok, per https://stackoverflow.com/questions/40845304/runtimewarning-numpy-dtype-size-changed-may-indicate-binary-incompatibility"
   ]
  },
  {
   "cell_type": "code",
   "execution_count": 162,
   "metadata": {
    "ExecuteTime": {
     "end_time": "2018-08-02T23:20:24.230447Z",
     "start_time": "2018-08-02T23:20:24.222621Z"
    }
   },
   "outputs": [],
   "source": [
    "file_prefix = '../data/362070167_T_ONTIME-'\n",
    "#file_month_range = range(1,3)\n",
    "file_month_range = range(1,13)"
   ]
  },
  {
   "cell_type": "code",
   "execution_count": 163,
   "metadata": {
    "ExecuteTime": {
     "end_time": "2018-08-02T23:20:24.313238Z",
     "start_time": "2018-08-02T23:20:24.298695Z"
    }
   },
   "outputs": [],
   "source": [
    "dtypes = {\n",
    "    'CARRIER': 'category'\n",
    "    ,'TAIL_NUM': 'category'\n",
    "    ,'ORIGIN': 'category'\n",
    "    ,'ORIGIN_CITY_NAME': 'category'\n",
    "    ,'DEST': 'category'\n",
    "    ,'DEST_CITY_NAME': 'category'\n",
    "    ,'CANCELLATION_CODE': 'category'}"
   ]
  },
  {
   "cell_type": "code",
   "execution_count": 137,
   "metadata": {
    "ExecuteTime": {
     "end_time": "2018-08-02T23:20:10.094667Z",
     "start_time": "2018-08-02T23:19:35.440681Z"
    }
   },
   "outputs": [],
   "source": [
    "d_bts_by_month = []\n",
    "for month_index in file_month_range:\n",
    "    d_bts_by_month.append(pd.read_csv(f'{file_prefix}{month_index}.csv', dtype=dtypes))"
   ]
  },
  {
   "cell_type": "code",
   "execution_count": 164,
   "metadata": {
    "ExecuteTime": {
     "end_time": "2018-08-02T23:20:37.521683Z",
     "start_time": "2018-08-02T23:20:37.504632Z"
    }
   },
   "outputs": [
    {
     "name": "stdout",
     "output_type": "stream",
     "text": [
      "0 (450017, 34)\n",
      "1 (410517, 34)\n",
      "2 (488597, 34)\n",
      "3 (468329, 34)\n",
      "4 (486483, 34)\n",
      "5 (494266, 34)\n",
      "6 (509070, 34)\n",
      "7 (510451, 34)\n",
      "8 (458727, 34)\n",
      "9 (479797, 34)\n",
      "10 (454162, 34)\n",
      "11 (464205, 34)\n"
     ]
    }
   ],
   "source": [
    "for idx, d_month in enumerate(d_bts_by_month):\n",
    "    print(idx, d_month.shape)"
   ]
  },
  {
   "cell_type": "code",
   "execution_count": 166,
   "metadata": {
    "ExecuteTime": {
     "end_time": "2018-08-02T23:20:50.386539Z",
     "start_time": "2018-08-02T23:20:43.677491Z"
    }
   },
   "outputs": [
    {
     "data": {
      "text/plain": [
       "(5674621, 34)"
      ]
     },
     "execution_count": 166,
     "metadata": {},
     "output_type": "execute_result"
    }
   ],
   "source": [
    "d_bts = pd.concat(d_bts_by_month, ignore_index=True)\n",
    "d_bts.shape"
   ]
  },
  {
   "cell_type": "markdown",
   "metadata": {},
   "source": [
    "Even if we read the data individually as categories, we don't retain that type after the concat for every field (probably because the fields have different unique values). We can get back to the categorical type, and a smaller dataframe, by reapplying the type."
   ]
  },
  {
   "cell_type": "code",
   "execution_count": 167,
   "metadata": {
    "ExecuteTime": {
     "end_time": "2018-08-02T23:20:54.711775Z",
     "start_time": "2018-08-02T23:20:51.711564Z"
    }
   },
   "outputs": [],
   "source": [
    "for field in dtypes:\n",
    "    d_bts[field] = d_bts[field].astype(dtypes[field])"
   ]
  },
  {
   "cell_type": "markdown",
   "metadata": {},
   "source": [
    "And we'll get a datetime too."
   ]
  },
  {
   "cell_type": "code",
   "execution_count": 168,
   "metadata": {
    "ExecuteTime": {
     "end_time": "2018-08-02T23:20:55.895167Z",
     "start_time": "2018-08-02T23:20:54.713963Z"
    }
   },
   "outputs": [],
   "source": [
    "d_bts['FL_DATE'] = pd.to_datetime(d_bts['FL_DATE'])"
   ]
  },
  {
   "cell_type": "code",
   "execution_count": 169,
   "metadata": {
    "ExecuteTime": {
     "end_time": "2018-08-02T23:20:56.372598Z",
     "start_time": "2018-08-02T23:20:56.362606Z"
    }
   },
   "outputs": [],
   "source": [
    "def mem_usage(pandas_obj):\n",
    "    if isinstance(pandas_obj,pd.DataFrame):\n",
    "        usage_b = pandas_obj.memory_usage(deep=True).sum()\n",
    "    else: # we assume if not a df it's a series\n",
    "        usage_b = pandas_obj.memory_usage(deep=True)\n",
    "    usage_mb = usage_b / 1024 ** 2 # convert bytes to megabytes\n",
    "    return \"{:03.2f} MB\".format(usage_mb)"
   ]
  },
  {
   "cell_type": "code",
   "execution_count": 170,
   "metadata": {
    "ExecuteTime": {
     "end_time": "2018-08-02T23:20:56.638494Z",
     "start_time": "2018-08-02T23:20:56.616751Z"
    }
   },
   "outputs": [
    {
     "data": {
      "text/plain": [
       "'1234.44 MB'"
      ]
     },
     "execution_count": 170,
     "metadata": {},
     "output_type": "execute_result"
    }
   ],
   "source": [
    "mem_usage(d_bts)"
   ]
  },
  {
   "cell_type": "code",
   "execution_count": 171,
   "metadata": {
    "ExecuteTime": {
     "end_time": "2018-08-02T23:20:57.554876Z",
     "start_time": "2018-08-02T23:20:57.540355Z"
    }
   },
   "outputs": [
    {
     "data": {
      "text/plain": [
       "FL_DATE                datetime64[ns]\n",
       "CARRIER                      category\n",
       "TAIL_NUM                     category\n",
       "FL_NUM                          int64\n",
       "ORIGIN                       category\n",
       "ORIGIN_CITY_NAME             category\n",
       "DEST                         category\n",
       "DEST_CITY_NAME               category\n",
       "CRS_DEP_TIME                    int64\n",
       "DEP_TIME                      float64\n",
       "DEP_DELAY                     float64\n",
       "DEP_DELAY_NEW                 float64\n",
       "TAXI_OUT                      float64\n",
       "WHEELS_OFF                    float64\n",
       "WHEELS_ON                     float64\n",
       "TAXI_IN                       float64\n",
       "CRS_ARR_TIME                    int64\n",
       "ARR_TIME                      float64\n",
       "ARR_DELAY                     float64\n",
       "ARR_DELAY_NEW                 float64\n",
       "CANCELLED                     float64\n",
       "CANCELLATION_CODE            category\n",
       "DIVERTED                      float64\n",
       "CRS_ELAPSED_TIME              float64\n",
       "ACTUAL_ELAPSED_TIME           float64\n",
       "AIR_TIME                      float64\n",
       "FLIGHTS                       float64\n",
       "DISTANCE                      float64\n",
       "CARRIER_DELAY                 float64\n",
       "WEATHER_DELAY                 float64\n",
       "NAS_DELAY                     float64\n",
       "SECURITY_DELAY                float64\n",
       "LATE_AIRCRAFT_DELAY           float64\n",
       "Unnamed: 33                   float64\n",
       "dtype: object"
      ]
     },
     "execution_count": 171,
     "metadata": {},
     "output_type": "execute_result"
    }
   ],
   "source": [
    "d_bts.dtypes"
   ]
  },
  {
   "cell_type": "code",
   "execution_count": 172,
   "metadata": {
    "ExecuteTime": {
     "end_time": "2018-08-02T23:20:59.797495Z",
     "start_time": "2018-08-02T23:20:59.762374Z"
    }
   },
   "outputs": [
    {
     "data": {
      "text/html": [
       "<div>\n",
       "<style scoped>\n",
       "    .dataframe tbody tr th:only-of-type {\n",
       "        vertical-align: middle;\n",
       "    }\n",
       "\n",
       "    .dataframe tbody tr th {\n",
       "        vertical-align: top;\n",
       "    }\n",
       "\n",
       "    .dataframe thead th {\n",
       "        text-align: right;\n",
       "    }\n",
       "</style>\n",
       "<table border=\"1\" class=\"dataframe\">\n",
       "  <thead>\n",
       "    <tr style=\"text-align: right;\">\n",
       "      <th></th>\n",
       "      <th>FL_DATE</th>\n",
       "      <th>CARRIER</th>\n",
       "      <th>TAIL_NUM</th>\n",
       "      <th>FL_NUM</th>\n",
       "      <th>ORIGIN</th>\n",
       "      <th>ORIGIN_CITY_NAME</th>\n",
       "      <th>DEST</th>\n",
       "      <th>DEST_CITY_NAME</th>\n",
       "      <th>CRS_DEP_TIME</th>\n",
       "      <th>DEP_TIME</th>\n",
       "      <th>...</th>\n",
       "      <th>ACTUAL_ELAPSED_TIME</th>\n",
       "      <th>AIR_TIME</th>\n",
       "      <th>FLIGHTS</th>\n",
       "      <th>DISTANCE</th>\n",
       "      <th>CARRIER_DELAY</th>\n",
       "      <th>WEATHER_DELAY</th>\n",
       "      <th>NAS_DELAY</th>\n",
       "      <th>SECURITY_DELAY</th>\n",
       "      <th>LATE_AIRCRAFT_DELAY</th>\n",
       "      <th>Unnamed: 33</th>\n",
       "    </tr>\n",
       "  </thead>\n",
       "  <tbody>\n",
       "    <tr>\n",
       "      <th>0</th>\n",
       "      <td>2017-01-01</td>\n",
       "      <td>AA</td>\n",
       "      <td>N153AA</td>\n",
       "      <td>1766</td>\n",
       "      <td>ORD</td>\n",
       "      <td>Chicago, IL</td>\n",
       "      <td>DFW</td>\n",
       "      <td>Dallas/Fort Worth, TX</td>\n",
       "      <td>710</td>\n",
       "      <td>705.0</td>\n",
       "      <td>...</td>\n",
       "      <td>147.0</td>\n",
       "      <td>121.0</td>\n",
       "      <td>1.0</td>\n",
       "      <td>802.0</td>\n",
       "      <td>NaN</td>\n",
       "      <td>NaN</td>\n",
       "      <td>NaN</td>\n",
       "      <td>NaN</td>\n",
       "      <td>NaN</td>\n",
       "      <td>NaN</td>\n",
       "    </tr>\n",
       "  </tbody>\n",
       "</table>\n",
       "<p>1 rows × 34 columns</p>\n",
       "</div>"
      ],
      "text/plain": [
       "     FL_DATE CARRIER TAIL_NUM  FL_NUM ORIGIN ORIGIN_CITY_NAME DEST  \\\n",
       "0 2017-01-01      AA   N153AA    1766    ORD      Chicago, IL  DFW   \n",
       "\n",
       "          DEST_CITY_NAME  CRS_DEP_TIME  DEP_TIME     ...       \\\n",
       "0  Dallas/Fort Worth, TX           710     705.0     ...        \n",
       "\n",
       "   ACTUAL_ELAPSED_TIME  AIR_TIME  FLIGHTS  DISTANCE  CARRIER_DELAY  \\\n",
       "0                147.0     121.0      1.0     802.0            NaN   \n",
       "\n",
       "   WEATHER_DELAY  NAS_DELAY  SECURITY_DELAY  LATE_AIRCRAFT_DELAY  Unnamed: 33  \n",
       "0            NaN        NaN             NaN                  NaN          NaN  \n",
       "\n",
       "[1 rows x 34 columns]"
      ]
     },
     "execution_count": 172,
     "metadata": {},
     "output_type": "execute_result"
    }
   ],
   "source": [
    "d_bts[:1]"
   ]
  },
  {
   "cell_type": "code",
   "execution_count": 173,
   "metadata": {
    "ExecuteTime": {
     "end_time": "2018-08-02T23:21:01.194811Z",
     "start_time": "2018-08-02T23:21:00.327694Z"
    }
   },
   "outputs": [
    {
     "data": {
      "text/plain": [
       "<matplotlib.axes._subplots.AxesSubplot at 0x1a203e18d0>"
      ]
     },
     "execution_count": 173,
     "metadata": {},
     "output_type": "execute_result"
    },
    {
     "data": {
      "image/png": "[encoded data removed]",
      "text/plain": [
       "<matplotlib.figure.Figure at 0x1a3721d908>"
      ]
     },
     "metadata": {},
     "output_type": "display_data"
    }
   ],
   "source": [
    "d_bts['FL_DATE'].hist()"
   ]
  },
  {
   "cell_type": "code",
   "execution_count": 174,
   "metadata": {
    "ExecuteTime": {
     "end_time": "2018-08-02T23:21:04.156226Z",
     "start_time": "2018-08-02T23:21:04.057764Z"
    }
   },
   "outputs": [
    {
     "data": {
      "text/plain": [
       "(7184, 14)"
      ]
     },
     "execution_count": 174,
     "metadata": {},
     "output_type": "execute_result"
    }
   ],
   "source": [
    "d_airports = pd.read_csv('../data/airports.csv')\n",
    "d_airports.shape"
   ]
  },
  {
   "cell_type": "code",
   "execution_count": 175,
   "metadata": {
    "ExecuteTime": {
     "end_time": "2018-08-02T23:21:04.626266Z",
     "start_time": "2018-08-02T23:21:04.607018Z"
    }
   },
   "outputs": [
    {
     "data": {
      "text/html": [
       "<div>\n",
       "<style scoped>\n",
       "    .dataframe tbody tr th:only-of-type {\n",
       "        vertical-align: middle;\n",
       "    }\n",
       "\n",
       "    .dataframe tbody tr th {\n",
       "        vertical-align: top;\n",
       "    }\n",
       "\n",
       "    .dataframe thead th {\n",
       "        text-align: right;\n",
       "    }\n",
       "</style>\n",
       "<table border=\"1\" class=\"dataframe\">\n",
       "  <thead>\n",
       "    <tr style=\"text-align: right;\">\n",
       "      <th></th>\n",
       "      <th>AirportID</th>\n",
       "      <th>Name</th>\n",
       "      <th>City</th>\n",
       "      <th>Country</th>\n",
       "      <th>IATA</th>\n",
       "      <th>ICAO</th>\n",
       "      <th>Latitude</th>\n",
       "      <th>Longitude</th>\n",
       "      <th>Altitude</th>\n",
       "      <th>Timezone</th>\n",
       "      <th>DST</th>\n",
       "      <th>TzTimezone</th>\n",
       "      <th>Type</th>\n",
       "      <th>Source</th>\n",
       "    </tr>\n",
       "  </thead>\n",
       "  <tbody>\n",
       "    <tr>\n",
       "      <th>0</th>\n",
       "      <td>1</td>\n",
       "      <td>Goroka Airport</td>\n",
       "      <td>Goroka</td>\n",
       "      <td>Papua New Guinea</td>\n",
       "      <td>GKA</td>\n",
       "      <td>AYGA</td>\n",
       "      <td>-6.08169</td>\n",
       "      <td>145.391998</td>\n",
       "      <td>5282</td>\n",
       "      <td>10</td>\n",
       "      <td>U</td>\n",
       "      <td>Pacific/Port_Moresby</td>\n",
       "      <td>airport</td>\n",
       "      <td>OurAirports</td>\n",
       "    </tr>\n",
       "    <tr>\n",
       "      <th>1</th>\n",
       "      <td>2</td>\n",
       "      <td>Madang Airport</td>\n",
       "      <td>Madang</td>\n",
       "      <td>Papua New Guinea</td>\n",
       "      <td>MAG</td>\n",
       "      <td>AYMD</td>\n",
       "      <td>-5.20708</td>\n",
       "      <td>145.789001</td>\n",
       "      <td>20</td>\n",
       "      <td>10</td>\n",
       "      <td>U</td>\n",
       "      <td>Pacific/Port_Moresby</td>\n",
       "      <td>airport</td>\n",
       "      <td>OurAirports</td>\n",
       "    </tr>\n",
       "    <tr>\n",
       "      <th>2</th>\n",
       "      <td>3</td>\n",
       "      <td>Mount Hagen Kagamuga Airport</td>\n",
       "      <td>Mount Hagen</td>\n",
       "      <td>Papua New Guinea</td>\n",
       "      <td>HGU</td>\n",
       "      <td>AYMH</td>\n",
       "      <td>-5.82679</td>\n",
       "      <td>144.296005</td>\n",
       "      <td>5388</td>\n",
       "      <td>10</td>\n",
       "      <td>U</td>\n",
       "      <td>Pacific/Port_Moresby</td>\n",
       "      <td>airport</td>\n",
       "      <td>OurAirports</td>\n",
       "    </tr>\n",
       "  </tbody>\n",
       "</table>\n",
       "</div>"
      ],
      "text/plain": [
       "   AirportID                          Name         City           Country  \\\n",
       "0          1                Goroka Airport       Goroka  Papua New Guinea   \n",
       "1          2                Madang Airport       Madang  Papua New Guinea   \n",
       "2          3  Mount Hagen Kagamuga Airport  Mount Hagen  Papua New Guinea   \n",
       "\n",
       "  IATA  ICAO  Latitude   Longitude  Altitude Timezone DST  \\\n",
       "0  GKA  AYGA  -6.08169  145.391998      5282       10   U   \n",
       "1  MAG  AYMD  -5.20708  145.789001        20       10   U   \n",
       "2  HGU  AYMH  -5.82679  144.296005      5388       10   U   \n",
       "\n",
       "             TzTimezone     Type       Source  \n",
       "0  Pacific/Port_Moresby  airport  OurAirports  \n",
       "1  Pacific/Port_Moresby  airport  OurAirports  \n",
       "2  Pacific/Port_Moresby  airport  OurAirports  "
      ]
     },
     "execution_count": 175,
     "metadata": {},
     "output_type": "execute_result"
    }
   ],
   "source": [
    "d_airports[:3]"
   ]
  },
  {
   "cell_type": "code",
   "execution_count": 176,
   "metadata": {
    "ExecuteTime": {
     "end_time": "2018-08-02T23:21:05.370673Z",
     "start_time": "2018-08-02T23:21:05.358531Z"
    }
   },
   "outputs": [
    {
     "data": {
      "text/plain": [
       "[Index(['FL_DATE', 'CARRIER', 'TAIL_NUM', 'FL_NUM', 'ORIGIN',\n",
       "        'ORIGIN_CITY_NAME', 'DEST', 'DEST_CITY_NAME', 'CRS_DEP_TIME',\n",
       "        'DEP_TIME', 'DEP_DELAY', 'DEP_DELAY_NEW', 'TAXI_OUT', 'WHEELS_OFF',\n",
       "        'WHEELS_ON', 'TAXI_IN', 'CRS_ARR_TIME', 'ARR_TIME', 'ARR_DELAY',\n",
       "        'ARR_DELAY_NEW', 'CANCELLED', 'CANCELLATION_CODE', 'DIVERTED',\n",
       "        'CRS_ELAPSED_TIME', 'ACTUAL_ELAPSED_TIME', 'AIR_TIME', 'FLIGHTS',\n",
       "        'DISTANCE', 'CARRIER_DELAY', 'WEATHER_DELAY', 'NAS_DELAY',\n",
       "        'SECURITY_DELAY', 'LATE_AIRCRAFT_DELAY', 'Unnamed: 33'],\n",
       "       dtype='object'),\n",
       " Index(['AirportID', 'Name', 'City', 'Country', 'IATA', 'ICAO', 'Latitude',\n",
       "        'Longitude', 'Altitude', 'Timezone', 'DST', 'TzTimezone', 'Type',\n",
       "        'Source'],\n",
       "       dtype='object')]"
      ]
     },
     "execution_count": 176,
     "metadata": {},
     "output_type": "execute_result"
    }
   ],
   "source": [
    "[d_bts.columns, d_airports.columns]"
   ]
  },
  {
   "cell_type": "code",
   "execution_count": 177,
   "metadata": {
    "ExecuteTime": {
     "end_time": "2018-08-02T23:21:25.137785Z",
     "start_time": "2018-08-02T23:21:06.105101Z"
    }
   },
   "outputs": [
    {
     "data": {
      "text/html": [
       "<div>\n",
       "<style scoped>\n",
       "    .dataframe tbody tr th:only-of-type {\n",
       "        vertical-align: middle;\n",
       "    }\n",
       "\n",
       "    .dataframe tbody tr th {\n",
       "        vertical-align: top;\n",
       "    }\n",
       "\n",
       "    .dataframe thead th {\n",
       "        text-align: right;\n",
       "    }\n",
       "</style>\n",
       "<table border=\"1\" class=\"dataframe\">\n",
       "  <thead>\n",
       "    <tr style=\"text-align: right;\">\n",
       "      <th></th>\n",
       "      <th>FL_DATE</th>\n",
       "      <th>CARRIER</th>\n",
       "      <th>TAIL_NUM</th>\n",
       "      <th>FL_NUM</th>\n",
       "      <th>ORIGIN</th>\n",
       "      <th>ORIGIN_CITY_NAME</th>\n",
       "      <th>DEST</th>\n",
       "      <th>DEST_CITY_NAME</th>\n",
       "      <th>CRS_DEP_TIME</th>\n",
       "      <th>DEP_TIME</th>\n",
       "      <th>...</th>\n",
       "      <th>IATA</th>\n",
       "      <th>ICAO</th>\n",
       "      <th>Latitude</th>\n",
       "      <th>Longitude</th>\n",
       "      <th>Altitude</th>\n",
       "      <th>Timezone</th>\n",
       "      <th>DST</th>\n",
       "      <th>TzTimezone</th>\n",
       "      <th>Type</th>\n",
       "      <th>Source</th>\n",
       "    </tr>\n",
       "  </thead>\n",
       "  <tbody>\n",
       "    <tr>\n",
       "      <th>0</th>\n",
       "      <td>2017-01-01</td>\n",
       "      <td>AA</td>\n",
       "      <td>N153AA</td>\n",
       "      <td>1766</td>\n",
       "      <td>ORD</td>\n",
       "      <td>Chicago, IL</td>\n",
       "      <td>DFW</td>\n",
       "      <td>Dallas/Fort Worth, TX</td>\n",
       "      <td>710</td>\n",
       "      <td>705.0</td>\n",
       "      <td>...</td>\n",
       "      <td>ORD</td>\n",
       "      <td>KORD</td>\n",
       "      <td>41.978600</td>\n",
       "      <td>-87.904800</td>\n",
       "      <td>672.0</td>\n",
       "      <td>-6</td>\n",
       "      <td>A</td>\n",
       "      <td>America/Chicago</td>\n",
       "      <td>airport</td>\n",
       "      <td>OurAirports</td>\n",
       "    </tr>\n",
       "    <tr>\n",
       "      <th>1</th>\n",
       "      <td>2017-01-01</td>\n",
       "      <td>AA</td>\n",
       "      <td>N192AA</td>\n",
       "      <td>1767</td>\n",
       "      <td>LAS</td>\n",
       "      <td>Las Vegas, NV</td>\n",
       "      <td>DFW</td>\n",
       "      <td>Dallas/Fort Worth, TX</td>\n",
       "      <td>1235</td>\n",
       "      <td>1235.0</td>\n",
       "      <td>...</td>\n",
       "      <td>LAS</td>\n",
       "      <td>KLAS</td>\n",
       "      <td>36.080101</td>\n",
       "      <td>-115.152000</td>\n",
       "      <td>2181.0</td>\n",
       "      <td>-8</td>\n",
       "      <td>A</td>\n",
       "      <td>America/Los_Angeles</td>\n",
       "      <td>airport</td>\n",
       "      <td>OurAirports</td>\n",
       "    </tr>\n",
       "    <tr>\n",
       "      <th>2</th>\n",
       "      <td>2017-01-01</td>\n",
       "      <td>AA</td>\n",
       "      <td>N829AA</td>\n",
       "      <td>1768</td>\n",
       "      <td>DCA</td>\n",
       "      <td>Washington, DC</td>\n",
       "      <td>MIA</td>\n",
       "      <td>Miami, FL</td>\n",
       "      <td>1020</td>\n",
       "      <td>1015.0</td>\n",
       "      <td>...</td>\n",
       "      <td>DCA</td>\n",
       "      <td>KDCA</td>\n",
       "      <td>38.852100</td>\n",
       "      <td>-77.037697</td>\n",
       "      <td>15.0</td>\n",
       "      <td>-5</td>\n",
       "      <td>A</td>\n",
       "      <td>America/New_York</td>\n",
       "      <td>airport</td>\n",
       "      <td>OurAirports</td>\n",
       "    </tr>\n",
       "  </tbody>\n",
       "</table>\n",
       "<p>3 rows × 48 columns</p>\n",
       "</div>"
      ],
      "text/plain": [
       "     FL_DATE CARRIER TAIL_NUM  FL_NUM ORIGIN ORIGIN_CITY_NAME DEST  \\\n",
       "0 2017-01-01      AA   N153AA    1766    ORD      Chicago, IL  DFW   \n",
       "1 2017-01-01      AA   N192AA    1767    LAS    Las Vegas, NV  DFW   \n",
       "2 2017-01-01      AA   N829AA    1768    DCA   Washington, DC  MIA   \n",
       "\n",
       "          DEST_CITY_NAME  CRS_DEP_TIME  DEP_TIME     ...       IATA  ICAO  \\\n",
       "0  Dallas/Fort Worth, TX           710     705.0     ...        ORD  KORD   \n",
       "1  Dallas/Fort Worth, TX          1235    1235.0     ...        LAS  KLAS   \n",
       "2              Miami, FL          1020    1015.0     ...        DCA  KDCA   \n",
       "\n",
       "    Latitude   Longitude  Altitude  Timezone  DST           TzTimezone  \\\n",
       "0  41.978600  -87.904800     672.0        -6    A      America/Chicago   \n",
       "1  36.080101 -115.152000    2181.0        -8    A  America/Los_Angeles   \n",
       "2  38.852100  -77.037697      15.0        -5    A     America/New_York   \n",
       "\n",
       "      Type       Source  \n",
       "0  airport  OurAirports  \n",
       "1  airport  OurAirports  \n",
       "2  airport  OurAirports  \n",
       "\n",
       "[3 rows x 48 columns]"
      ]
     },
     "execution_count": 177,
     "metadata": {},
     "output_type": "execute_result"
    }
   ],
   "source": [
    "d = pd.merge(left=d_bts, right=d_airports, how='left', left_on='ORIGIN', right_on='IATA')\n",
    "d[:3]"
   ]
  },
  {
   "cell_type": "code",
   "execution_count": 178,
   "metadata": {
    "ExecuteTime": {
     "end_time": "2018-08-02T23:21:25.165958Z",
     "start_time": "2018-08-02T23:21:25.145092Z"
    }
   },
   "outputs": [
    {
     "data": {
      "text/plain": [
       "FL_DATE                                 2017-01-01 00:00:00\n",
       "CARRIER                                                  AA\n",
       "TAIL_NUM                                             N153AA\n",
       "FL_NUM                                                 1766\n",
       "ORIGIN                                                  ORD\n",
       "ORIGIN_CITY_NAME                                Chicago, IL\n",
       "DEST                                                    DFW\n",
       "DEST_CITY_NAME                        Dallas/Fort Worth, TX\n",
       "CRS_DEP_TIME                                            710\n",
       "DEP_TIME                                                705\n",
       "DEP_DELAY                                                -5\n",
       "DEP_DELAY_NEW                                             0\n",
       "TAXI_OUT                                                 12\n",
       "WHEELS_OFF                                              717\n",
       "WHEELS_ON                                               918\n",
       "TAXI_IN                                                  14\n",
       "CRS_ARR_TIME                                            948\n",
       "ARR_TIME                                                932\n",
       "ARR_DELAY                                               -16\n",
       "ARR_DELAY_NEW                                             0\n",
       "CANCELLED                                                 0\n",
       "CANCELLATION_CODE                                       NaN\n",
       "DIVERTED                                                  0\n",
       "CRS_ELAPSED_TIME                                        158\n",
       "ACTUAL_ELAPSED_TIME                                     147\n",
       "AIR_TIME                                                121\n",
       "FLIGHTS                                                   1\n",
       "DISTANCE                                                802\n",
       "CARRIER_DELAY                                           NaN\n",
       "WEATHER_DELAY                                           NaN\n",
       "NAS_DELAY                                               NaN\n",
       "SECURITY_DELAY                                          NaN\n",
       "LATE_AIRCRAFT_DELAY                                     NaN\n",
       "Unnamed: 33                                             NaN\n",
       "AirportID                                              3830\n",
       "Name                   Chicago O'Hare International Airport\n",
       "City                                                Chicago\n",
       "Country                                       United States\n",
       "IATA                                                    ORD\n",
       "ICAO                                                   KORD\n",
       "Latitude                                            41.9786\n",
       "Longitude                                          -87.9048\n",
       "Altitude                                                672\n",
       "Timezone                                                 -6\n",
       "DST                                                       A\n",
       "TzTimezone                                  America/Chicago\n",
       "Type                                                airport\n",
       "Source                                          OurAirports\n",
       "Name: 0, dtype: object"
      ]
     },
     "execution_count": 178,
     "metadata": {},
     "output_type": "execute_result"
    }
   ],
   "source": [
    "d.iloc[0]"
   ]
  },
  {
   "cell_type": "code",
   "execution_count": 179,
   "metadata": {
    "ExecuteTime": {
     "end_time": "2018-08-02T23:21:54.056935Z",
     "start_time": "2018-08-02T23:21:25.169050Z"
    }
   },
   "outputs": [
    {
     "data": {
      "text/html": [
       "<div>\n",
       "<style scoped>\n",
       "    .dataframe tbody tr th:only-of-type {\n",
       "        vertical-align: middle;\n",
       "    }\n",
       "\n",
       "    .dataframe tbody tr th {\n",
       "        vertical-align: top;\n",
       "    }\n",
       "\n",
       "    .dataframe thead th {\n",
       "        text-align: right;\n",
       "    }\n",
       "</style>\n",
       "<table border=\"1\" class=\"dataframe\">\n",
       "  <thead>\n",
       "    <tr style=\"text-align: right;\">\n",
       "      <th></th>\n",
       "      <th>FL_DATE</th>\n",
       "      <th>CARRIER</th>\n",
       "      <th>TAIL_NUM</th>\n",
       "      <th>FL_NUM</th>\n",
       "      <th>ORIGIN</th>\n",
       "      <th>ORIGIN_CITY_NAME</th>\n",
       "      <th>DEST</th>\n",
       "      <th>DEST_CITY_NAME</th>\n",
       "      <th>CRS_DEP_TIME</th>\n",
       "      <th>DEP_TIME</th>\n",
       "      <th>...</th>\n",
       "      <th>IATA_dest</th>\n",
       "      <th>ICAO_dest</th>\n",
       "      <th>Latitude_dest</th>\n",
       "      <th>Longitude_dest</th>\n",
       "      <th>Altitude_dest</th>\n",
       "      <th>Timezone_dest</th>\n",
       "      <th>DST_dest</th>\n",
       "      <th>TzTimezone_dest</th>\n",
       "      <th>Type_dest</th>\n",
       "      <th>Source_dest</th>\n",
       "    </tr>\n",
       "  </thead>\n",
       "  <tbody>\n",
       "    <tr>\n",
       "      <th>0</th>\n",
       "      <td>2017-01-01</td>\n",
       "      <td>AA</td>\n",
       "      <td>N153AA</td>\n",
       "      <td>1766</td>\n",
       "      <td>ORD</td>\n",
       "      <td>Chicago, IL</td>\n",
       "      <td>DFW</td>\n",
       "      <td>Dallas/Fort Worth, TX</td>\n",
       "      <td>710</td>\n",
       "      <td>705.0</td>\n",
       "      <td>...</td>\n",
       "      <td>DFW</td>\n",
       "      <td>KDFW</td>\n",
       "      <td>32.896801</td>\n",
       "      <td>-97.038002</td>\n",
       "      <td>607.0</td>\n",
       "      <td>-6</td>\n",
       "      <td>A</td>\n",
       "      <td>America/Chicago</td>\n",
       "      <td>airport</td>\n",
       "      <td>OurAirports</td>\n",
       "    </tr>\n",
       "    <tr>\n",
       "      <th>1</th>\n",
       "      <td>2017-01-01</td>\n",
       "      <td>AA</td>\n",
       "      <td>N192AA</td>\n",
       "      <td>1767</td>\n",
       "      <td>LAS</td>\n",
       "      <td>Las Vegas, NV</td>\n",
       "      <td>DFW</td>\n",
       "      <td>Dallas/Fort Worth, TX</td>\n",
       "      <td>1235</td>\n",
       "      <td>1235.0</td>\n",
       "      <td>...</td>\n",
       "      <td>DFW</td>\n",
       "      <td>KDFW</td>\n",
       "      <td>32.896801</td>\n",
       "      <td>-97.038002</td>\n",
       "      <td>607.0</td>\n",
       "      <td>-6</td>\n",
       "      <td>A</td>\n",
       "      <td>America/Chicago</td>\n",
       "      <td>airport</td>\n",
       "      <td>OurAirports</td>\n",
       "    </tr>\n",
       "    <tr>\n",
       "      <th>2</th>\n",
       "      <td>2017-01-01</td>\n",
       "      <td>AA</td>\n",
       "      <td>N829AA</td>\n",
       "      <td>1768</td>\n",
       "      <td>DCA</td>\n",
       "      <td>Washington, DC</td>\n",
       "      <td>MIA</td>\n",
       "      <td>Miami, FL</td>\n",
       "      <td>1020</td>\n",
       "      <td>1015.0</td>\n",
       "      <td>...</td>\n",
       "      <td>MIA</td>\n",
       "      <td>KMIA</td>\n",
       "      <td>25.793200</td>\n",
       "      <td>-80.290604</td>\n",
       "      <td>8.0</td>\n",
       "      <td>-5</td>\n",
       "      <td>A</td>\n",
       "      <td>America/New_York</td>\n",
       "      <td>airport</td>\n",
       "      <td>OurAirports</td>\n",
       "    </tr>\n",
       "  </tbody>\n",
       "</table>\n",
       "<p>3 rows × 62 columns</p>\n",
       "</div>"
      ],
      "text/plain": [
       "     FL_DATE CARRIER TAIL_NUM  FL_NUM ORIGIN ORIGIN_CITY_NAME DEST  \\\n",
       "0 2017-01-01      AA   N153AA    1766    ORD      Chicago, IL  DFW   \n",
       "1 2017-01-01      AA   N192AA    1767    LAS    Las Vegas, NV  DFW   \n",
       "2 2017-01-01      AA   N829AA    1768    DCA   Washington, DC  MIA   \n",
       "\n",
       "          DEST_CITY_NAME  CRS_DEP_TIME  DEP_TIME     ...       IATA_dest  \\\n",
       "0  Dallas/Fort Worth, TX           710     705.0     ...             DFW   \n",
       "1  Dallas/Fort Worth, TX          1235    1235.0     ...             DFW   \n",
       "2              Miami, FL          1020    1015.0     ...             MIA   \n",
       "\n",
       "   ICAO_dest  Latitude_dest  Longitude_dest  Altitude_dest  Timezone_dest  \\\n",
       "0       KDFW      32.896801      -97.038002          607.0             -6   \n",
       "1       KDFW      32.896801      -97.038002          607.0             -6   \n",
       "2       KMIA      25.793200      -80.290604            8.0             -5   \n",
       "\n",
       "   DST_dest   TzTimezone_dest  Type_dest  Source_dest  \n",
       "0         A   America/Chicago    airport  OurAirports  \n",
       "1         A   America/Chicago    airport  OurAirports  \n",
       "2         A  America/New_York    airport  OurAirports  \n",
       "\n",
       "[3 rows x 62 columns]"
      ]
     },
     "execution_count": 179,
     "metadata": {},
     "output_type": "execute_result"
    }
   ],
   "source": [
    "d = pd.merge(left=d, right=d_airports, how='left', left_on='DEST', right_on='IATA', suffixes=['_orig','_dest'])\n",
    "d[:3]"
   ]
  },
  {
   "cell_type": "code",
   "execution_count": 180,
   "metadata": {
    "ExecuteTime": {
     "end_time": "2018-08-02T23:21:54.078601Z",
     "start_time": "2018-08-02T23:21:54.062337Z"
    }
   },
   "outputs": [
    {
     "data": {
      "text/plain": [
       "FL_DATE                                    2017-01-01 00:00:00\n",
       "CARRIER                                                     AA\n",
       "TAIL_NUM                                                N153AA\n",
       "FL_NUM                                                    1766\n",
       "ORIGIN                                                     ORD\n",
       "ORIGIN_CITY_NAME                                   Chicago, IL\n",
       "DEST                                                       DFW\n",
       "DEST_CITY_NAME                           Dallas/Fort Worth, TX\n",
       "CRS_DEP_TIME                                               710\n",
       "DEP_TIME                                                   705\n",
       "DEP_DELAY                                                   -5\n",
       "DEP_DELAY_NEW                                                0\n",
       "TAXI_OUT                                                    12\n",
       "WHEELS_OFF                                                 717\n",
       "WHEELS_ON                                                  918\n",
       "TAXI_IN                                                     14\n",
       "CRS_ARR_TIME                                               948\n",
       "ARR_TIME                                                   932\n",
       "ARR_DELAY                                                  -16\n",
       "ARR_DELAY_NEW                                                0\n",
       "CANCELLED                                                    0\n",
       "CANCELLATION_CODE                                          NaN\n",
       "DIVERTED                                                     0\n",
       "CRS_ELAPSED_TIME                                           158\n",
       "ACTUAL_ELAPSED_TIME                                        147\n",
       "AIR_TIME                                                   121\n",
       "FLIGHTS                                                      1\n",
       "DISTANCE                                                   802\n",
       "CARRIER_DELAY                                              NaN\n",
       "WEATHER_DELAY                                              NaN\n",
       "                                        ...                   \n",
       "LATE_AIRCRAFT_DELAY                                        NaN\n",
       "Unnamed: 33                                                NaN\n",
       "AirportID_orig                                            3830\n",
       "Name_orig                 Chicago O'Hare International Airport\n",
       "City_orig                                              Chicago\n",
       "Country_orig                                     United States\n",
       "IATA_orig                                                  ORD\n",
       "ICAO_orig                                                 KORD\n",
       "Latitude_orig                                          41.9786\n",
       "Longitude_orig                                        -87.9048\n",
       "Altitude_orig                                              672\n",
       "Timezone_orig                                               -6\n",
       "DST_orig                                                     A\n",
       "TzTimezone_orig                                America/Chicago\n",
       "Type_orig                                              airport\n",
       "Source_orig                                        OurAirports\n",
       "AirportID_dest                                            3670\n",
       "Name_dest              Dallas Fort Worth International Airport\n",
       "City_dest                                    Dallas-Fort Worth\n",
       "Country_dest                                     United States\n",
       "IATA_dest                                                  DFW\n",
       "ICAO_dest                                                 KDFW\n",
       "Latitude_dest                                          32.8968\n",
       "Longitude_dest                                         -97.038\n",
       "Altitude_dest                                              607\n",
       "Timezone_dest                                               -6\n",
       "DST_dest                                                     A\n",
       "TzTimezone_dest                                America/Chicago\n",
       "Type_dest                                              airport\n",
       "Source_dest                                        OurAirports\n",
       "Name: 0, Length: 62, dtype: object"
      ]
     },
     "execution_count": 180,
     "metadata": {},
     "output_type": "execute_result"
    }
   ],
   "source": [
    "d.iloc[0]"
   ]
  },
  {
   "cell_type": "code",
   "execution_count": 181,
   "metadata": {
    "ExecuteTime": {
     "end_time": "2018-08-02T23:21:54.148458Z",
     "start_time": "2018-08-02T23:21:54.082148Z"
    }
   },
   "outputs": [
    {
     "data": {
      "text/plain": [
       "(1903, 2)"
      ]
     },
     "execution_count": 181,
     "metadata": {},
     "output_type": "execute_result"
    }
   ],
   "source": [
    "d_carriers = pd.read_csv('../data/CarrierLookup.csv')\n",
    "d_carriers.shape"
   ]
  },
  {
   "cell_type": "code",
   "execution_count": 182,
   "metadata": {
    "ExecuteTime": {
     "end_time": "2018-08-02T23:23:04.557089Z",
     "start_time": "2018-08-02T23:21:54.152081Z"
    }
   },
   "outputs": [
    {
     "data": {
      "text/html": [
       "<div>\n",
       "<style scoped>\n",
       "    .dataframe tbody tr th:only-of-type {\n",
       "        vertical-align: middle;\n",
       "    }\n",
       "\n",
       "    .dataframe tbody tr th {\n",
       "        vertical-align: top;\n",
       "    }\n",
       "\n",
       "    .dataframe thead th {\n",
       "        text-align: right;\n",
       "    }\n",
       "</style>\n",
       "<table border=\"1\" class=\"dataframe\">\n",
       "  <thead>\n",
       "    <tr style=\"text-align: right;\">\n",
       "      <th></th>\n",
       "      <th>FL_DATE</th>\n",
       "      <th>CARRIER</th>\n",
       "      <th>TAIL_NUM</th>\n",
       "      <th>FL_NUM</th>\n",
       "      <th>ORIGIN</th>\n",
       "      <th>ORIGIN_CITY_NAME</th>\n",
       "      <th>DEST</th>\n",
       "      <th>DEST_CITY_NAME</th>\n",
       "      <th>CRS_DEP_TIME</th>\n",
       "      <th>DEP_TIME</th>\n",
       "      <th>...</th>\n",
       "      <th>Latitude_dest</th>\n",
       "      <th>Longitude_dest</th>\n",
       "      <th>Altitude_dest</th>\n",
       "      <th>Timezone_dest</th>\n",
       "      <th>DST_dest</th>\n",
       "      <th>TzTimezone_dest</th>\n",
       "      <th>Type_dest</th>\n",
       "      <th>Source_dest</th>\n",
       "      <th>Code</th>\n",
       "      <th>Description</th>\n",
       "    </tr>\n",
       "  </thead>\n",
       "  <tbody>\n",
       "    <tr>\n",
       "      <th>0</th>\n",
       "      <td>2017-01-01</td>\n",
       "      <td>AA</td>\n",
       "      <td>N153AA</td>\n",
       "      <td>1766</td>\n",
       "      <td>ORD</td>\n",
       "      <td>Chicago, IL</td>\n",
       "      <td>DFW</td>\n",
       "      <td>Dallas/Fort Worth, TX</td>\n",
       "      <td>710</td>\n",
       "      <td>705.0</td>\n",
       "      <td>...</td>\n",
       "      <td>32.896801</td>\n",
       "      <td>-97.038002</td>\n",
       "      <td>607.0</td>\n",
       "      <td>-6</td>\n",
       "      <td>A</td>\n",
       "      <td>America/Chicago</td>\n",
       "      <td>airport</td>\n",
       "      <td>OurAirports</td>\n",
       "      <td>AA</td>\n",
       "      <td>American Airlines Inc. (1960 - )</td>\n",
       "    </tr>\n",
       "    <tr>\n",
       "      <th>1</th>\n",
       "      <td>2017-01-01</td>\n",
       "      <td>AA</td>\n",
       "      <td>N192AA</td>\n",
       "      <td>1767</td>\n",
       "      <td>LAS</td>\n",
       "      <td>Las Vegas, NV</td>\n",
       "      <td>DFW</td>\n",
       "      <td>Dallas/Fort Worth, TX</td>\n",
       "      <td>1235</td>\n",
       "      <td>1235.0</td>\n",
       "      <td>...</td>\n",
       "      <td>32.896801</td>\n",
       "      <td>-97.038002</td>\n",
       "      <td>607.0</td>\n",
       "      <td>-6</td>\n",
       "      <td>A</td>\n",
       "      <td>America/Chicago</td>\n",
       "      <td>airport</td>\n",
       "      <td>OurAirports</td>\n",
       "      <td>AA</td>\n",
       "      <td>American Airlines Inc. (1960 - )</td>\n",
       "    </tr>\n",
       "    <tr>\n",
       "      <th>2</th>\n",
       "      <td>2017-01-01</td>\n",
       "      <td>AA</td>\n",
       "      <td>N829AA</td>\n",
       "      <td>1768</td>\n",
       "      <td>DCA</td>\n",
       "      <td>Washington, DC</td>\n",
       "      <td>MIA</td>\n",
       "      <td>Miami, FL</td>\n",
       "      <td>1020</td>\n",
       "      <td>1015.0</td>\n",
       "      <td>...</td>\n",
       "      <td>25.793200</td>\n",
       "      <td>-80.290604</td>\n",
       "      <td>8.0</td>\n",
       "      <td>-5</td>\n",
       "      <td>A</td>\n",
       "      <td>America/New_York</td>\n",
       "      <td>airport</td>\n",
       "      <td>OurAirports</td>\n",
       "      <td>AA</td>\n",
       "      <td>American Airlines Inc. (1960 - )</td>\n",
       "    </tr>\n",
       "  </tbody>\n",
       "</table>\n",
       "<p>3 rows × 64 columns</p>\n",
       "</div>"
      ],
      "text/plain": [
       "     FL_DATE CARRIER TAIL_NUM  FL_NUM ORIGIN ORIGIN_CITY_NAME DEST  \\\n",
       "0 2017-01-01      AA   N153AA    1766    ORD      Chicago, IL  DFW   \n",
       "1 2017-01-01      AA   N192AA    1767    LAS    Las Vegas, NV  DFW   \n",
       "2 2017-01-01      AA   N829AA    1768    DCA   Washington, DC  MIA   \n",
       "\n",
       "          DEST_CITY_NAME  CRS_DEP_TIME  DEP_TIME  \\\n",
       "0  Dallas/Fort Worth, TX           710     705.0   \n",
       "1  Dallas/Fort Worth, TX          1235    1235.0   \n",
       "2              Miami, FL          1020    1015.0   \n",
       "\n",
       "                 ...                 Latitude_dest  Longitude_dest  \\\n",
       "0                ...                     32.896801      -97.038002   \n",
       "1                ...                     32.896801      -97.038002   \n",
       "2                ...                     25.793200      -80.290604   \n",
       "\n",
       "   Altitude_dest  Timezone_dest  DST_dest   TzTimezone_dest  Type_dest  \\\n",
       "0          607.0             -6         A   America/Chicago    airport   \n",
       "1          607.0             -6         A   America/Chicago    airport   \n",
       "2            8.0             -5         A  America/New_York    airport   \n",
       "\n",
       "   Source_dest  Code                       Description  \n",
       "0  OurAirports    AA  American Airlines Inc. (1960 - )  \n",
       "1  OurAirports    AA  American Airlines Inc. (1960 - )  \n",
       "2  OurAirports    AA  American Airlines Inc. (1960 - )  \n",
       "\n",
       "[3 rows x 64 columns]"
      ]
     },
     "execution_count": 182,
     "metadata": {},
     "output_type": "execute_result"
    }
   ],
   "source": [
    "d = pd.merge(left=d, right=d_carriers, left_on='CARRIER', right_on='Code')\n",
    "d[:3]"
   ]
  },
  {
   "cell_type": "code",
   "execution_count": 183,
   "metadata": {
    "ExecuteTime": {
     "end_time": "2018-08-02T23:23:04.586315Z",
     "start_time": "2018-08-02T23:23:04.564919Z"
    }
   },
   "outputs": [
    {
     "data": {
      "text/plain": [
       "FL_DATE                                    2017-01-01 00:00:00\n",
       "CARRIER                                                     AA\n",
       "TAIL_NUM                                                N153AA\n",
       "FL_NUM                                                    1766\n",
       "ORIGIN                                                     ORD\n",
       "ORIGIN_CITY_NAME                                   Chicago, IL\n",
       "DEST                                                       DFW\n",
       "DEST_CITY_NAME                           Dallas/Fort Worth, TX\n",
       "CRS_DEP_TIME                                               710\n",
       "DEP_TIME                                                   705\n",
       "DEP_DELAY                                                   -5\n",
       "DEP_DELAY_NEW                                                0\n",
       "TAXI_OUT                                                    12\n",
       "WHEELS_OFF                                                 717\n",
       "WHEELS_ON                                                  918\n",
       "TAXI_IN                                                     14\n",
       "CRS_ARR_TIME                                               948\n",
       "ARR_TIME                                                   932\n",
       "ARR_DELAY                                                  -16\n",
       "ARR_DELAY_NEW                                                0\n",
       "CANCELLED                                                    0\n",
       "CANCELLATION_CODE                                          NaN\n",
       "DIVERTED                                                     0\n",
       "CRS_ELAPSED_TIME                                           158\n",
       "ACTUAL_ELAPSED_TIME                                        147\n",
       "AIR_TIME                                                   121\n",
       "FLIGHTS                                                      1\n",
       "DISTANCE                                                   802\n",
       "CARRIER_DELAY                                              NaN\n",
       "WEATHER_DELAY                                              NaN\n",
       "                                        ...                   \n",
       "AirportID_orig                                            3830\n",
       "Name_orig                 Chicago O'Hare International Airport\n",
       "City_orig                                              Chicago\n",
       "Country_orig                                     United States\n",
       "IATA_orig                                                  ORD\n",
       "ICAO_orig                                                 KORD\n",
       "Latitude_orig                                          41.9786\n",
       "Longitude_orig                                        -87.9048\n",
       "Altitude_orig                                              672\n",
       "Timezone_orig                                               -6\n",
       "DST_orig                                                     A\n",
       "TzTimezone_orig                                America/Chicago\n",
       "Type_orig                                              airport\n",
       "Source_orig                                        OurAirports\n",
       "AirportID_dest                                            3670\n",
       "Name_dest              Dallas Fort Worth International Airport\n",
       "City_dest                                    Dallas-Fort Worth\n",
       "Country_dest                                     United States\n",
       "IATA_dest                                                  DFW\n",
       "ICAO_dest                                                 KDFW\n",
       "Latitude_dest                                          32.8968\n",
       "Longitude_dest                                         -97.038\n",
       "Altitude_dest                                              607\n",
       "Timezone_dest                                               -6\n",
       "DST_dest                                                     A\n",
       "TzTimezone_dest                                America/Chicago\n",
       "Type_dest                                              airport\n",
       "Source_dest                                        OurAirports\n",
       "Code                                                        AA\n",
       "Description                   American Airlines Inc. (1960 - )\n",
       "Name: 0, Length: 64, dtype: object"
      ]
     },
     "execution_count": 183,
     "metadata": {},
     "output_type": "execute_result"
    }
   ],
   "source": [
    "d.iloc[0]"
   ]
  },
  {
   "cell_type": "code",
   "execution_count": 184,
   "metadata": {
    "ExecuteTime": {
     "end_time": "2018-08-02T23:23:04.627841Z",
     "start_time": "2018-08-02T23:23:04.592425Z"
    }
   },
   "outputs": [
    {
     "data": {
      "text/plain": [
       "(1645, 2)"
      ]
     },
     "execution_count": 184,
     "metadata": {},
     "output_type": "execute_result"
    }
   ],
   "source": [
    "d_carriers_unique = pd.read_csv('../data/UniqueCarrierLookup.csv')\n",
    "d_carriers_unique.shape"
   ]
  },
  {
   "cell_type": "code",
   "execution_count": 185,
   "metadata": {
    "ExecuteTime": {
     "end_time": "2018-08-02T23:23:21.021824Z",
     "start_time": "2018-08-02T23:23:04.632022Z"
    }
   },
   "outputs": [
    {
     "data": {
      "text/html": [
       "<div>\n",
       "<style scoped>\n",
       "    .dataframe tbody tr th:only-of-type {\n",
       "        vertical-align: middle;\n",
       "    }\n",
       "\n",
       "    .dataframe tbody tr th {\n",
       "        vertical-align: top;\n",
       "    }\n",
       "\n",
       "    .dataframe thead th {\n",
       "        text-align: right;\n",
       "    }\n",
       "</style>\n",
       "<table border=\"1\" class=\"dataframe\">\n",
       "  <thead>\n",
       "    <tr style=\"text-align: right;\">\n",
       "      <th></th>\n",
       "      <th>FL_DATE</th>\n",
       "      <th>CARRIER</th>\n",
       "      <th>TAIL_NUM</th>\n",
       "      <th>FL_NUM</th>\n",
       "      <th>ORIGIN</th>\n",
       "      <th>ORIGIN_CITY_NAME</th>\n",
       "      <th>DEST</th>\n",
       "      <th>DEST_CITY_NAME</th>\n",
       "      <th>CRS_DEP_TIME</th>\n",
       "      <th>DEP_TIME</th>\n",
       "      <th>...</th>\n",
       "      <th>Altitude_dest</th>\n",
       "      <th>Timezone_dest</th>\n",
       "      <th>DST_dest</th>\n",
       "      <th>TzTimezone_dest</th>\n",
       "      <th>Type_dest</th>\n",
       "      <th>Source_dest</th>\n",
       "      <th>Code_normal</th>\n",
       "      <th>Description_normal</th>\n",
       "      <th>Code_unique</th>\n",
       "      <th>Description_unique</th>\n",
       "    </tr>\n",
       "  </thead>\n",
       "  <tbody>\n",
       "    <tr>\n",
       "      <th>0</th>\n",
       "      <td>2017-01-01</td>\n",
       "      <td>AA</td>\n",
       "      <td>N153AA</td>\n",
       "      <td>1766</td>\n",
       "      <td>ORD</td>\n",
       "      <td>Chicago, IL</td>\n",
       "      <td>DFW</td>\n",
       "      <td>Dallas/Fort Worth, TX</td>\n",
       "      <td>710</td>\n",
       "      <td>705.0</td>\n",
       "      <td>...</td>\n",
       "      <td>607.0</td>\n",
       "      <td>-6</td>\n",
       "      <td>A</td>\n",
       "      <td>America/Chicago</td>\n",
       "      <td>airport</td>\n",
       "      <td>OurAirports</td>\n",
       "      <td>AA</td>\n",
       "      <td>American Airlines Inc. (1960 - )</td>\n",
       "      <td>AA</td>\n",
       "      <td>American Airlines Inc.</td>\n",
       "    </tr>\n",
       "    <tr>\n",
       "      <th>1</th>\n",
       "      <td>2017-01-01</td>\n",
       "      <td>AA</td>\n",
       "      <td>N192AA</td>\n",
       "      <td>1767</td>\n",
       "      <td>LAS</td>\n",
       "      <td>Las Vegas, NV</td>\n",
       "      <td>DFW</td>\n",
       "      <td>Dallas/Fort Worth, TX</td>\n",
       "      <td>1235</td>\n",
       "      <td>1235.0</td>\n",
       "      <td>...</td>\n",
       "      <td>607.0</td>\n",
       "      <td>-6</td>\n",
       "      <td>A</td>\n",
       "      <td>America/Chicago</td>\n",
       "      <td>airport</td>\n",
       "      <td>OurAirports</td>\n",
       "      <td>AA</td>\n",
       "      <td>American Airlines Inc. (1960 - )</td>\n",
       "      <td>AA</td>\n",
       "      <td>American Airlines Inc.</td>\n",
       "    </tr>\n",
       "    <tr>\n",
       "      <th>2</th>\n",
       "      <td>2017-01-01</td>\n",
       "      <td>AA</td>\n",
       "      <td>N829AA</td>\n",
       "      <td>1768</td>\n",
       "      <td>DCA</td>\n",
       "      <td>Washington, DC</td>\n",
       "      <td>MIA</td>\n",
       "      <td>Miami, FL</td>\n",
       "      <td>1020</td>\n",
       "      <td>1015.0</td>\n",
       "      <td>...</td>\n",
       "      <td>8.0</td>\n",
       "      <td>-5</td>\n",
       "      <td>A</td>\n",
       "      <td>America/New_York</td>\n",
       "      <td>airport</td>\n",
       "      <td>OurAirports</td>\n",
       "      <td>AA</td>\n",
       "      <td>American Airlines Inc. (1960 - )</td>\n",
       "      <td>AA</td>\n",
       "      <td>American Airlines Inc.</td>\n",
       "    </tr>\n",
       "  </tbody>\n",
       "</table>\n",
       "<p>3 rows × 66 columns</p>\n",
       "</div>"
      ],
      "text/plain": [
       "     FL_DATE CARRIER TAIL_NUM  FL_NUM ORIGIN ORIGIN_CITY_NAME DEST  \\\n",
       "0 2017-01-01      AA   N153AA    1766    ORD      Chicago, IL  DFW   \n",
       "1 2017-01-01      AA   N192AA    1767    LAS    Las Vegas, NV  DFW   \n",
       "2 2017-01-01      AA   N829AA    1768    DCA   Washington, DC  MIA   \n",
       "\n",
       "          DEST_CITY_NAME  CRS_DEP_TIME  DEP_TIME           ...            \\\n",
       "0  Dallas/Fort Worth, TX           710     705.0           ...             \n",
       "1  Dallas/Fort Worth, TX          1235    1235.0           ...             \n",
       "2              Miami, FL          1020    1015.0           ...             \n",
       "\n",
       "   Altitude_dest  Timezone_dest  DST_dest   TzTimezone_dest  Type_dest  \\\n",
       "0          607.0             -6         A   America/Chicago    airport   \n",
       "1          607.0             -6         A   America/Chicago    airport   \n",
       "2            8.0             -5         A  America/New_York    airport   \n",
       "\n",
       "   Source_dest  Code_normal                Description_normal  Code_unique  \\\n",
       "0  OurAirports           AA  American Airlines Inc. (1960 - )           AA   \n",
       "1  OurAirports           AA  American Airlines Inc. (1960 - )           AA   \n",
       "2  OurAirports           AA  American Airlines Inc. (1960 - )           AA   \n",
       "\n",
       "       Description_unique  \n",
       "0  American Airlines Inc.  \n",
       "1  American Airlines Inc.  \n",
       "2  American Airlines Inc.  \n",
       "\n",
       "[3 rows x 66 columns]"
      ]
     },
     "execution_count": 185,
     "metadata": {},
     "output_type": "execute_result"
    }
   ],
   "source": [
    "d = pd.merge(left=d, right=d_carriers_unique, left_on='CARRIER', right_on='Code', suffixes=['_normal','_unique'])\n",
    "d[:3]"
   ]
  },
  {
   "cell_type": "code",
   "execution_count": 186,
   "metadata": {
    "ExecuteTime": {
     "end_time": "2018-08-02T23:23:21.048173Z",
     "start_time": "2018-08-02T23:23:21.030172Z"
    }
   },
   "outputs": [
    {
     "data": {
      "text/plain": [
       "FL_DATE                                    2017-01-01 00:00:00\n",
       "CARRIER                                                     AA\n",
       "TAIL_NUM                                                N153AA\n",
       "FL_NUM                                                    1766\n",
       "ORIGIN                                                     ORD\n",
       "ORIGIN_CITY_NAME                                   Chicago, IL\n",
       "DEST                                                       DFW\n",
       "DEST_CITY_NAME                           Dallas/Fort Worth, TX\n",
       "CRS_DEP_TIME                                               710\n",
       "DEP_TIME                                                   705\n",
       "DEP_DELAY                                                   -5\n",
       "DEP_DELAY_NEW                                                0\n",
       "TAXI_OUT                                                    12\n",
       "WHEELS_OFF                                                 717\n",
       "WHEELS_ON                                                  918\n",
       "TAXI_IN                                                     14\n",
       "CRS_ARR_TIME                                               948\n",
       "ARR_TIME                                                   932\n",
       "ARR_DELAY                                                  -16\n",
       "ARR_DELAY_NEW                                                0\n",
       "CANCELLED                                                    0\n",
       "CANCELLATION_CODE                                          NaN\n",
       "DIVERTED                                                     0\n",
       "CRS_ELAPSED_TIME                                           158\n",
       "ACTUAL_ELAPSED_TIME                                        147\n",
       "AIR_TIME                                                   121\n",
       "FLIGHTS                                                      1\n",
       "DISTANCE                                                   802\n",
       "CARRIER_DELAY                                              NaN\n",
       "WEATHER_DELAY                                              NaN\n",
       "                                        ...                   \n",
       "City_orig                                              Chicago\n",
       "Country_orig                                     United States\n",
       "IATA_orig                                                  ORD\n",
       "ICAO_orig                                                 KORD\n",
       "Latitude_orig                                          41.9786\n",
       "Longitude_orig                                        -87.9048\n",
       "Altitude_orig                                              672\n",
       "Timezone_orig                                               -6\n",
       "DST_orig                                                     A\n",
       "TzTimezone_orig                                America/Chicago\n",
       "Type_orig                                              airport\n",
       "Source_orig                                        OurAirports\n",
       "AirportID_dest                                            3670\n",
       "Name_dest              Dallas Fort Worth International Airport\n",
       "City_dest                                    Dallas-Fort Worth\n",
       "Country_dest                                     United States\n",
       "IATA_dest                                                  DFW\n",
       "ICAO_dest                                                 KDFW\n",
       "Latitude_dest                                          32.8968\n",
       "Longitude_dest                                         -97.038\n",
       "Altitude_dest                                              607\n",
       "Timezone_dest                                               -6\n",
       "DST_dest                                                     A\n",
       "TzTimezone_dest                                America/Chicago\n",
       "Type_dest                                              airport\n",
       "Source_dest                                        OurAirports\n",
       "Code_normal                                                 AA\n",
       "Description_normal            American Airlines Inc. (1960 - )\n",
       "Code_unique                                                 AA\n",
       "Description_unique                      American Airlines Inc.\n",
       "Name: 0, Length: 66, dtype: object"
      ]
     },
     "execution_count": 186,
     "metadata": {},
     "output_type": "execute_result"
    }
   ],
   "source": [
    "d.iloc[0]"
   ]
  },
  {
   "cell_type": "code",
   "execution_count": 187,
   "metadata": {
    "ExecuteTime": {
     "end_time": "2018-08-02T23:23:22.545856Z",
     "start_time": "2018-08-02T23:23:21.054280Z"
    }
   },
   "outputs": [
    {
     "data": {
      "text/plain": [
       "Southwest Airlines Co.      1222518\n",
       "Delta Air Lines Inc.         923560\n",
       "American Airlines Inc.       896348\n",
       "SkyWest Airlines Inc.        695899\n",
       "ExpressJet Airlines Inc.     679082\n",
       "United Air Lines Inc.        535187\n",
       "Virgin America               361976\n",
       "JetBlue Airways              298654\n",
       "Spirit Air Lines             208638\n",
       "Alaska Airlines Inc.         185068\n",
       "Frontier Airlines Inc.       101075\n",
       "Hawaiian Airlines Inc.        87145\n",
       "Name: Description_unique, dtype: int64"
      ]
     },
     "execution_count": 187,
     "metadata": {},
     "output_type": "execute_result"
    }
   ],
   "source": [
    "d['Description_unique'].value_counts(dropna=False)"
   ]
  },
  {
   "cell_type": "code",
   "execution_count": 188,
   "metadata": {
    "ExecuteTime": {
     "end_time": "2018-08-02T23:23:23.499062Z",
     "start_time": "2018-08-02T23:23:22.551808Z"
    }
   },
   "outputs": [
    {
     "data": {
      "text/plain": [
       "WN    1222518\n",
       "DL     923560\n",
       "AA     896348\n",
       "OO     695899\n",
       "EV     679082\n",
       "UA     535187\n",
       "VX     361976\n",
       "B6     298654\n",
       "NK     208638\n",
       "AS     185068\n",
       "F9     101075\n",
       "HA      87145\n",
       "Name: CARRIER, dtype: int64"
      ]
     },
     "execution_count": 188,
     "metadata": {},
     "output_type": "execute_result"
    }
   ],
   "source": [
    "d['CARRIER'].value_counts(dropna=False)"
   ]
  },
  {
   "cell_type": "code",
   "execution_count": 189,
   "metadata": {
    "ExecuteTime": {
     "end_time": "2018-08-02T23:23:38.012289Z",
     "start_time": "2018-08-02T23:23:23.502667Z"
    }
   },
   "outputs": [
    {
     "data": {
      "text/plain": [
       "'12515.86 MB'"
      ]
     },
     "execution_count": 189,
     "metadata": {},
     "output_type": "execute_result"
    }
   ],
   "source": [
    "mem_usage(d)"
   ]
  },
  {
   "cell_type": "code",
   "execution_count": null,
   "metadata": {},
   "outputs": [],
   "source": []
  }
 ],
 "metadata": {
  "kernelspec": {
   "display_name": "Python 3",
   "language": "python",
   "name": "python3"
  },
  "language_info": {
   "codemirror_mode": {
    "name": "ipython",
    "version": 3
   },
   "file_extension": ".py",
   "mimetype": "text/x-python",
   "name": "python",
   "nbconvert_exporter": "python",
   "pygments_lexer": "ipython3",
   "version": "3.6.4"
  }
 },
 "nbformat": 4,
 "nbformat_minor": 2
}
