{
 "cells": [
  {
   "cell_type": "code",
   "execution_count": 1,
   "metadata": {
    "ExecuteTime": {
     "end_time": "2018-08-05T19:00:33.955335Z",
     "start_time": "2018-08-05T19:00:31.897599Z"
    }
   },
   "outputs": [],
   "source": [
    "import pandas as pd\n",
    "import numpy as np\n",
    "import matplotlib.pyplot as plt\n",
    "import seaborn as sns\n",
    "\n",
    "%matplotlib inline\n",
    "\n",
    "# \"RuntimeWarning: numpy.dtype size changed, may indicate binary incompatibility\"\n",
    "# errors are ok, per https://stackoverflow.com/questions/40845304/runtimewarning-numpy-dtype-size-changed-may-indicate-binary-incompatibility"
   ]
  },
  {
   "cell_type": "code",
   "execution_count": 2,
   "metadata": {
    "ExecuteTime": {
     "end_time": "2018-08-05T19:00:33.961746Z",
     "start_time": "2018-08-05T19:00:33.957890Z"
    }
   },
   "outputs": [],
   "source": [
    "pd.options.display.max_rows = 100"
   ]
  },
  {
   "cell_type": "code",
   "execution_count": 3,
   "metadata": {
    "ExecuteTime": {
     "end_time": "2018-08-05T19:00:33.971386Z",
     "start_time": "2018-08-05T19:00:33.966038Z"
    }
   },
   "outputs": [],
   "source": [
    "file_prefix = '../data/362070167_T_ONTIME-'\n",
    "file_month_range = range(1,3)\n",
    "#file_month_range = range(1,13)"
   ]
  },
  {
   "cell_type": "code",
   "execution_count": 4,
   "metadata": {
    "ExecuteTime": {
     "end_time": "2018-08-05T19:00:33.981611Z",
     "start_time": "2018-08-05T19:00:33.975388Z"
    }
   },
   "outputs": [],
   "source": [
    "dtypes_bts = {\n",
    "    'CARRIER': 'category'\n",
    "    ,'TAIL_NUM': 'category'\n",
    "    ,'ORIGIN': 'category'\n",
    "    ,'ORIGIN_CITY_NAME': 'category'\n",
    "    ,'DEST': 'category'\n",
    "    ,'DEST_CITY_NAME': 'category'\n",
    "    ,'CANCELLATION_CODE': 'category'}"
   ]
  },
  {
   "cell_type": "code",
   "execution_count": 5,
   "metadata": {
    "ExecuteTime": {
     "end_time": "2018-08-05T19:00:39.151315Z",
     "start_time": "2018-08-05T19:00:33.990694Z"
    }
   },
   "outputs": [],
   "source": [
    "d_bts_by_month = []\n",
    "for month_index in file_month_range:\n",
    "    d_bts_by_month.append(pd.read_csv(f'{file_prefix}{month_index}.csv', dtype=dtypes_bts))"
   ]
  },
  {
   "cell_type": "code",
   "execution_count": 6,
   "metadata": {
    "ExecuteTime": {
     "end_time": "2018-08-05T19:00:39.162323Z",
     "start_time": "2018-08-05T19:00:39.154115Z"
    }
   },
   "outputs": [
    {
     "name": "stdout",
     "output_type": "stream",
     "text": [
      "0 (450017, 34)\n",
      "1 (410517, 34)\n"
     ]
    }
   ],
   "source": [
    "for idx, d_month in enumerate(d_bts_by_month):\n",
    "    print(idx, d_month.shape)"
   ]
  },
  {
   "cell_type": "code",
   "execution_count": 7,
   "metadata": {
    "ExecuteTime": {
     "end_time": "2018-08-05T19:00:39.541503Z",
     "start_time": "2018-08-05T19:00:39.166051Z"
    }
   },
   "outputs": [
    {
     "data": {
      "text/plain": [
       "(860534, 34)"
      ]
     },
     "execution_count": 7,
     "metadata": {},
     "output_type": "execute_result"
    }
   ],
   "source": [
    "d_bts = pd.concat(d_bts_by_month, ignore_index=True)\n",
    "d_bts.shape"
   ]
  },
  {
   "cell_type": "markdown",
   "metadata": {},
   "source": [
    "Even if we read the data individually as categories, we don't retain that type after the concat for every field (probably because the fields have different unique values). We can get back to the categorical type, and a smaller dataframe, by reapplying the type."
   ]
  },
  {
   "cell_type": "code",
   "execution_count": 8,
   "metadata": {
    "ExecuteTime": {
     "end_time": "2018-08-05T19:00:39.869948Z",
     "start_time": "2018-08-05T19:00:39.544335Z"
    }
   },
   "outputs": [],
   "source": [
    "for field in dtypes_bts:\n",
    "    d_bts[field] = d_bts[field].astype(dtypes_bts[field])"
   ]
  },
  {
   "cell_type": "markdown",
   "metadata": {},
   "source": [
    "And we'll get a datetime too."
   ]
  },
  {
   "cell_type": "code",
   "execution_count": 9,
   "metadata": {
    "ExecuteTime": {
     "end_time": "2018-08-05T19:00:40.033563Z",
     "start_time": "2018-08-05T19:00:39.872454Z"
    }
   },
   "outputs": [],
   "source": [
    "d_bts['FL_DATE'] = pd.to_datetime(d_bts['FL_DATE'])"
   ]
  },
  {
   "cell_type": "code",
   "execution_count": 10,
   "metadata": {
    "ExecuteTime": {
     "end_time": "2018-08-05T19:00:40.048729Z",
     "start_time": "2018-08-05T19:00:40.038362Z"
    }
   },
   "outputs": [],
   "source": [
    "def mem_usage(pandas_obj):\n",
    "    if isinstance(pandas_obj,pd.DataFrame):\n",
    "        usage_b = pandas_obj.memory_usage(deep=True).sum()\n",
    "    else: # we assume if not a df it's a series\n",
    "        usage_b = pandas_obj.memory_usage(deep=True)\n",
    "    usage_mb = usage_b / 1024 ** 2 # convert bytes to megabytes\n",
    "    return \"{:03.2f} MB\".format(usage_mb)"
   ]
  },
  {
   "cell_type": "code",
   "execution_count": 11,
   "metadata": {
    "ExecuteTime": {
     "end_time": "2018-08-05T19:00:40.064165Z",
     "start_time": "2018-08-05T19:00:40.052151Z"
    }
   },
   "outputs": [
    {
     "data": {
      "text/plain": [
       "'187.65 MB'"
      ]
     },
     "execution_count": 11,
     "metadata": {},
     "output_type": "execute_result"
    }
   ],
   "source": [
    "mem_usage(d_bts)"
   ]
  },
  {
   "cell_type": "code",
   "execution_count": 12,
   "metadata": {
    "ExecuteTime": {
     "end_time": "2018-08-05T19:00:40.077808Z",
     "start_time": "2018-08-05T19:00:40.068780Z"
    }
   },
   "outputs": [
    {
     "data": {
      "text/plain": [
       "FL_DATE                datetime64[ns]\n",
       "CARRIER                      category\n",
       "TAIL_NUM                     category\n",
       "FL_NUM                          int64\n",
       "ORIGIN                       category\n",
       "ORIGIN_CITY_NAME             category\n",
       "DEST                         category\n",
       "DEST_CITY_NAME               category\n",
       "CRS_DEP_TIME                    int64\n",
       "DEP_TIME                      float64\n",
       "DEP_DELAY                     float64\n",
       "DEP_DELAY_NEW                 float64\n",
       "TAXI_OUT                      float64\n",
       "WHEELS_OFF                    float64\n",
       "WHEELS_ON                     float64\n",
       "TAXI_IN                       float64\n",
       "CRS_ARR_TIME                    int64\n",
       "ARR_TIME                      float64\n",
       "ARR_DELAY                     float64\n",
       "ARR_DELAY_NEW                 float64\n",
       "CANCELLED                     float64\n",
       "CANCELLATION_CODE            category\n",
       "DIVERTED                      float64\n",
       "CRS_ELAPSED_TIME              float64\n",
       "ACTUAL_ELAPSED_TIME           float64\n",
       "AIR_TIME                      float64\n",
       "FLIGHTS                       float64\n",
       "DISTANCE                      float64\n",
       "CARRIER_DELAY                 float64\n",
       "WEATHER_DELAY                 float64\n",
       "NAS_DELAY                     float64\n",
       "SECURITY_DELAY                float64\n",
       "LATE_AIRCRAFT_DELAY           float64\n",
       "Unnamed: 33                   float64\n",
       "dtype: object"
      ]
     },
     "execution_count": 12,
     "metadata": {},
     "output_type": "execute_result"
    }
   ],
   "source": [
    "d_bts.dtypes"
   ]
  },
  {
   "cell_type": "code",
   "execution_count": 13,
   "metadata": {
    "ExecuteTime": {
     "end_time": "2018-08-05T19:00:40.135180Z",
     "start_time": "2018-08-05T19:00:40.080637Z"
    }
   },
   "outputs": [
    {
     "data": {
      "text/html": [
       "<div>\n",
       "<style scoped>\n",
       "    .dataframe tbody tr th:only-of-type {\n",
       "        vertical-align: middle;\n",
       "    }\n",
       "\n",
       "    .dataframe tbody tr th {\n",
       "        vertical-align: top;\n",
       "    }\n",
       "\n",
       "    .dataframe thead th {\n",
       "        text-align: right;\n",
       "    }\n",
       "</style>\n",
       "<table border=\"1\" class=\"dataframe\">\n",
       "  <thead>\n",
       "    <tr style=\"text-align: right;\">\n",
       "      <th></th>\n",
       "      <th>FL_DATE</th>\n",
       "      <th>CARRIER</th>\n",
       "      <th>TAIL_NUM</th>\n",
       "      <th>FL_NUM</th>\n",
       "      <th>ORIGIN</th>\n",
       "      <th>ORIGIN_CITY_NAME</th>\n",
       "      <th>DEST</th>\n",
       "      <th>DEST_CITY_NAME</th>\n",
       "      <th>CRS_DEP_TIME</th>\n",
       "      <th>DEP_TIME</th>\n",
       "      <th>...</th>\n",
       "      <th>ACTUAL_ELAPSED_TIME</th>\n",
       "      <th>AIR_TIME</th>\n",
       "      <th>FLIGHTS</th>\n",
       "      <th>DISTANCE</th>\n",
       "      <th>CARRIER_DELAY</th>\n",
       "      <th>WEATHER_DELAY</th>\n",
       "      <th>NAS_DELAY</th>\n",
       "      <th>SECURITY_DELAY</th>\n",
       "      <th>LATE_AIRCRAFT_DELAY</th>\n",
       "      <th>Unnamed: 33</th>\n",
       "    </tr>\n",
       "  </thead>\n",
       "  <tbody>\n",
       "    <tr>\n",
       "      <th>0</th>\n",
       "      <td>2017-01-01</td>\n",
       "      <td>AA</td>\n",
       "      <td>N153AA</td>\n",
       "      <td>1766</td>\n",
       "      <td>ORD</td>\n",
       "      <td>Chicago, IL</td>\n",
       "      <td>DFW</td>\n",
       "      <td>Dallas/Fort Worth, TX</td>\n",
       "      <td>710</td>\n",
       "      <td>705.0</td>\n",
       "      <td>...</td>\n",
       "      <td>147.0</td>\n",
       "      <td>121.0</td>\n",
       "      <td>1.0</td>\n",
       "      <td>802.0</td>\n",
       "      <td>NaN</td>\n",
       "      <td>NaN</td>\n",
       "      <td>NaN</td>\n",
       "      <td>NaN</td>\n",
       "      <td>NaN</td>\n",
       "      <td>NaN</td>\n",
       "    </tr>\n",
       "  </tbody>\n",
       "</table>\n",
       "<p>1 rows × 34 columns</p>\n",
       "</div>"
      ],
      "text/plain": [
       "     FL_DATE CARRIER TAIL_NUM  FL_NUM ORIGIN ORIGIN_CITY_NAME DEST  \\\n",
       "0 2017-01-01      AA   N153AA    1766    ORD      Chicago, IL  DFW   \n",
       "\n",
       "          DEST_CITY_NAME  CRS_DEP_TIME  DEP_TIME     ...       \\\n",
       "0  Dallas/Fort Worth, TX           710     705.0     ...        \n",
       "\n",
       "   ACTUAL_ELAPSED_TIME  AIR_TIME  FLIGHTS  DISTANCE  CARRIER_DELAY  \\\n",
       "0                147.0     121.0      1.0     802.0            NaN   \n",
       "\n",
       "   WEATHER_DELAY  NAS_DELAY  SECURITY_DELAY  LATE_AIRCRAFT_DELAY  Unnamed: 33  \n",
       "0            NaN        NaN             NaN                  NaN          NaN  \n",
       "\n",
       "[1 rows x 34 columns]"
      ]
     },
     "execution_count": 13,
     "metadata": {},
     "output_type": "execute_result"
    }
   ],
   "source": [
    "d_bts[:1]"
   ]
  },
  {
   "cell_type": "code",
   "execution_count": 14,
   "metadata": {
    "ExecuteTime": {
     "end_time": "2018-08-05T19:00:40.338782Z",
     "start_time": "2018-08-05T19:00:40.139789Z"
    }
   },
   "outputs": [
    {
     "data": {
      "text/plain": [
       "<matplotlib.axes._subplots.AxesSubplot at 0x1a1a5be630>"
      ]
     },
     "execution_count": 14,
     "metadata": {},
     "output_type": "execute_result"
    },
    {
     "data": {
      "image/png": "[encoded data removed]",
      "text/plain": [
       "<matplotlib.figure.Figure at 0x1a1a5beeb8>"
      ]
     },
     "metadata": {},
     "output_type": "display_data"
    }
   ],
   "source": [
    "d_bts['FL_DATE'].hist()"
   ]
  },
  {
   "cell_type": "markdown",
   "metadata": {},
   "source": [
    "# Airports - additional data"
   ]
  },
  {
   "cell_type": "code",
   "execution_count": 15,
   "metadata": {
    "ExecuteTime": {
     "end_time": "2018-08-05T19:00:40.348112Z",
     "start_time": "2018-08-05T19:00:40.341745Z"
    }
   },
   "outputs": [],
   "source": [
    "dtypes_airports = {\n",
    "    'Name': 'category'\n",
    "    ,'City': 'category'\n",
    "    ,'Country': 'category'\n",
    "    ,'IATA': 'category'\n",
    "    ,'ICAO': 'category'\n",
    "    ,'Timezone': 'category'\n",
    "    ,'DST': 'category'\n",
    "    ,'TzTimezone': 'category'\n",
    "    ,'Type': 'category'\n",
    "    ,'Source': 'category'}"
   ]
  },
  {
   "cell_type": "code",
   "execution_count": 16,
   "metadata": {
    "ExecuteTime": {
     "end_time": "2018-08-05T19:00:40.432328Z",
     "start_time": "2018-08-05T19:00:40.351048Z"
    }
   },
   "outputs": [
    {
     "data": {
      "text/plain": [
       "(7184, 14)"
      ]
     },
     "execution_count": 16,
     "metadata": {},
     "output_type": "execute_result"
    }
   ],
   "source": [
    "d_airports = pd.read_csv('../data/airports.csv', dtype=dtypes_airports)\n",
    "d_airports.shape"
   ]
  },
  {
   "cell_type": "code",
   "execution_count": 17,
   "metadata": {
    "ExecuteTime": {
     "end_time": "2018-08-05T19:00:40.444591Z",
     "start_time": "2018-08-05T19:00:40.434668Z"
    }
   },
   "outputs": [
    {
     "data": {
      "text/plain": [
       "[FL_DATE                datetime64[ns]\n",
       " CARRIER                      category\n",
       " TAIL_NUM                     category\n",
       " FL_NUM                          int64\n",
       " ORIGIN                       category\n",
       " ORIGIN_CITY_NAME             category\n",
       " DEST                         category\n",
       " DEST_CITY_NAME               category\n",
       " CRS_DEP_TIME                    int64\n",
       " DEP_TIME                      float64\n",
       " DEP_DELAY                     float64\n",
       " DEP_DELAY_NEW                 float64\n",
       " TAXI_OUT                      float64\n",
       " WHEELS_OFF                    float64\n",
       " WHEELS_ON                     float64\n",
       " TAXI_IN                       float64\n",
       " CRS_ARR_TIME                    int64\n",
       " ARR_TIME                      float64\n",
       " ARR_DELAY                     float64\n",
       " ARR_DELAY_NEW                 float64\n",
       " CANCELLED                     float64\n",
       " CANCELLATION_CODE            category\n",
       " DIVERTED                      float64\n",
       " CRS_ELAPSED_TIME              float64\n",
       " ACTUAL_ELAPSED_TIME           float64\n",
       " AIR_TIME                      float64\n",
       " FLIGHTS                       float64\n",
       " DISTANCE                      float64\n",
       " CARRIER_DELAY                 float64\n",
       " WEATHER_DELAY                 float64\n",
       " NAS_DELAY                     float64\n",
       " SECURITY_DELAY                float64\n",
       " LATE_AIRCRAFT_DELAY           float64\n",
       " Unnamed: 33                   float64\n",
       " dtype: object, AirportID        int64\n",
       " Name          category\n",
       " City          category\n",
       " Country       category\n",
       " IATA          category\n",
       " ICAO          category\n",
       " Latitude       float64\n",
       " Longitude      float64\n",
       " Altitude         int64\n",
       " Timezone      category\n",
       " DST           category\n",
       " TzTimezone    category\n",
       " Type          category\n",
       " Source        category\n",
       " dtype: object]"
      ]
     },
     "execution_count": 17,
     "metadata": {},
     "output_type": "execute_result"
    }
   ],
   "source": [
    "[d_bts.dtypes, d_airports.dtypes]"
   ]
  },
  {
   "cell_type": "code",
   "execution_count": 18,
   "metadata": {
    "ExecuteTime": {
     "end_time": "2018-08-05T19:00:42.032950Z",
     "start_time": "2018-08-05T19:00:40.448598Z"
    }
   },
   "outputs": [
    {
     "data": {
      "text/html": [
       "<div>\n",
       "<style scoped>\n",
       "    .dataframe tbody tr th:only-of-type {\n",
       "        vertical-align: middle;\n",
       "    }\n",
       "\n",
       "    .dataframe tbody tr th {\n",
       "        vertical-align: top;\n",
       "    }\n",
       "\n",
       "    .dataframe thead th {\n",
       "        text-align: right;\n",
       "    }\n",
       "</style>\n",
       "<table border=\"1\" class=\"dataframe\">\n",
       "  <thead>\n",
       "    <tr style=\"text-align: right;\">\n",
       "      <th></th>\n",
       "      <th>FL_DATE</th>\n",
       "      <th>CARRIER</th>\n",
       "      <th>TAIL_NUM</th>\n",
       "      <th>FL_NUM</th>\n",
       "      <th>ORIGIN</th>\n",
       "      <th>ORIGIN_CITY_NAME</th>\n",
       "      <th>DEST</th>\n",
       "      <th>DEST_CITY_NAME</th>\n",
       "      <th>CRS_DEP_TIME</th>\n",
       "      <th>DEP_TIME</th>\n",
       "      <th>...</th>\n",
       "      <th>IATA</th>\n",
       "      <th>ICAO</th>\n",
       "      <th>Latitude</th>\n",
       "      <th>Longitude</th>\n",
       "      <th>Altitude</th>\n",
       "      <th>Timezone</th>\n",
       "      <th>DST</th>\n",
       "      <th>TzTimezone</th>\n",
       "      <th>Type</th>\n",
       "      <th>Source</th>\n",
       "    </tr>\n",
       "  </thead>\n",
       "  <tbody>\n",
       "    <tr>\n",
       "      <th>0</th>\n",
       "      <td>2017-01-01</td>\n",
       "      <td>AA</td>\n",
       "      <td>N153AA</td>\n",
       "      <td>1766</td>\n",
       "      <td>ORD</td>\n",
       "      <td>Chicago, IL</td>\n",
       "      <td>DFW</td>\n",
       "      <td>Dallas/Fort Worth, TX</td>\n",
       "      <td>710</td>\n",
       "      <td>705.0</td>\n",
       "      <td>...</td>\n",
       "      <td>ORD</td>\n",
       "      <td>KORD</td>\n",
       "      <td>41.978600</td>\n",
       "      <td>-87.904800</td>\n",
       "      <td>672.0</td>\n",
       "      <td>-6</td>\n",
       "      <td>A</td>\n",
       "      <td>America/Chicago</td>\n",
       "      <td>airport</td>\n",
       "      <td>OurAirports</td>\n",
       "    </tr>\n",
       "    <tr>\n",
       "      <th>1</th>\n",
       "      <td>2017-01-01</td>\n",
       "      <td>AA</td>\n",
       "      <td>N192AA</td>\n",
       "      <td>1767</td>\n",
       "      <td>LAS</td>\n",
       "      <td>Las Vegas, NV</td>\n",
       "      <td>DFW</td>\n",
       "      <td>Dallas/Fort Worth, TX</td>\n",
       "      <td>1235</td>\n",
       "      <td>1235.0</td>\n",
       "      <td>...</td>\n",
       "      <td>LAS</td>\n",
       "      <td>KLAS</td>\n",
       "      <td>36.080101</td>\n",
       "      <td>-115.152000</td>\n",
       "      <td>2181.0</td>\n",
       "      <td>-8</td>\n",
       "      <td>A</td>\n",
       "      <td>America/Los_Angeles</td>\n",
       "      <td>airport</td>\n",
       "      <td>OurAirports</td>\n",
       "    </tr>\n",
       "    <tr>\n",
       "      <th>2</th>\n",
       "      <td>2017-01-01</td>\n",
       "      <td>AA</td>\n",
       "      <td>N829AA</td>\n",
       "      <td>1768</td>\n",
       "      <td>DCA</td>\n",
       "      <td>Washington, DC</td>\n",
       "      <td>MIA</td>\n",
       "      <td>Miami, FL</td>\n",
       "      <td>1020</td>\n",
       "      <td>1015.0</td>\n",
       "      <td>...</td>\n",
       "      <td>DCA</td>\n",
       "      <td>KDCA</td>\n",
       "      <td>38.852100</td>\n",
       "      <td>-77.037697</td>\n",
       "      <td>15.0</td>\n",
       "      <td>-5</td>\n",
       "      <td>A</td>\n",
       "      <td>America/New_York</td>\n",
       "      <td>airport</td>\n",
       "      <td>OurAirports</td>\n",
       "    </tr>\n",
       "  </tbody>\n",
       "</table>\n",
       "<p>3 rows × 48 columns</p>\n",
       "</div>"
      ],
      "text/plain": [
       "     FL_DATE CARRIER TAIL_NUM  FL_NUM ORIGIN ORIGIN_CITY_NAME DEST  \\\n",
       "0 2017-01-01      AA   N153AA    1766    ORD      Chicago, IL  DFW   \n",
       "1 2017-01-01      AA   N192AA    1767    LAS    Las Vegas, NV  DFW   \n",
       "2 2017-01-01      AA   N829AA    1768    DCA   Washington, DC  MIA   \n",
       "\n",
       "          DEST_CITY_NAME  CRS_DEP_TIME  DEP_TIME     ...       IATA  ICAO  \\\n",
       "0  Dallas/Fort Worth, TX           710     705.0     ...        ORD  KORD   \n",
       "1  Dallas/Fort Worth, TX          1235    1235.0     ...        LAS  KLAS   \n",
       "2              Miami, FL          1020    1015.0     ...        DCA  KDCA   \n",
       "\n",
       "    Latitude   Longitude  Altitude  Timezone  DST           TzTimezone  \\\n",
       "0  41.978600  -87.904800     672.0        -6    A      America/Chicago   \n",
       "1  36.080101 -115.152000    2181.0        -8    A  America/Los_Angeles   \n",
       "2  38.852100  -77.037697      15.0        -5    A     America/New_York   \n",
       "\n",
       "      Type       Source  \n",
       "0  airport  OurAirports  \n",
       "1  airport  OurAirports  \n",
       "2  airport  OurAirports  \n",
       "\n",
       "[3 rows x 48 columns]"
      ]
     },
     "execution_count": 18,
     "metadata": {},
     "output_type": "execute_result"
    }
   ],
   "source": [
    "d = pd.merge(left=d_bts, right=d_airports, how='left', left_on='ORIGIN', right_on='IATA')\n",
    "d[:3]"
   ]
  },
  {
   "cell_type": "code",
   "execution_count": 19,
   "metadata": {
    "ExecuteTime": {
     "end_time": "2018-08-05T19:00:42.045828Z",
     "start_time": "2018-08-05T19:00:42.037184Z"
    }
   },
   "outputs": [
    {
     "data": {
      "text/plain": [
       "FL_DATE                                 2017-01-01 00:00:00\n",
       "CARRIER                                                  AA\n",
       "TAIL_NUM                                             N153AA\n",
       "FL_NUM                                                 1766\n",
       "ORIGIN                                                  ORD\n",
       "ORIGIN_CITY_NAME                                Chicago, IL\n",
       "DEST                                                    DFW\n",
       "DEST_CITY_NAME                        Dallas/Fort Worth, TX\n",
       "CRS_DEP_TIME                                            710\n",
       "DEP_TIME                                                705\n",
       "DEP_DELAY                                                -5\n",
       "DEP_DELAY_NEW                                             0\n",
       "TAXI_OUT                                                 12\n",
       "WHEELS_OFF                                              717\n",
       "WHEELS_ON                                               918\n",
       "TAXI_IN                                                  14\n",
       "CRS_ARR_TIME                                            948\n",
       "ARR_TIME                                                932\n",
       "ARR_DELAY                                               -16\n",
       "ARR_DELAY_NEW                                             0\n",
       "CANCELLED                                                 0\n",
       "CANCELLATION_CODE                                       NaN\n",
       "DIVERTED                                                  0\n",
       "CRS_ELAPSED_TIME                                        158\n",
       "ACTUAL_ELAPSED_TIME                                     147\n",
       "AIR_TIME                                                121\n",
       "FLIGHTS                                                   1\n",
       "DISTANCE                                                802\n",
       "CARRIER_DELAY                                           NaN\n",
       "WEATHER_DELAY                                           NaN\n",
       "NAS_DELAY                                               NaN\n",
       "SECURITY_DELAY                                          NaN\n",
       "LATE_AIRCRAFT_DELAY                                     NaN\n",
       "Unnamed: 33                                             NaN\n",
       "AirportID                                              3830\n",
       "Name                   Chicago O'Hare International Airport\n",
       "City                                                Chicago\n",
       "Country                                       United States\n",
       "IATA                                                    ORD\n",
       "ICAO                                                   KORD\n",
       "Latitude                                            41.9786\n",
       "Longitude                                          -87.9048\n",
       "Altitude                                                672\n",
       "Timezone                                                 -6\n",
       "DST                                                       A\n",
       "TzTimezone                                  America/Chicago\n",
       "Type                                                airport\n",
       "Source                                          OurAirports\n",
       "Name: 0, dtype: object"
      ]
     },
     "execution_count": 19,
     "metadata": {},
     "output_type": "execute_result"
    }
   ],
   "source": [
    "d.iloc[0]"
   ]
  },
  {
   "cell_type": "code",
   "execution_count": 20,
   "metadata": {
    "ExecuteTime": {
     "end_time": "2018-08-05T19:00:44.155831Z",
     "start_time": "2018-08-05T19:00:42.049197Z"
    }
   },
   "outputs": [
    {
     "data": {
      "text/html": [
       "<div>\n",
       "<style scoped>\n",
       "    .dataframe tbody tr th:only-of-type {\n",
       "        vertical-align: middle;\n",
       "    }\n",
       "\n",
       "    .dataframe tbody tr th {\n",
       "        vertical-align: top;\n",
       "    }\n",
       "\n",
       "    .dataframe thead th {\n",
       "        text-align: right;\n",
       "    }\n",
       "</style>\n",
       "<table border=\"1\" class=\"dataframe\">\n",
       "  <thead>\n",
       "    <tr style=\"text-align: right;\">\n",
       "      <th></th>\n",
       "      <th>FL_DATE</th>\n",
       "      <th>CARRIER</th>\n",
       "      <th>TAIL_NUM</th>\n",
       "      <th>FL_NUM</th>\n",
       "      <th>ORIGIN</th>\n",
       "      <th>ORIGIN_CITY_NAME</th>\n",
       "      <th>DEST</th>\n",
       "      <th>DEST_CITY_NAME</th>\n",
       "      <th>CRS_DEP_TIME</th>\n",
       "      <th>DEP_TIME</th>\n",
       "      <th>...</th>\n",
       "      <th>IATA_dest</th>\n",
       "      <th>ICAO_dest</th>\n",
       "      <th>Latitude_dest</th>\n",
       "      <th>Longitude_dest</th>\n",
       "      <th>Altitude_dest</th>\n",
       "      <th>Timezone_dest</th>\n",
       "      <th>DST_dest</th>\n",
       "      <th>TzTimezone_dest</th>\n",
       "      <th>Type_dest</th>\n",
       "      <th>Source_dest</th>\n",
       "    </tr>\n",
       "  </thead>\n",
       "  <tbody>\n",
       "    <tr>\n",
       "      <th>0</th>\n",
       "      <td>2017-01-01</td>\n",
       "      <td>AA</td>\n",
       "      <td>N153AA</td>\n",
       "      <td>1766</td>\n",
       "      <td>ORD</td>\n",
       "      <td>Chicago, IL</td>\n",
       "      <td>DFW</td>\n",
       "      <td>Dallas/Fort Worth, TX</td>\n",
       "      <td>710</td>\n",
       "      <td>705.0</td>\n",
       "      <td>...</td>\n",
       "      <td>DFW</td>\n",
       "      <td>KDFW</td>\n",
       "      <td>32.896801</td>\n",
       "      <td>-97.038002</td>\n",
       "      <td>607.0</td>\n",
       "      <td>-6</td>\n",
       "      <td>A</td>\n",
       "      <td>America/Chicago</td>\n",
       "      <td>airport</td>\n",
       "      <td>OurAirports</td>\n",
       "    </tr>\n",
       "    <tr>\n",
       "      <th>1</th>\n",
       "      <td>2017-01-01</td>\n",
       "      <td>AA</td>\n",
       "      <td>N192AA</td>\n",
       "      <td>1767</td>\n",
       "      <td>LAS</td>\n",
       "      <td>Las Vegas, NV</td>\n",
       "      <td>DFW</td>\n",
       "      <td>Dallas/Fort Worth, TX</td>\n",
       "      <td>1235</td>\n",
       "      <td>1235.0</td>\n",
       "      <td>...</td>\n",
       "      <td>DFW</td>\n",
       "      <td>KDFW</td>\n",
       "      <td>32.896801</td>\n",
       "      <td>-97.038002</td>\n",
       "      <td>607.0</td>\n",
       "      <td>-6</td>\n",
       "      <td>A</td>\n",
       "      <td>America/Chicago</td>\n",
       "      <td>airport</td>\n",
       "      <td>OurAirports</td>\n",
       "    </tr>\n",
       "    <tr>\n",
       "      <th>2</th>\n",
       "      <td>2017-01-01</td>\n",
       "      <td>AA</td>\n",
       "      <td>N829AA</td>\n",
       "      <td>1768</td>\n",
       "      <td>DCA</td>\n",
       "      <td>Washington, DC</td>\n",
       "      <td>MIA</td>\n",
       "      <td>Miami, FL</td>\n",
       "      <td>1020</td>\n",
       "      <td>1015.0</td>\n",
       "      <td>...</td>\n",
       "      <td>MIA</td>\n",
       "      <td>KMIA</td>\n",
       "      <td>25.793200</td>\n",
       "      <td>-80.290604</td>\n",
       "      <td>8.0</td>\n",
       "      <td>-5</td>\n",
       "      <td>A</td>\n",
       "      <td>America/New_York</td>\n",
       "      <td>airport</td>\n",
       "      <td>OurAirports</td>\n",
       "    </tr>\n",
       "  </tbody>\n",
       "</table>\n",
       "<p>3 rows × 62 columns</p>\n",
       "</div>"
      ],
      "text/plain": [
       "     FL_DATE CARRIER TAIL_NUM  FL_NUM ORIGIN ORIGIN_CITY_NAME DEST  \\\n",
       "0 2017-01-01      AA   N153AA    1766    ORD      Chicago, IL  DFW   \n",
       "1 2017-01-01      AA   N192AA    1767    LAS    Las Vegas, NV  DFW   \n",
       "2 2017-01-01      AA   N829AA    1768    DCA   Washington, DC  MIA   \n",
       "\n",
       "          DEST_CITY_NAME  CRS_DEP_TIME  DEP_TIME     ...       IATA_dest  \\\n",
       "0  Dallas/Fort Worth, TX           710     705.0     ...             DFW   \n",
       "1  Dallas/Fort Worth, TX          1235    1235.0     ...             DFW   \n",
       "2              Miami, FL          1020    1015.0     ...             MIA   \n",
       "\n",
       "   ICAO_dest  Latitude_dest  Longitude_dest  Altitude_dest  Timezone_dest  \\\n",
       "0       KDFW      32.896801      -97.038002          607.0             -6   \n",
       "1       KDFW      32.896801      -97.038002          607.0             -6   \n",
       "2       KMIA      25.793200      -80.290604            8.0             -5   \n",
       "\n",
       "   DST_dest   TzTimezone_dest  Type_dest  Source_dest  \n",
       "0         A   America/Chicago    airport  OurAirports  \n",
       "1         A   America/Chicago    airport  OurAirports  \n",
       "2         A  America/New_York    airport  OurAirports  \n",
       "\n",
       "[3 rows x 62 columns]"
      ]
     },
     "execution_count": 20,
     "metadata": {},
     "output_type": "execute_result"
    }
   ],
   "source": [
    "d = pd.merge(left=d, right=d_airports, how='left', left_on='DEST', right_on='IATA', suffixes=['_orig','_dest'])\n",
    "d[:3]"
   ]
  },
  {
   "cell_type": "code",
   "execution_count": 21,
   "metadata": {
    "ExecuteTime": {
     "end_time": "2018-08-05T19:00:44.168205Z",
     "start_time": "2018-08-05T19:00:44.159340Z"
    }
   },
   "outputs": [
    {
     "data": {
      "text/plain": [
       "FL_DATE                                    2017-01-01 00:00:00\n",
       "CARRIER                                                     AA\n",
       "TAIL_NUM                                                N153AA\n",
       "FL_NUM                                                    1766\n",
       "ORIGIN                                                     ORD\n",
       "ORIGIN_CITY_NAME                                   Chicago, IL\n",
       "DEST                                                       DFW\n",
       "DEST_CITY_NAME                           Dallas/Fort Worth, TX\n",
       "CRS_DEP_TIME                                               710\n",
       "DEP_TIME                                                   705\n",
       "DEP_DELAY                                                   -5\n",
       "DEP_DELAY_NEW                                                0\n",
       "TAXI_OUT                                                    12\n",
       "WHEELS_OFF                                                 717\n",
       "WHEELS_ON                                                  918\n",
       "TAXI_IN                                                     14\n",
       "CRS_ARR_TIME                                               948\n",
       "ARR_TIME                                                   932\n",
       "ARR_DELAY                                                  -16\n",
       "ARR_DELAY_NEW                                                0\n",
       "CANCELLED                                                    0\n",
       "CANCELLATION_CODE                                          NaN\n",
       "DIVERTED                                                     0\n",
       "CRS_ELAPSED_TIME                                           158\n",
       "ACTUAL_ELAPSED_TIME                                        147\n",
       "AIR_TIME                                                   121\n",
       "FLIGHTS                                                      1\n",
       "DISTANCE                                                   802\n",
       "CARRIER_DELAY                                              NaN\n",
       "WEATHER_DELAY                                              NaN\n",
       "NAS_DELAY                                                  NaN\n",
       "SECURITY_DELAY                                             NaN\n",
       "LATE_AIRCRAFT_DELAY                                        NaN\n",
       "Unnamed: 33                                                NaN\n",
       "AirportID_orig                                            3830\n",
       "Name_orig                 Chicago O'Hare International Airport\n",
       "City_orig                                              Chicago\n",
       "Country_orig                                     United States\n",
       "IATA_orig                                                  ORD\n",
       "ICAO_orig                                                 KORD\n",
       "Latitude_orig                                          41.9786\n",
       "Longitude_orig                                        -87.9048\n",
       "Altitude_orig                                              672\n",
       "Timezone_orig                                               -6\n",
       "DST_orig                                                     A\n",
       "TzTimezone_orig                                America/Chicago\n",
       "Type_orig                                              airport\n",
       "Source_orig                                        OurAirports\n",
       "AirportID_dest                                            3670\n",
       "Name_dest              Dallas Fort Worth International Airport\n",
       "City_dest                                    Dallas-Fort Worth\n",
       "Country_dest                                     United States\n",
       "IATA_dest                                                  DFW\n",
       "ICAO_dest                                                 KDFW\n",
       "Latitude_dest                                          32.8968\n",
       "Longitude_dest                                         -97.038\n",
       "Altitude_dest                                              607\n",
       "Timezone_dest                                               -6\n",
       "DST_dest                                                     A\n",
       "TzTimezone_dest                                America/Chicago\n",
       "Type_dest                                              airport\n",
       "Source_dest                                        OurAirports\n",
       "Name: 0, dtype: object"
      ]
     },
     "execution_count": 21,
     "metadata": {},
     "output_type": "execute_result"
    }
   ],
   "source": [
    "d.iloc[0]"
   ]
  },
  {
   "cell_type": "code",
   "execution_count": 22,
   "metadata": {
    "ExecuteTime": {
     "end_time": "2018-08-05T19:00:44.192424Z",
     "start_time": "2018-08-05T19:00:44.171780Z"
    }
   },
   "outputs": [
    {
     "data": {
      "text/plain": [
       "[FL_DATE                datetime64[ns]\n",
       " CARRIER                      category\n",
       " TAIL_NUM                     category\n",
       " FL_NUM                          int64\n",
       " ORIGIN                       category\n",
       " ORIGIN_CITY_NAME             category\n",
       " DEST                         category\n",
       " DEST_CITY_NAME               category\n",
       " CRS_DEP_TIME                    int64\n",
       " DEP_TIME                      float64\n",
       " DEP_DELAY                     float64\n",
       " DEP_DELAY_NEW                 float64\n",
       " TAXI_OUT                      float64\n",
       " WHEELS_OFF                    float64\n",
       " WHEELS_ON                     float64\n",
       " TAXI_IN                       float64\n",
       " CRS_ARR_TIME                    int64\n",
       " ARR_TIME                      float64\n",
       " ARR_DELAY                     float64\n",
       " ARR_DELAY_NEW                 float64\n",
       " CANCELLED                     float64\n",
       " CANCELLATION_CODE            category\n",
       " DIVERTED                      float64\n",
       " CRS_ELAPSED_TIME              float64\n",
       " ACTUAL_ELAPSED_TIME           float64\n",
       " AIR_TIME                      float64\n",
       " FLIGHTS                       float64\n",
       " DISTANCE                      float64\n",
       " CARRIER_DELAY                 float64\n",
       " WEATHER_DELAY                 float64\n",
       " NAS_DELAY                     float64\n",
       " SECURITY_DELAY                float64\n",
       " LATE_AIRCRAFT_DELAY           float64\n",
       " Unnamed: 33                   float64\n",
       " dtype: object, AirportID        int64\n",
       " Name          category\n",
       " City          category\n",
       " Country       category\n",
       " IATA          category\n",
       " ICAO          category\n",
       " Latitude       float64\n",
       " Longitude      float64\n",
       " Altitude         int64\n",
       " Timezone      category\n",
       " DST           category\n",
       " TzTimezone    category\n",
       " Type          category\n",
       " Source        category\n",
       " dtype: object]"
      ]
     },
     "execution_count": 22,
     "metadata": {},
     "output_type": "execute_result"
    }
   ],
   "source": [
    "[d_bts.dtypes, d_airports.dtypes]"
   ]
  },
  {
   "cell_type": "code",
   "execution_count": 23,
   "metadata": {
    "ExecuteTime": {
     "end_time": "2018-08-05T19:00:44.368162Z",
     "start_time": "2018-08-05T19:00:44.197236Z"
    }
   },
   "outputs": [
    {
     "data": {
      "text/plain": [
       "'373.86 MB'"
      ]
     },
     "execution_count": 23,
     "metadata": {},
     "output_type": "execute_result"
    }
   ],
   "source": [
    "mem_usage(d)"
   ]
  },
  {
   "cell_type": "code",
   "execution_count": 24,
   "metadata": {
    "ExecuteTime": {
     "end_time": "2018-08-05T19:00:44.389231Z",
     "start_time": "2018-08-05T19:00:44.373799Z"
    }
   },
   "outputs": [
    {
     "data": {
      "text/plain": [
       "FL_DATE                datetime64[ns]\n",
       "CARRIER                      category\n",
       "TAIL_NUM                     category\n",
       "FL_NUM                          int64\n",
       "ORIGIN                         object\n",
       "ORIGIN_CITY_NAME             category\n",
       "DEST                           object\n",
       "DEST_CITY_NAME               category\n",
       "CRS_DEP_TIME                    int64\n",
       "DEP_TIME                      float64\n",
       "DEP_DELAY                     float64\n",
       "DEP_DELAY_NEW                 float64\n",
       "TAXI_OUT                      float64\n",
       "WHEELS_OFF                    float64\n",
       "WHEELS_ON                     float64\n",
       "TAXI_IN                       float64\n",
       "CRS_ARR_TIME                    int64\n",
       "ARR_TIME                      float64\n",
       "ARR_DELAY                     float64\n",
       "ARR_DELAY_NEW                 float64\n",
       "CANCELLED                     float64\n",
       "CANCELLATION_CODE            category\n",
       "DIVERTED                      float64\n",
       "CRS_ELAPSED_TIME              float64\n",
       "ACTUAL_ELAPSED_TIME           float64\n",
       "AIR_TIME                      float64\n",
       "FLIGHTS                       float64\n",
       "DISTANCE                      float64\n",
       "CARRIER_DELAY                 float64\n",
       "WEATHER_DELAY                 float64\n",
       "NAS_DELAY                     float64\n",
       "SECURITY_DELAY                float64\n",
       "LATE_AIRCRAFT_DELAY           float64\n",
       "Unnamed: 33                   float64\n",
       "AirportID_orig                float64\n",
       "Name_orig                    category\n",
       "City_orig                    category\n",
       "Country_orig                 category\n",
       "IATA_orig                    category\n",
       "ICAO_orig                    category\n",
       "Latitude_orig                 float64\n",
       "Longitude_orig                float64\n",
       "Altitude_orig                 float64\n",
       "Timezone_orig                category\n",
       "DST_orig                     category\n",
       "TzTimezone_orig              category\n",
       "Type_orig                    category\n",
       "Source_orig                  category\n",
       "AirportID_dest                float64\n",
       "Name_dest                    category\n",
       "City_dest                    category\n",
       "Country_dest                 category\n",
       "IATA_dest                    category\n",
       "ICAO_dest                    category\n",
       "Latitude_dest                 float64\n",
       "Longitude_dest                float64\n",
       "Altitude_dest                 float64\n",
       "Timezone_dest                category\n",
       "DST_dest                     category\n",
       "TzTimezone_dest              category\n",
       "Type_dest                    category\n",
       "Source_dest                  category\n",
       "dtype: object"
      ]
     },
     "execution_count": 24,
     "metadata": {},
     "output_type": "execute_result"
    }
   ],
   "source": [
    "d.dtypes"
   ]
  },
  {
   "cell_type": "markdown",
   "metadata": {},
   "source": [
    "# Carriers - additional data"
   ]
  },
  {
   "cell_type": "code",
   "execution_count": 25,
   "metadata": {
    "ExecuteTime": {
     "end_time": "2018-08-05T19:00:44.397511Z",
     "start_time": "2018-08-05T19:00:44.392873Z"
    }
   },
   "outputs": [],
   "source": [
    "# d_carriers = pd.read_csv('../data/CarrierLookup.csv')\n",
    "# d_carriers.shape"
   ]
  },
  {
   "cell_type": "code",
   "execution_count": 26,
   "metadata": {
    "ExecuteTime": {
     "end_time": "2018-08-05T19:00:44.408724Z",
     "start_time": "2018-08-05T19:00:44.403979Z"
    }
   },
   "outputs": [],
   "source": [
    "# d = pd.merge(left=d, right=d_carriers, left_on='CARRIER', right_on='Code')\n",
    "# d[:3]"
   ]
  },
  {
   "cell_type": "code",
   "execution_count": 27,
   "metadata": {
    "ExecuteTime": {
     "end_time": "2018-08-05T19:00:44.417990Z",
     "start_time": "2018-08-05T19:00:44.412022Z"
    }
   },
   "outputs": [],
   "source": [
    "# d.iloc[0]"
   ]
  },
  {
   "cell_type": "code",
   "execution_count": 28,
   "metadata": {
    "ExecuteTime": {
     "end_time": "2018-08-05T19:00:44.425612Z",
     "start_time": "2018-08-05T19:00:44.421233Z"
    }
   },
   "outputs": [],
   "source": [
    "dtypes_carriers = {\n",
    "    'Code': 'category'\n",
    "    ,'Description': 'category'}"
   ]
  },
  {
   "cell_type": "code",
   "execution_count": 29,
   "metadata": {
    "ExecuteTime": {
     "end_time": "2018-08-05T19:00:44.455488Z",
     "start_time": "2018-08-05T19:00:44.428413Z"
    }
   },
   "outputs": [
    {
     "data": {
      "text/plain": [
       "(1645, 2)"
      ]
     },
     "execution_count": 29,
     "metadata": {},
     "output_type": "execute_result"
    }
   ],
   "source": [
    "d_carriers_unique = pd.read_csv('../data/UniqueCarrierLookup.csv', dtype=dtypes_carriers)\n",
    "d_carriers_unique.shape"
   ]
  },
  {
   "cell_type": "code",
   "execution_count": 30,
   "metadata": {
    "ExecuteTime": {
     "end_time": "2018-08-05T19:00:48.209401Z",
     "start_time": "2018-08-05T19:00:44.458984Z"
    }
   },
   "outputs": [
    {
     "data": {
      "text/html": [
       "<div>\n",
       "<style scoped>\n",
       "    .dataframe tbody tr th:only-of-type {\n",
       "        vertical-align: middle;\n",
       "    }\n",
       "\n",
       "    .dataframe tbody tr th {\n",
       "        vertical-align: top;\n",
       "    }\n",
       "\n",
       "    .dataframe thead th {\n",
       "        text-align: right;\n",
       "    }\n",
       "</style>\n",
       "<table border=\"1\" class=\"dataframe\">\n",
       "  <thead>\n",
       "    <tr style=\"text-align: right;\">\n",
       "      <th></th>\n",
       "      <th>FL_DATE</th>\n",
       "      <th>CARRIER</th>\n",
       "      <th>TAIL_NUM</th>\n",
       "      <th>FL_NUM</th>\n",
       "      <th>ORIGIN</th>\n",
       "      <th>ORIGIN_CITY_NAME</th>\n",
       "      <th>DEST</th>\n",
       "      <th>DEST_CITY_NAME</th>\n",
       "      <th>CRS_DEP_TIME</th>\n",
       "      <th>DEP_TIME</th>\n",
       "      <th>...</th>\n",
       "      <th>Latitude_dest</th>\n",
       "      <th>Longitude_dest</th>\n",
       "      <th>Altitude_dest</th>\n",
       "      <th>Timezone_dest</th>\n",
       "      <th>DST_dest</th>\n",
       "      <th>TzTimezone_dest</th>\n",
       "      <th>Type_dest</th>\n",
       "      <th>Source_dest</th>\n",
       "      <th>Code</th>\n",
       "      <th>Description</th>\n",
       "    </tr>\n",
       "  </thead>\n",
       "  <tbody>\n",
       "    <tr>\n",
       "      <th>0</th>\n",
       "      <td>2017-01-01</td>\n",
       "      <td>AA</td>\n",
       "      <td>N153AA</td>\n",
       "      <td>1766</td>\n",
       "      <td>ORD</td>\n",
       "      <td>Chicago, IL</td>\n",
       "      <td>DFW</td>\n",
       "      <td>Dallas/Fort Worth, TX</td>\n",
       "      <td>710</td>\n",
       "      <td>705.0</td>\n",
       "      <td>...</td>\n",
       "      <td>32.896801</td>\n",
       "      <td>-97.038002</td>\n",
       "      <td>607.0</td>\n",
       "      <td>-6</td>\n",
       "      <td>A</td>\n",
       "      <td>America/Chicago</td>\n",
       "      <td>airport</td>\n",
       "      <td>OurAirports</td>\n",
       "      <td>AA</td>\n",
       "      <td>American Airlines Inc.</td>\n",
       "    </tr>\n",
       "    <tr>\n",
       "      <th>1</th>\n",
       "      <td>2017-01-01</td>\n",
       "      <td>AA</td>\n",
       "      <td>N192AA</td>\n",
       "      <td>1767</td>\n",
       "      <td>LAS</td>\n",
       "      <td>Las Vegas, NV</td>\n",
       "      <td>DFW</td>\n",
       "      <td>Dallas/Fort Worth, TX</td>\n",
       "      <td>1235</td>\n",
       "      <td>1235.0</td>\n",
       "      <td>...</td>\n",
       "      <td>32.896801</td>\n",
       "      <td>-97.038002</td>\n",
       "      <td>607.0</td>\n",
       "      <td>-6</td>\n",
       "      <td>A</td>\n",
       "      <td>America/Chicago</td>\n",
       "      <td>airport</td>\n",
       "      <td>OurAirports</td>\n",
       "      <td>AA</td>\n",
       "      <td>American Airlines Inc.</td>\n",
       "    </tr>\n",
       "    <tr>\n",
       "      <th>2</th>\n",
       "      <td>2017-01-01</td>\n",
       "      <td>AA</td>\n",
       "      <td>N829AA</td>\n",
       "      <td>1768</td>\n",
       "      <td>DCA</td>\n",
       "      <td>Washington, DC</td>\n",
       "      <td>MIA</td>\n",
       "      <td>Miami, FL</td>\n",
       "      <td>1020</td>\n",
       "      <td>1015.0</td>\n",
       "      <td>...</td>\n",
       "      <td>25.793200</td>\n",
       "      <td>-80.290604</td>\n",
       "      <td>8.0</td>\n",
       "      <td>-5</td>\n",
       "      <td>A</td>\n",
       "      <td>America/New_York</td>\n",
       "      <td>airport</td>\n",
       "      <td>OurAirports</td>\n",
       "      <td>AA</td>\n",
       "      <td>American Airlines Inc.</td>\n",
       "    </tr>\n",
       "  </tbody>\n",
       "</table>\n",
       "<p>3 rows × 64 columns</p>\n",
       "</div>"
      ],
      "text/plain": [
       "     FL_DATE CARRIER TAIL_NUM  FL_NUM ORIGIN ORIGIN_CITY_NAME DEST  \\\n",
       "0 2017-01-01      AA   N153AA    1766    ORD      Chicago, IL  DFW   \n",
       "1 2017-01-01      AA   N192AA    1767    LAS    Las Vegas, NV  DFW   \n",
       "2 2017-01-01      AA   N829AA    1768    DCA   Washington, DC  MIA   \n",
       "\n",
       "          DEST_CITY_NAME  CRS_DEP_TIME  DEP_TIME           ...            \\\n",
       "0  Dallas/Fort Worth, TX           710     705.0           ...             \n",
       "1  Dallas/Fort Worth, TX          1235    1235.0           ...             \n",
       "2              Miami, FL          1020    1015.0           ...             \n",
       "\n",
       "   Latitude_dest  Longitude_dest  Altitude_dest  Timezone_dest  DST_dest  \\\n",
       "0      32.896801      -97.038002          607.0             -6         A   \n",
       "1      32.896801      -97.038002          607.0             -6         A   \n",
       "2      25.793200      -80.290604            8.0             -5         A   \n",
       "\n",
       "    TzTimezone_dest  Type_dest  Source_dest  Code             Description  \n",
       "0   America/Chicago    airport  OurAirports    AA  American Airlines Inc.  \n",
       "1   America/Chicago    airport  OurAirports    AA  American Airlines Inc.  \n",
       "2  America/New_York    airport  OurAirports    AA  American Airlines Inc.  \n",
       "\n",
       "[3 rows x 64 columns]"
      ]
     },
     "execution_count": 30,
     "metadata": {},
     "output_type": "execute_result"
    }
   ],
   "source": [
    "d = pd.merge(left=d, right=d_carriers_unique, left_on='CARRIER', right_on='Code')\n",
    "d[:3]"
   ]
  },
  {
   "cell_type": "code",
   "execution_count": 31,
   "metadata": {
    "ExecuteTime": {
     "end_time": "2018-08-05T19:00:48.228035Z",
     "start_time": "2018-08-05T19:00:48.213743Z"
    }
   },
   "outputs": [
    {
     "data": {
      "text/plain": [
       "FL_DATE                                    2017-01-01 00:00:00\n",
       "CARRIER                                                     AA\n",
       "TAIL_NUM                                                N153AA\n",
       "FL_NUM                                                    1766\n",
       "ORIGIN                                                     ORD\n",
       "ORIGIN_CITY_NAME                                   Chicago, IL\n",
       "DEST                                                       DFW\n",
       "DEST_CITY_NAME                           Dallas/Fort Worth, TX\n",
       "CRS_DEP_TIME                                               710\n",
       "DEP_TIME                                                   705\n",
       "DEP_DELAY                                                   -5\n",
       "DEP_DELAY_NEW                                                0\n",
       "TAXI_OUT                                                    12\n",
       "WHEELS_OFF                                                 717\n",
       "WHEELS_ON                                                  918\n",
       "TAXI_IN                                                     14\n",
       "CRS_ARR_TIME                                               948\n",
       "ARR_TIME                                                   932\n",
       "ARR_DELAY                                                  -16\n",
       "ARR_DELAY_NEW                                                0\n",
       "CANCELLED                                                    0\n",
       "CANCELLATION_CODE                                          NaN\n",
       "DIVERTED                                                     0\n",
       "CRS_ELAPSED_TIME                                           158\n",
       "ACTUAL_ELAPSED_TIME                                        147\n",
       "AIR_TIME                                                   121\n",
       "FLIGHTS                                                      1\n",
       "DISTANCE                                                   802\n",
       "CARRIER_DELAY                                              NaN\n",
       "WEATHER_DELAY                                              NaN\n",
       "NAS_DELAY                                                  NaN\n",
       "SECURITY_DELAY                                             NaN\n",
       "LATE_AIRCRAFT_DELAY                                        NaN\n",
       "Unnamed: 33                                                NaN\n",
       "AirportID_orig                                            3830\n",
       "Name_orig                 Chicago O'Hare International Airport\n",
       "City_orig                                              Chicago\n",
       "Country_orig                                     United States\n",
       "IATA_orig                                                  ORD\n",
       "ICAO_orig                                                 KORD\n",
       "Latitude_orig                                          41.9786\n",
       "Longitude_orig                                        -87.9048\n",
       "Altitude_orig                                              672\n",
       "Timezone_orig                                               -6\n",
       "DST_orig                                                     A\n",
       "TzTimezone_orig                                America/Chicago\n",
       "Type_orig                                              airport\n",
       "Source_orig                                        OurAirports\n",
       "AirportID_dest                                            3670\n",
       "Name_dest              Dallas Fort Worth International Airport\n",
       "City_dest                                    Dallas-Fort Worth\n",
       "Country_dest                                     United States\n",
       "IATA_dest                                                  DFW\n",
       "ICAO_dest                                                 KDFW\n",
       "Latitude_dest                                          32.8968\n",
       "Longitude_dest                                         -97.038\n",
       "Altitude_dest                                              607\n",
       "Timezone_dest                                               -6\n",
       "DST_dest                                                     A\n",
       "TzTimezone_dest                                America/Chicago\n",
       "Type_dest                                              airport\n",
       "Source_dest                                        OurAirports\n",
       "Code                                                        AA\n",
       "Description                             American Airlines Inc.\n",
       "Name: 0, dtype: object"
      ]
     },
     "execution_count": 31,
     "metadata": {},
     "output_type": "execute_result"
    }
   ],
   "source": [
    "d.iloc[0]"
   ]
  },
  {
   "cell_type": "code",
   "execution_count": 32,
   "metadata": {
    "ExecuteTime": {
     "end_time": "2018-08-05T19:00:48.367783Z",
     "start_time": "2018-08-05T19:00:48.231459Z"
    }
   },
   "outputs": [
    {
     "data": {
      "text/plain": [
       "WN    203526\n",
       "AA    140255\n",
       "DL    135126\n",
       "OO     97099\n",
       "UA     82407\n",
       "EV     65481\n",
       "B6     47113\n",
       "AS     28057\n",
       "NK     24013\n",
       "F9     14470\n",
       "HA     12065\n",
       "VX     10922\n",
       "Name: CARRIER, dtype: int64"
      ]
     },
     "execution_count": 32,
     "metadata": {},
     "output_type": "execute_result"
    }
   ],
   "source": [
    "d['CARRIER'].value_counts(dropna=False)"
   ]
  },
  {
   "cell_type": "code",
   "execution_count": 33,
   "metadata": {
    "ExecuteTime": {
     "end_time": "2018-08-05T19:00:48.586580Z",
     "start_time": "2018-08-05T19:00:48.371350Z"
    }
   },
   "outputs": [
    {
     "data": {
      "text/plain": [
       "'425.04 MB'"
      ]
     },
     "execution_count": 33,
     "metadata": {},
     "output_type": "execute_result"
    }
   ],
   "source": [
    "mem_usage(d)"
   ]
  },
  {
   "cell_type": "code",
   "execution_count": 34,
   "metadata": {
    "ExecuteTime": {
     "end_time": "2018-08-05T19:00:48.609914Z",
     "start_time": "2018-08-05T19:00:48.593369Z"
    }
   },
   "outputs": [
    {
     "data": {
      "text/plain": [
       "FL_DATE                datetime64[ns]\n",
       "CARRIER                        object\n",
       "TAIL_NUM                     category\n",
       "FL_NUM                          int64\n",
       "ORIGIN                         object\n",
       "ORIGIN_CITY_NAME             category\n",
       "DEST                           object\n",
       "DEST_CITY_NAME               category\n",
       "CRS_DEP_TIME                    int64\n",
       "DEP_TIME                      float64\n",
       "DEP_DELAY                     float64\n",
       "DEP_DELAY_NEW                 float64\n",
       "TAXI_OUT                      float64\n",
       "WHEELS_OFF                    float64\n",
       "WHEELS_ON                     float64\n",
       "TAXI_IN                       float64\n",
       "CRS_ARR_TIME                    int64\n",
       "ARR_TIME                      float64\n",
       "ARR_DELAY                     float64\n",
       "ARR_DELAY_NEW                 float64\n",
       "CANCELLED                     float64\n",
       "CANCELLATION_CODE            category\n",
       "DIVERTED                      float64\n",
       "CRS_ELAPSED_TIME              float64\n",
       "ACTUAL_ELAPSED_TIME           float64\n",
       "AIR_TIME                      float64\n",
       "FLIGHTS                       float64\n",
       "DISTANCE                      float64\n",
       "CARRIER_DELAY                 float64\n",
       "WEATHER_DELAY                 float64\n",
       "NAS_DELAY                     float64\n",
       "SECURITY_DELAY                float64\n",
       "LATE_AIRCRAFT_DELAY           float64\n",
       "Unnamed: 33                   float64\n",
       "AirportID_orig                float64\n",
       "Name_orig                    category\n",
       "City_orig                    category\n",
       "Country_orig                 category\n",
       "IATA_orig                    category\n",
       "ICAO_orig                    category\n",
       "Latitude_orig                 float64\n",
       "Longitude_orig                float64\n",
       "Altitude_orig                 float64\n",
       "Timezone_orig                category\n",
       "DST_orig                     category\n",
       "TzTimezone_orig              category\n",
       "Type_orig                    category\n",
       "Source_orig                  category\n",
       "AirportID_dest                float64\n",
       "Name_dest                    category\n",
       "City_dest                    category\n",
       "Country_dest                 category\n",
       "IATA_dest                    category\n",
       "ICAO_dest                    category\n",
       "Latitude_dest                 float64\n",
       "Longitude_dest                float64\n",
       "Altitude_dest                 float64\n",
       "Timezone_dest                category\n",
       "DST_dest                     category\n",
       "TzTimezone_dest              category\n",
       "Type_dest                    category\n",
       "Source_dest                  category\n",
       "Code                         category\n",
       "Description                  category\n",
       "dtype: object"
      ]
     },
     "execution_count": 34,
     "metadata": {},
     "output_type": "execute_result"
    }
   ],
   "source": [
    "d.dtypes"
   ]
  },
  {
   "cell_type": "markdown",
   "metadata": {},
   "source": [
    "For some reason (that I could figure out, but I'm not going to spend the time on - something about the join, since the ORIG and DEST fields that we use on the join above are similarly changed) the last join clobbers the categorical dtype on a few of the BTS fields. I'll reapply it here."
   ]
  },
  {
   "cell_type": "code",
   "execution_count": 35,
   "metadata": {
    "ExecuteTime": {
     "end_time": "2018-08-05T19:00:48.749018Z",
     "start_time": "2018-08-05T19:00:48.613475Z"
    }
   },
   "outputs": [],
   "source": [
    "for field in dtypes_bts:\n",
    "    d[field] = d[field].astype(dtypes_bts[field])"
   ]
  },
  {
   "cell_type": "code",
   "execution_count": 36,
   "metadata": {
    "ExecuteTime": {
     "end_time": "2018-08-05T19:00:48.759897Z",
     "start_time": "2018-08-05T19:00:48.752069Z"
    }
   },
   "outputs": [
    {
     "data": {
      "text/plain": [
       "FL_DATE                datetime64[ns]\n",
       "CARRIER                      category\n",
       "TAIL_NUM                     category\n",
       "FL_NUM                          int64\n",
       "ORIGIN                       category\n",
       "ORIGIN_CITY_NAME             category\n",
       "DEST                         category\n",
       "DEST_CITY_NAME               category\n",
       "CRS_DEP_TIME                    int64\n",
       "DEP_TIME                      float64\n",
       "DEP_DELAY                     float64\n",
       "DEP_DELAY_NEW                 float64\n",
       "TAXI_OUT                      float64\n",
       "WHEELS_OFF                    float64\n",
       "WHEELS_ON                     float64\n",
       "TAXI_IN                       float64\n",
       "CRS_ARR_TIME                    int64\n",
       "ARR_TIME                      float64\n",
       "ARR_DELAY                     float64\n",
       "ARR_DELAY_NEW                 float64\n",
       "CANCELLED                     float64\n",
       "CANCELLATION_CODE            category\n",
       "DIVERTED                      float64\n",
       "CRS_ELAPSED_TIME              float64\n",
       "ACTUAL_ELAPSED_TIME           float64\n",
       "AIR_TIME                      float64\n",
       "FLIGHTS                       float64\n",
       "DISTANCE                      float64\n",
       "CARRIER_DELAY                 float64\n",
       "WEATHER_DELAY                 float64\n",
       "NAS_DELAY                     float64\n",
       "SECURITY_DELAY                float64\n",
       "LATE_AIRCRAFT_DELAY           float64\n",
       "Unnamed: 33                   float64\n",
       "AirportID_orig                float64\n",
       "Name_orig                    category\n",
       "City_orig                    category\n",
       "Country_orig                 category\n",
       "IATA_orig                    category\n",
       "ICAO_orig                    category\n",
       "Latitude_orig                 float64\n",
       "Longitude_orig                float64\n",
       "Altitude_orig                 float64\n",
       "Timezone_orig                category\n",
       "DST_orig                     category\n",
       "TzTimezone_orig              category\n",
       "Type_orig                    category\n",
       "Source_orig                  category\n",
       "AirportID_dest                float64\n",
       "Name_dest                    category\n",
       "City_dest                    category\n",
       "Country_dest                 category\n",
       "IATA_dest                    category\n",
       "ICAO_dest                    category\n",
       "Latitude_dest                 float64\n",
       "Longitude_dest                float64\n",
       "Altitude_dest                 float64\n",
       "Timezone_dest                category\n",
       "DST_dest                     category\n",
       "TzTimezone_dest              category\n",
       "Type_dest                    category\n",
       "Source_dest                  category\n",
       "Code                         category\n",
       "Description                  category\n",
       "dtype: object"
      ]
     },
     "execution_count": 36,
     "metadata": {},
     "output_type": "execute_result"
    }
   ],
   "source": [
    "d.dtypes"
   ]
  },
  {
   "cell_type": "code",
   "execution_count": 37,
   "metadata": {
    "ExecuteTime": {
     "end_time": "2018-08-05T19:00:48.784816Z",
     "start_time": "2018-08-05T19:00:48.763517Z"
    }
   },
   "outputs": [
    {
     "data": {
      "text/plain": [
       "'282.30 MB'"
      ]
     },
     "execution_count": 37,
     "metadata": {},
     "output_type": "execute_result"
    }
   ],
   "source": [
    "mem_usage(d)"
   ]
  },
  {
   "cell_type": "code",
   "execution_count": 43,
   "metadata": {
    "ExecuteTime": {
     "end_time": "2018-08-05T19:11:04.330446Z",
     "start_time": "2018-08-05T19:11:04.308247Z"
    }
   },
   "outputs": [
    {
     "data": {
      "text/plain": [
       "FL_DATE                                    2017-01-01 00:00:00\n",
       "CARRIER                                                     AA\n",
       "TAIL_NUM                                                N153AA\n",
       "FL_NUM                                                    1766\n",
       "ORIGIN                                                     ORD\n",
       "ORIGIN_CITY_NAME                                   Chicago, IL\n",
       "DEST                                                       DFW\n",
       "DEST_CITY_NAME                           Dallas/Fort Worth, TX\n",
       "CRS_DEP_TIME                                               710\n",
       "DEP_TIME                                                   705\n",
       "DEP_DELAY                                                   -5\n",
       "DEP_DELAY_NEW                                                0\n",
       "TAXI_OUT                                                    12\n",
       "WHEELS_OFF                                                 717\n",
       "WHEELS_ON                                                  918\n",
       "TAXI_IN                                                     14\n",
       "CRS_ARR_TIME                                               948\n",
       "ARR_TIME                                                   932\n",
       "ARR_DELAY                                                  -16\n",
       "ARR_DELAY_NEW                                                0\n",
       "CANCELLED                                                    0\n",
       "CANCELLATION_CODE                                          NaN\n",
       "DIVERTED                                                     0\n",
       "CRS_ELAPSED_TIME                                           158\n",
       "ACTUAL_ELAPSED_TIME                                        147\n",
       "AIR_TIME                                                   121\n",
       "FLIGHTS                                                      1\n",
       "DISTANCE                                                   802\n",
       "CARRIER_DELAY                                              NaN\n",
       "WEATHER_DELAY                                              NaN\n",
       "NAS_DELAY                                                  NaN\n",
       "SECURITY_DELAY                                             NaN\n",
       "LATE_AIRCRAFT_DELAY                                        NaN\n",
       "Unnamed: 33                                                NaN\n",
       "AirportID_orig                                            3830\n",
       "Name_orig                 Chicago O'Hare International Airport\n",
       "City_orig                                              Chicago\n",
       "Country_orig                                     United States\n",
       "IATA_orig                                                  ORD\n",
       "ICAO_orig                                                 KORD\n",
       "Latitude_orig                                          41.9786\n",
       "Longitude_orig                                        -87.9048\n",
       "Altitude_orig                                              672\n",
       "Timezone_orig                                               -6\n",
       "DST_orig                                                     A\n",
       "TzTimezone_orig                                America/Chicago\n",
       "Type_orig                                              airport\n",
       "Source_orig                                        OurAirports\n",
       "AirportID_dest                                            3670\n",
       "Name_dest              Dallas Fort Worth International Airport\n",
       "City_dest                                    Dallas-Fort Worth\n",
       "Country_dest                                     United States\n",
       "IATA_dest                                                  DFW\n",
       "ICAO_dest                                                 KDFW\n",
       "Latitude_dest                                          32.8968\n",
       "Longitude_dest                                         -97.038\n",
       "Altitude_dest                                              607\n",
       "Timezone_dest                                               -6\n",
       "DST_dest                                                     A\n",
       "TzTimezone_dest                                America/Chicago\n",
       "Type_dest                                              airport\n",
       "Source_dest                                        OurAirports\n",
       "Code                                                        AA\n",
       "Description                             American Airlines Inc.\n",
       "Name: 0, dtype: object"
      ]
     },
     "execution_count": 43,
     "metadata": {},
     "output_type": "execute_result"
    }
   ],
   "source": [
    "d.iloc[0]"
   ]
  },
  {
   "cell_type": "markdown",
   "metadata": {},
   "source": [
    "# Filter down joined data to only fields we need, rename to be consistent"
   ]
  },
  {
   "cell_type": "code",
   "execution_count": 139,
   "metadata": {
    "ExecuteTime": {
     "end_time": "2018-08-09T03:08:51.689633Z",
     "start_time": "2018-08-09T03:08:50.847490Z"
    }
   },
   "outputs": [
    {
     "data": {
      "text/html": [
       "<div>\n",
       "<style scoped>\n",
       "    .dataframe tbody tr th:only-of-type {\n",
       "        vertical-align: middle;\n",
       "    }\n",
       "\n",
       "    .dataframe tbody tr th {\n",
       "        vertical-align: top;\n",
       "    }\n",
       "\n",
       "    .dataframe thead th {\n",
       "        text-align: right;\n",
       "    }\n",
       "</style>\n",
       "<table border=\"1\" class=\"dataframe\">\n",
       "  <thead>\n",
       "    <tr style=\"text-align: right;\">\n",
       "      <th></th>\n",
       "      <th>FL_DATE</th>\n",
       "      <th>ORIGIN</th>\n",
       "      <th>ORIGIN_CITY_NAME</th>\n",
       "      <th>DEST</th>\n",
       "      <th>DEST_CITY_NAME</th>\n",
       "      <th>CRS_DEP_TIME</th>\n",
       "      <th>DEP_TIME</th>\n",
       "      <th>DEP_DELAY</th>\n",
       "      <th>DEP_DELAY_NEW</th>\n",
       "      <th>CRS_ARR_TIME</th>\n",
       "      <th>...</th>\n",
       "      <th>CRS_ELAPSED_TIME</th>\n",
       "      <th>ACTUAL_ELAPSED_TIME</th>\n",
       "      <th>FLIGHTS</th>\n",
       "      <th>Name_orig</th>\n",
       "      <th>Latitude_orig</th>\n",
       "      <th>Longitude_orig</th>\n",
       "      <th>Name_dest</th>\n",
       "      <th>Latitude_dest</th>\n",
       "      <th>Longitude_dest</th>\n",
       "      <th>Description</th>\n",
       "    </tr>\n",
       "  </thead>\n",
       "  <tbody>\n",
       "    <tr>\n",
       "      <th>0</th>\n",
       "      <td>2017-01-01</td>\n",
       "      <td>ORD</td>\n",
       "      <td>Chicago, IL</td>\n",
       "      <td>DFW</td>\n",
       "      <td>Dallas/Fort Worth, TX</td>\n",
       "      <td>710</td>\n",
       "      <td>705.0</td>\n",
       "      <td>-5.0</td>\n",
       "      <td>0.0</td>\n",
       "      <td>948</td>\n",
       "      <td>...</td>\n",
       "      <td>158.0</td>\n",
       "      <td>147.0</td>\n",
       "      <td>1.0</td>\n",
       "      <td>Chicago O'Hare International Airport</td>\n",
       "      <td>41.978600</td>\n",
       "      <td>-87.9048</td>\n",
       "      <td>Dallas Fort Worth International Airport</td>\n",
       "      <td>32.896801</td>\n",
       "      <td>-97.038002</td>\n",
       "      <td>American Airlines Inc.</td>\n",
       "    </tr>\n",
       "    <tr>\n",
       "      <th>1</th>\n",
       "      <td>2017-01-01</td>\n",
       "      <td>LAS</td>\n",
       "      <td>Las Vegas, NV</td>\n",
       "      <td>DFW</td>\n",
       "      <td>Dallas/Fort Worth, TX</td>\n",
       "      <td>1235</td>\n",
       "      <td>1235.0</td>\n",
       "      <td>0.0</td>\n",
       "      <td>0.0</td>\n",
       "      <td>1718</td>\n",
       "      <td>...</td>\n",
       "      <td>163.0</td>\n",
       "      <td>162.0</td>\n",
       "      <td>1.0</td>\n",
       "      <td>McCarran International Airport</td>\n",
       "      <td>36.080101</td>\n",
       "      <td>-115.1520</td>\n",
       "      <td>Dallas Fort Worth International Airport</td>\n",
       "      <td>32.896801</td>\n",
       "      <td>-97.038002</td>\n",
       "      <td>American Airlines Inc.</td>\n",
       "    </tr>\n",
       "  </tbody>\n",
       "</table>\n",
       "<p>2 rows × 25 columns</p>\n",
       "</div>"
      ],
      "text/plain": [
       "     FL_DATE ORIGIN ORIGIN_CITY_NAME DEST         DEST_CITY_NAME  \\\n",
       "0 2017-01-01    ORD      Chicago, IL  DFW  Dallas/Fort Worth, TX   \n",
       "1 2017-01-01    LAS    Las Vegas, NV  DFW  Dallas/Fort Worth, TX   \n",
       "\n",
       "   CRS_DEP_TIME  DEP_TIME  DEP_DELAY  DEP_DELAY_NEW  CRS_ARR_TIME  \\\n",
       "0           710     705.0       -5.0            0.0           948   \n",
       "1          1235    1235.0        0.0            0.0          1718   \n",
       "\n",
       "            ...            CRS_ELAPSED_TIME  ACTUAL_ELAPSED_TIME  FLIGHTS  \\\n",
       "0           ...                       158.0                147.0      1.0   \n",
       "1           ...                       163.0                162.0      1.0   \n",
       "\n",
       "                              Name_orig  Latitude_orig  Longitude_orig  \\\n",
       "0  Chicago O'Hare International Airport      41.978600        -87.9048   \n",
       "1        McCarran International Airport      36.080101       -115.1520   \n",
       "\n",
       "                                 Name_dest  Latitude_dest Longitude_dest  \\\n",
       "0  Dallas Fort Worth International Airport      32.896801     -97.038002   \n",
       "1  Dallas Fort Worth International Airport      32.896801     -97.038002   \n",
       "\n",
       "              Description  \n",
       "0  American Airlines Inc.  \n",
       "1  American Airlines Inc.  \n",
       "\n",
       "[2 rows x 25 columns]"
      ]
     },
     "execution_count": 139,
     "metadata": {},
     "output_type": "execute_result"
    }
   ],
   "source": [
    "d_filtered = d[['FL_DATE','ORIGIN','ORIGIN_CITY_NAME','DEST','DEST_CITY_NAME',\n",
    "                'CRS_DEP_TIME','DEP_TIME','DEP_DELAY','DEP_DELAY_NEW',\n",
    "                'CRS_ARR_TIME','ARR_TIME','ARR_DELAY','ARR_DELAY_NEW',\n",
    "                'CANCELLED','DIVERTED','CRS_ELAPSED_TIME','ACTUAL_ELAPSED_TIME',\n",
    "                'FLIGHTS','Name_orig','Latitude_orig','Longitude_orig',\n",
    "                'Name_dest','Latitude_dest','Longitude_dest','Description']].copy()\n",
    "d_filtered[:2]"
   ]
  },
  {
   "cell_type": "code",
   "execution_count": 143,
   "metadata": {
    "ExecuteTime": {
     "end_time": "2018-08-09T03:09:47.352627Z",
     "start_time": "2018-08-09T03:09:47.154680Z"
    }
   },
   "outputs": [
    {
     "data": {
      "text/plain": [
       "FlightDate                                2017-01-01 00:00:00\n",
       "OriginCode                                                ORD\n",
       "OriginCity                                        Chicago, IL\n",
       "DestCode                                                  DFW\n",
       "DestCity                                Dallas/Fort Worth, TX\n",
       "DepTimeScheduled                                          710\n",
       "DepTimeActual                                             705\n",
       "DepDelay                                                   -5\n",
       "DepDelayCapped                                              0\n",
       "ArrTimeScheduled                                          948\n",
       "ArrTimeActual                                             932\n",
       "ArrDelay                                                  -16\n",
       "ArrDelayCapped                                              0\n",
       "Cancelled                                                   0\n",
       "Diverted                                                    0\n",
       "TotalTimeScheduled                                        158\n",
       "TotalTimeActual                                           147\n",
       "Flights                                                     1\n",
       "OriginAirport            Chicago O'Hare International Airport\n",
       "OriginLatitude                                        41.9786\n",
       "OriginLongitude                                      -87.9048\n",
       "DestAirport           Dallas Fort Worth International Airport\n",
       "DestLatitude                                          32.8968\n",
       "DestLongitude                                         -97.038\n",
       "Carrier                                American Airlines Inc.\n",
       "Name: 0, dtype: object"
      ]
     },
     "execution_count": 143,
     "metadata": {},
     "output_type": "execute_result"
    }
   ],
   "source": [
    "d_filtered.rename(columns={'FL_DATE':'FlightDate','ORIGIN':'OriginCode','ORIGIN_CITY_NAME':'OriginCity',\n",
    "                           'DEST':'DestCode','DEST_CITY_NAME':'DestCity','CRS_DEP_TIME':'DepTimeScheduled',\n",
    "                           'DEP_TIME':'DepTimeActual','DEP_DELAY':'DepDelay','DEP_DELAY_NEW':'DepDelayCapped',\n",
    "                           'CRS_ARR_TIME':'ArrTimeScheduled','ARR_TIME':'ArrTimeActual','ARR_DELAY':'ArrDelay',\n",
    "                           'ARR_DELAY_NEW':'ArrDelayCapped','CANCELLED':'Cancelled','DIVERTED':'Diverted',\n",
    "                           'CRS_ELAPSED_TIME':'TotalTimeScheduled','ACTUAL_ELAPSED_TIME':'TotalTimeActual',\n",
    "                           'FLIGHTS':'Flights','Name_orig':'OriginAirport','Latitude_orig':'OriginLatitude',\n",
    "                           'Longitude_orig':'OriginLongitude','Name_dest':'DestAirport',\n",
    "                           'Latitude_dest':'DestLatitude','Longitude_dest':'DestLongitude',\n",
    "                           'Description':'Carrier'}, inplace=True)\n",
    "d_filtered.iloc[0]"
   ]
  },
  {
   "cell_type": "markdown",
   "metadata": {},
   "source": [
    "# And, finally, dump to a single file"
   ]
  },
  {
   "cell_type": "code",
   "execution_count": 144,
   "metadata": {
    "ExecuteTime": {
     "end_time": "2018-08-09T03:11:12.562344Z",
     "start_time": "2018-08-09T03:10:46.999697Z"
    }
   },
   "outputs": [],
   "source": [
    "d_filtered.to_csv('../data/flights.csv', index=False)"
   ]
  },
  {
   "cell_type": "markdown",
   "metadata": {},
   "source": [
    "# Paths for maps linking airports"
   ]
  },
  {
   "cell_type": "code",
   "execution_count": 68,
   "metadata": {
    "ExecuteTime": {
     "end_time": "2018-08-05T19:25:55.915256Z",
     "start_time": "2018-08-05T19:25:55.525073Z"
    }
   },
   "outputs": [
    {
     "data": {
      "text/html": [
       "<div>\n",
       "<style scoped>\n",
       "    .dataframe tbody tr th:only-of-type {\n",
       "        vertical-align: middle;\n",
       "    }\n",
       "\n",
       "    .dataframe tbody tr th {\n",
       "        vertical-align: top;\n",
       "    }\n",
       "\n",
       "    .dataframe thead th {\n",
       "        text-align: right;\n",
       "    }\n",
       "</style>\n",
       "<table border=\"1\" class=\"dataframe\">\n",
       "  <thead>\n",
       "    <tr style=\"text-align: right;\">\n",
       "      <th></th>\n",
       "      <th>ORIGIN</th>\n",
       "      <th>DEST</th>\n",
       "      <th>ORIGIN_CITY_NAME</th>\n",
       "      <th>DEST_CITY_NAME</th>\n",
       "      <th>Name_orig</th>\n",
       "      <th>Name_dest</th>\n",
       "      <th>Latitude_orig</th>\n",
       "      <th>Longitude_orig</th>\n",
       "      <th>Latitude_dest</th>\n",
       "      <th>Longitude_dest</th>\n",
       "      <th>CountOfFlights</th>\n",
       "    </tr>\n",
       "  </thead>\n",
       "  <tbody>\n",
       "    <tr>\n",
       "      <th>0</th>\n",
       "      <td>ABE</td>\n",
       "      <td>ATL</td>\n",
       "      <td>Allentown/Bethlehem/Easton, PA</td>\n",
       "      <td>Atlanta, GA</td>\n",
       "      <td>Lehigh Valley International Airport</td>\n",
       "      <td>Hartsfield Jackson Atlanta International Airport</td>\n",
       "      <td>40.652100</td>\n",
       "      <td>-75.440804</td>\n",
       "      <td>33.636700</td>\n",
       "      <td>-84.428101</td>\n",
       "      <td>128</td>\n",
       "    </tr>\n",
       "    <tr>\n",
       "      <th>1</th>\n",
       "      <td>ABE</td>\n",
       "      <td>DTW</td>\n",
       "      <td>Allentown/Bethlehem/Easton, PA</td>\n",
       "      <td>Detroit, MI</td>\n",
       "      <td>Lehigh Valley International Airport</td>\n",
       "      <td>Detroit Metropolitan Wayne County Airport</td>\n",
       "      <td>40.652100</td>\n",
       "      <td>-75.440804</td>\n",
       "      <td>42.212399</td>\n",
       "      <td>-83.353401</td>\n",
       "      <td>113</td>\n",
       "    </tr>\n",
       "    <tr>\n",
       "      <th>2</th>\n",
       "      <td>ABE</td>\n",
       "      <td>ORD</td>\n",
       "      <td>Allentown/Bethlehem/Easton, PA</td>\n",
       "      <td>Chicago, IL</td>\n",
       "      <td>Lehigh Valley International Airport</td>\n",
       "      <td>Chicago O'Hare International Airport</td>\n",
       "      <td>40.652100</td>\n",
       "      <td>-75.440804</td>\n",
       "      <td>41.978600</td>\n",
       "      <td>-87.904800</td>\n",
       "      <td>78</td>\n",
       "    </tr>\n",
       "    <tr>\n",
       "      <th>3</th>\n",
       "      <td>ABI</td>\n",
       "      <td>DFW</td>\n",
       "      <td>Abilene, TX</td>\n",
       "      <td>Dallas/Fort Worth, TX</td>\n",
       "      <td>Abilene Regional Airport</td>\n",
       "      <td>Dallas Fort Worth International Airport</td>\n",
       "      <td>32.411301</td>\n",
       "      <td>-99.681900</td>\n",
       "      <td>32.896801</td>\n",
       "      <td>-97.038002</td>\n",
       "      <td>41</td>\n",
       "    </tr>\n",
       "    <tr>\n",
       "      <th>4</th>\n",
       "      <td>ABQ</td>\n",
       "      <td>ATL</td>\n",
       "      <td>Albuquerque, NM</td>\n",
       "      <td>Atlanta, GA</td>\n",
       "      <td>Albuquerque International Sunport Airport</td>\n",
       "      <td>Hartsfield Jackson Atlanta International Airport</td>\n",
       "      <td>35.040199</td>\n",
       "      <td>-106.609001</td>\n",
       "      <td>33.636700</td>\n",
       "      <td>-84.428101</td>\n",
       "      <td>94</td>\n",
       "    </tr>\n",
       "  </tbody>\n",
       "</table>\n",
       "</div>"
      ],
      "text/plain": [
       "  ORIGIN DEST                ORIGIN_CITY_NAME         DEST_CITY_NAME  \\\n",
       "0    ABE  ATL  Allentown/Bethlehem/Easton, PA            Atlanta, GA   \n",
       "1    ABE  DTW  Allentown/Bethlehem/Easton, PA            Detroit, MI   \n",
       "2    ABE  ORD  Allentown/Bethlehem/Easton, PA            Chicago, IL   \n",
       "3    ABI  DFW                     Abilene, TX  Dallas/Fort Worth, TX   \n",
       "4    ABQ  ATL                 Albuquerque, NM            Atlanta, GA   \n",
       "\n",
       "                                   Name_orig  \\\n",
       "0        Lehigh Valley International Airport   \n",
       "1        Lehigh Valley International Airport   \n",
       "2        Lehigh Valley International Airport   \n",
       "3                   Abilene Regional Airport   \n",
       "4  Albuquerque International Sunport Airport   \n",
       "\n",
       "                                          Name_dest  Latitude_orig  \\\n",
       "0  Hartsfield Jackson Atlanta International Airport      40.652100   \n",
       "1         Detroit Metropolitan Wayne County Airport      40.652100   \n",
       "2              Chicago O'Hare International Airport      40.652100   \n",
       "3           Dallas Fort Worth International Airport      32.411301   \n",
       "4  Hartsfield Jackson Atlanta International Airport      35.040199   \n",
       "\n",
       "   Longitude_orig  Latitude_dest  Longitude_dest  CountOfFlights  \n",
       "0      -75.440804      33.636700      -84.428101             128  \n",
       "1      -75.440804      42.212399      -83.353401             113  \n",
       "2      -75.440804      41.978600      -87.904800              78  \n",
       "3      -99.681900      32.896801      -97.038002              41  \n",
       "4     -106.609001      33.636700      -84.428101              94  "
      ]
     },
     "execution_count": 68,
     "metadata": {},
     "output_type": "execute_result"
    }
   ],
   "source": [
    "d_paths_data = d.groupby(['ORIGIN','DEST','ORIGIN_CITY_NAME','DEST_CITY_NAME',\n",
    "           'Name_orig','Name_dest',\n",
    "           'Latitude_orig','Longitude_orig',\n",
    "           'Latitude_dest','Longitude_dest'], as_index=True).size().reset_index()\n",
    "d_paths_data.rename(columns={0:'CountOfFlights'}, inplace=True)\n",
    "d_paths_data[:5]"
   ]
  },
  {
   "cell_type": "code",
   "execution_count": 86,
   "metadata": {
    "ExecuteTime": {
     "end_time": "2018-08-05T19:33:46.406224Z",
     "start_time": "2018-08-05T19:33:46.361527Z"
    }
   },
   "outputs": [
    {
     "data": {
      "text/plain": [
       "[Pandas(ORIGIN='ABE', DEST='ATL', ORIGIN_CITY_NAME='Allentown/Bethlehem/Easton, PA', DEST_CITY_NAME='Atlanta, GA', Name_orig='Lehigh Valley International Airport', Name_dest='Hartsfield Jackson Atlanta International Airport', Latitude_orig=40.652099609375, Longitude_orig=-75.44080352783203, Latitude_dest=33.63669967651367, Longitude_dest=-84.4281005859375, CountOfFlights=128)]"
      ]
     },
     "execution_count": 86,
     "metadata": {},
     "output_type": "execute_result"
    }
   ],
   "source": [
    "foo = list(d_paths_data[:1].itertuples(index=False))\n",
    "foo"
   ]
  },
  {
   "cell_type": "code",
   "execution_count": 92,
   "metadata": {
    "ExecuteTime": {
     "end_time": "2018-08-05T19:34:43.376606Z",
     "start_time": "2018-08-05T19:34:43.368332Z"
    }
   },
   "outputs": [
    {
     "data": {
      "text/plain": [
       "'ABE'"
      ]
     },
     "execution_count": 92,
     "metadata": {},
     "output_type": "execute_result"
    }
   ],
   "source": [
    "foo[0].ORIGIN"
   ]
  },
  {
   "cell_type": "code",
   "execution_count": 127,
   "metadata": {
    "ExecuteTime": {
     "end_time": "2018-08-05T21:35:48.645946Z",
     "start_time": "2018-08-05T21:35:48.573256Z"
    }
   },
   "outputs": [],
   "source": [
    "d_path_rows = []\n",
    "for index, flight in enumerate(d_paths_data.itertuples(index=False)):\n",
    "    path_id = f'{flight.ORIGIN}-{flight.DEST}'\n",
    "    origin = {'PathId':path_id, 'IATA':flight.ORIGIN, 'City':flight.ORIGIN_CITY_NAME, \n",
    "              'Airport':flight.Name_orig, 'Latitude':flight.Latitude_orig, \n",
    "              'Longitude':flight.Longitude_orig, 'CountOfFlights':flight.CountOfFlights,\n",
    "              'PointOrder':0}\n",
    "    dest = {'PathId':path_id, 'IATA':flight.DEST, 'City':flight.DEST_CITY_NAME, \n",
    "            'Airport':flight.Name_dest, 'Latitude':flight.Latitude_dest, \n",
    "            'Longitude':flight.Longitude_dest, 'CountOfFlights':0,\n",
    "            'PointOrder':1}\n",
    "    d_path_rows.append(origin)\n",
    "    d_path_rows.append(dest)\n",
    "    \n",
    "d_paths = pd.DataFrame(d_path_rows)"
   ]
  },
  {
   "cell_type": "code",
   "execution_count": 128,
   "metadata": {
    "ExecuteTime": {
     "end_time": "2018-08-05T21:35:48.834616Z",
     "start_time": "2018-08-05T21:35:48.815468Z"
    }
   },
   "outputs": [
    {
     "data": {
      "text/html": [
       "<div>\n",
       "<style scoped>\n",
       "    .dataframe tbody tr th:only-of-type {\n",
       "        vertical-align: middle;\n",
       "    }\n",
       "\n",
       "    .dataframe tbody tr th {\n",
       "        vertical-align: top;\n",
       "    }\n",
       "\n",
       "    .dataframe thead th {\n",
       "        text-align: right;\n",
       "    }\n",
       "</style>\n",
       "<table border=\"1\" class=\"dataframe\">\n",
       "  <thead>\n",
       "    <tr style=\"text-align: right;\">\n",
       "      <th></th>\n",
       "      <th>Airport</th>\n",
       "      <th>City</th>\n",
       "      <th>CountOfFlights</th>\n",
       "      <th>IATA</th>\n",
       "      <th>Latitude</th>\n",
       "      <th>Longitude</th>\n",
       "      <th>PathId</th>\n",
       "      <th>PointOrder</th>\n",
       "    </tr>\n",
       "  </thead>\n",
       "  <tbody>\n",
       "    <tr>\n",
       "      <th>0</th>\n",
       "      <td>Lehigh Valley International Airport</td>\n",
       "      <td>Allentown/Bethlehem/Easton, PA</td>\n",
       "      <td>128</td>\n",
       "      <td>ABE</td>\n",
       "      <td>40.652100</td>\n",
       "      <td>-75.440804</td>\n",
       "      <td>ABE-ATL</td>\n",
       "      <td>0</td>\n",
       "    </tr>\n",
       "    <tr>\n",
       "      <th>1</th>\n",
       "      <td>Hartsfield Jackson Atlanta International Airport</td>\n",
       "      <td>Atlanta, GA</td>\n",
       "      <td>0</td>\n",
       "      <td>ATL</td>\n",
       "      <td>33.636700</td>\n",
       "      <td>-84.428101</td>\n",
       "      <td>ABE-ATL</td>\n",
       "      <td>1</td>\n",
       "    </tr>\n",
       "    <tr>\n",
       "      <th>2</th>\n",
       "      <td>Lehigh Valley International Airport</td>\n",
       "      <td>Allentown/Bethlehem/Easton, PA</td>\n",
       "      <td>113</td>\n",
       "      <td>ABE</td>\n",
       "      <td>40.652100</td>\n",
       "      <td>-75.440804</td>\n",
       "      <td>ABE-DTW</td>\n",
       "      <td>0</td>\n",
       "    </tr>\n",
       "    <tr>\n",
       "      <th>3</th>\n",
       "      <td>Detroit Metropolitan Wayne County Airport</td>\n",
       "      <td>Detroit, MI</td>\n",
       "      <td>0</td>\n",
       "      <td>DTW</td>\n",
       "      <td>42.212399</td>\n",
       "      <td>-83.353401</td>\n",
       "      <td>ABE-DTW</td>\n",
       "      <td>1</td>\n",
       "    </tr>\n",
       "  </tbody>\n",
       "</table>\n",
       "</div>"
      ],
      "text/plain": [
       "                                            Airport  \\\n",
       "0               Lehigh Valley International Airport   \n",
       "1  Hartsfield Jackson Atlanta International Airport   \n",
       "2               Lehigh Valley International Airport   \n",
       "3         Detroit Metropolitan Wayne County Airport   \n",
       "\n",
       "                             City  CountOfFlights IATA   Latitude  Longitude  \\\n",
       "0  Allentown/Bethlehem/Easton, PA             128  ABE  40.652100 -75.440804   \n",
       "1                     Atlanta, GA               0  ATL  33.636700 -84.428101   \n",
       "2  Allentown/Bethlehem/Easton, PA             113  ABE  40.652100 -75.440804   \n",
       "3                     Detroit, MI               0  DTW  42.212399 -83.353401   \n",
       "\n",
       "    PathId  PointOrder  \n",
       "0  ABE-ATL           0  \n",
       "1  ABE-ATL           1  \n",
       "2  ABE-DTW           0  \n",
       "3  ABE-DTW           1  "
      ]
     },
     "execution_count": 128,
     "metadata": {},
     "output_type": "execute_result"
    }
   ],
   "source": [
    "d_paths[:4]"
   ]
  },
  {
   "cell_type": "code",
   "execution_count": 129,
   "metadata": {
    "ExecuteTime": {
     "end_time": "2018-08-05T21:35:51.244040Z",
     "start_time": "2018-08-05T21:35:51.056382Z"
    }
   },
   "outputs": [],
   "source": [
    "d_paths.to_csv('../data/flight_paths.csv', index=False)"
   ]
  },
  {
   "cell_type": "code",
   "execution_count": null,
   "metadata": {},
   "outputs": [],
   "source": []
  }
 ],
 "metadata": {
  "kernelspec": {
   "display_name": "Python 3",
   "language": "python",
   "name": "python3"
  },
  "language_info": {
   "codemirror_mode": {
    "name": "ipython",
    "version": 3
   },
   "file_extension": ".py",
   "mimetype": "text/x-python",
   "name": "python",
   "nbconvert_exporter": "python",
   "pygments_lexer": "ipython3",
   "version": "3.6.4"
  }
 },
 "nbformat": 4,
 "nbformat_minor": 2
}
